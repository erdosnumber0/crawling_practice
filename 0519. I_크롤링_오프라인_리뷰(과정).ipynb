{
 "cells": [
  {
   "cell_type": "code",
   "execution_count": 1,
   "metadata": {},
   "outputs": [],
   "source": [
    "# 라이브러리 import\n",
    "import pandas as pd\n",
    "import numpy as np\n",
    "\n",
    "from selenium import webdriver\n",
    "from bs4 import BeautifulSoup \n",
    "from tqdm.notebook import tqdm\n",
    "import time\n",
    "import re"
   ]
  },
  {
   "cell_type": "markdown",
   "metadata": {},
   "source": [
    "# 카테고리 담기"
   ]
  },
  {
   "cell_type": "code",
   "execution_count": 2,
   "metadata": {},
   "outputs": [],
   "source": [
    "browser = webdriver.Chrome('C:\\chrome\\chromedriver.exe')\n",
    "url = \"https://www.idus.com/c/category/3\" # 공예\n",
    "browser.get(url)\n",
    "time.sleep(3)\n",
    "\n",
    "html = browser.page_source\n",
    "soup=BeautifulSoup(html, 'html.parser')"
   ]
  },
  {
   "cell_type": "code",
   "execution_count": 3,
   "metadata": {},
   "outputs": [
    {
     "name": "stdout",
     "output_type": "stream",
     "text": [
      "35\n",
      "캔들, 디퓨저, 방향제\n",
      "실크스크린, 염색\n",
      "발향, 룸스프레이\n",
      "자수, 재봉, 펠트\n",
      "뜨개, 마크라메\n",
      "가죽\n",
      "금속, 악세사리\n",
      "네온사인, 와이어\n",
      "유리\n",
      "목공\n",
      "도자기\n",
      "기타\n"
     ]
    }
   ],
   "source": [
    "category_lists = soup.select('div.inner-w.mobile-full ul.side_nav__sublist li.side_nav__submenu a')\n",
    "print(len(category_lists))\n",
    "# print(category_lists[0].text)\n",
    "# print(category_lists[34].text)\n",
    "\n",
    "for i in range(0,12):\n",
    "    print(category_lists[i].text)"
   ]
  },
  {
   "cell_type": "code",
   "execution_count": 6,
   "metadata": {},
   "outputs": [
    {
     "data": {
      "text/html": [
       "<div>\n",
       "<style scoped>\n",
       "    .dataframe tbody tr th:only-of-type {\n",
       "        vertical-align: middle;\n",
       "    }\n",
       "\n",
       "    .dataframe tbody tr th {\n",
       "        vertical-align: top;\n",
       "    }\n",
       "\n",
       "    .dataframe thead th {\n",
       "        text-align: right;\n",
       "    }\n",
       "</style>\n",
       "<table border=\"1\" class=\"dataframe\">\n",
       "  <thead>\n",
       "    <tr style=\"text-align: right;\">\n",
       "      <th></th>\n",
       "      <th>카테고리</th>\n",
       "      <th>category_num</th>\n",
       "    </tr>\n",
       "  </thead>\n",
       "  <tbody>\n",
       "    <tr>\n",
       "      <th>0</th>\n",
       "      <td>캔들, 디퓨저, 방향제</td>\n",
       "      <td>15</td>\n",
       "    </tr>\n",
       "    <tr>\n",
       "      <th>1</th>\n",
       "      <td>실크스크린, 염색</td>\n",
       "      <td>16</td>\n",
       "    </tr>\n",
       "    <tr>\n",
       "      <th>2</th>\n",
       "      <td>발향, 룸스프레이</td>\n",
       "      <td>17</td>\n",
       "    </tr>\n",
       "    <tr>\n",
       "      <th>3</th>\n",
       "      <td>자수, 재봉, 펠트</td>\n",
       "      <td>18</td>\n",
       "    </tr>\n",
       "    <tr>\n",
       "      <th>4</th>\n",
       "      <td>뜨개, 마크라메</td>\n",
       "      <td>19</td>\n",
       "    </tr>\n",
       "    <tr>\n",
       "      <th>5</th>\n",
       "      <td>가죽</td>\n",
       "      <td>20</td>\n",
       "    </tr>\n",
       "    <tr>\n",
       "      <th>6</th>\n",
       "      <td>금속, 악세사리</td>\n",
       "      <td>21</td>\n",
       "    </tr>\n",
       "    <tr>\n",
       "      <th>7</th>\n",
       "      <td>네온사인, 와이어</td>\n",
       "      <td>22</td>\n",
       "    </tr>\n",
       "    <tr>\n",
       "      <th>8</th>\n",
       "      <td>유리</td>\n",
       "      <td>23</td>\n",
       "    </tr>\n",
       "    <tr>\n",
       "      <th>9</th>\n",
       "      <td>목공</td>\n",
       "      <td>24</td>\n",
       "    </tr>\n",
       "    <tr>\n",
       "      <th>10</th>\n",
       "      <td>도자기</td>\n",
       "      <td>25</td>\n",
       "    </tr>\n",
       "    <tr>\n",
       "      <th>11</th>\n",
       "      <td>기타</td>\n",
       "      <td>26</td>\n",
       "    </tr>\n",
       "  </tbody>\n",
       "</table>\n",
       "</div>"
      ],
      "text/plain": [
       "            카테고리  category_num\n",
       "0   캔들, 디퓨저, 방향제            15\n",
       "1      실크스크린, 염색            16\n",
       "2      발향, 룸스프레이            17\n",
       "3     자수, 재봉, 펠트            18\n",
       "4       뜨개, 마크라메            19\n",
       "5             가죽            20\n",
       "6       금속, 악세사리            21\n",
       "7      네온사인, 와이어            22\n",
       "8             유리            23\n",
       "9             목공            24\n",
       "10           도자기            25\n",
       "11            기타            26"
      ]
     },
     "execution_count": 6,
     "metadata": {},
     "output_type": "execute_result"
    }
   ],
   "source": [
    "cat_data = [] # 빈집 만들기 #공예 해당하는 것\n",
    "for i in range(0,12):\n",
    "    cat_list = category_lists[i].text\n",
    "    cat_num = i+15\n",
    "    cat_data.append([cat_list, cat_num])  \n",
    "    \n",
    "columns = ['카테고리','category_num'] \n",
    "# \"https://www.idus.com/c/category/3\" / 카테고리 넘버 입력시 그 페이지로 이동함\n",
    "cat_df = pd.DataFrame(cat_data, columns=columns)\n",
    "cat_df"
   ]
  },
  {
   "cell_type": "markdown",
   "metadata": {},
   "source": [
    "# url 사용자 함수 만들기"
   ]
  },
  {
   "cell_type": "code",
   "execution_count": 95,
   "metadata": {},
   "outputs": [],
   "source": [
    "import time\n",
    "import pandas as pd\n",
    "import re\n",
    "\n",
    "def collect_url(page):\n",
    "    start = time.time()\n",
    "    url = f'https://www.idus.com/c/category/3/{page}'\n",
    "    #  url 접속\n",
    "    browser = webdriver.Chrome('C:\\chrome\\chromedriver.exe')\n",
    "    browser.get(url)\n",
    "    time.sleep(2)\n",
    "    html = browser.page_source\n",
    "    soup = BeautifulSoup(html, 'html.parser')\n",
    "       \n",
    "    # 현재 문서 높이를 가져와서 저장\n",
    "    prev_height = browser.execute_script(\"return document.body.scrollHeight\")\n",
    "\n",
    "    while True:\n",
    "        # 스크롤을 가장 아래로 내림\n",
    "        browser.execute_script(\"window.scrollTo(0, document.body.scrollHeight)\")\n",
    "\n",
    "        # 페이지 로딩 대기\n",
    "        time.sleep(interval)\n",
    "\n",
    "        # 현재 문서 높이를 가져와서 저장\n",
    "        curr_height = browser.execute_script(\"return document.body.scrollHeight\")\n",
    "        if curr_height == prev_height:\n",
    "            break\n",
    "\n",
    "        prev_height = curr_height\n",
    "\n",
    "        \n",
    "    #url들 수집\n",
    "    url_data =[]\n",
    "    page = f'{page}'\n",
    "\n",
    "    # URL_raw 크롤링 시작\n",
    "    articles = \".ui_card__title\" # 중간에 띄어쓰기는 .으로 대체\n",
    "    article_raw = browser.find_elements_by_css_selector(articles)\n",
    "    article_raw[0]\\\n",
    "\n",
    "    # 1초 쉬어 주고,\n",
    "    time.sleep(1)\n",
    "\n",
    "    # 크롤링한 url 정제 시작\n",
    "    for article in article_raw:\n",
    "        url = article.get_attribute('href')  \n",
    "        title = article.text\n",
    "        title = re.sub(r\"[^ㄱ-ㅎ|ㅏ-ㅣ|가-힣|A-Z|a-z|0-9|.|,| ]\", \" \", title)\n",
    "        url_data.append([page, url, title])\n",
    "\n",
    "    # 데이터 프레임 만들기\n",
    "    columns = ['category_num', 'url', 'title']\n",
    "    df = pd.DataFrame(url_data, columns = columns)\n",
    "\n",
    "    # 데이터 프레임 저장하기   \n",
    "    df_name = './re_url/idus_{}.xlsx'.format(page) # url 폴더 생성하거나 지워서 run\n",
    "    df.to_excel(df_name, index=False) #,engine='openpyxl'\n",
    "    \n",
    "    end = time.time() - start\n",
    "    print(\"used time: %dm%ds\" % divmod(end,60))\n",
    "    return(df)\n",
    "\n",
    "    "
   ]
  },
  {
   "cell_type": "code",
   "execution_count": null,
   "metadata": {},
   "outputs": [],
   "source": [
    "for i in range(15,27):\n",
    "    collect_url(i)    "
   ]
  },
  {
   "cell_type": "code",
   "execution_count": null,
   "metadata": {},
   "outputs": [],
   "source": [
    "# url 합치기\n",
    "url_df = pd.DataFrame([])\n",
    "\n",
    "\n",
    "for i in range(15,27):\n",
    "    folder = './idus/'\n",
    "    f_list = 'idus_{}.xlsx'.format(i)\n",
    "    f_path = folder+f_list\n",
    "    temp = pd.read_excel(f_path)\n",
    "    url_df = url_df.append(temp)  \n",
    "url_df.info()"
   ]
  },
  {
   "cell_type": "code",
   "execution_count": null,
   "metadata": {},
   "outputs": [],
   "source": [
    "url_df.to_excel('./idus/url_all.xlsx', index=False)"
   ]
  },
  {
   "cell_type": "code",
   "execution_count": 109,
   "metadata": {},
   "outputs": [
    {
     "data": {
      "text/html": [
       "<div>\n",
       "<style scoped>\n",
       "    .dataframe tbody tr th:only-of-type {\n",
       "        vertical-align: middle;\n",
       "    }\n",
       "\n",
       "    .dataframe tbody tr th {\n",
       "        vertical-align: top;\n",
       "    }\n",
       "\n",
       "    .dataframe thead th {\n",
       "        text-align: right;\n",
       "    }\n",
       "</style>\n",
       "<table border=\"1\" class=\"dataframe\">\n",
       "  <thead>\n",
       "    <tr style=\"text-align: right;\">\n",
       "      <th></th>\n",
       "      <th>category_num</th>\n",
       "      <th>url</th>\n",
       "      <th>title</th>\n",
       "    </tr>\n",
       "  </thead>\n",
       "  <tbody>\n",
       "    <tr>\n",
       "      <th>0</th>\n",
       "      <td>15</td>\n",
       "      <td>https://www.idus.com/c/class/4068</td>\n",
       "      <td>향기로운 플라워타블렛과 섬유향수만들기</td>\n",
       "    </tr>\n",
       "    <tr>\n",
       "      <th>1</th>\n",
       "      <td>15</td>\n",
       "      <td>https://www.idus.com/c/class/3350</td>\n",
       "      <td>반짝반짝, 크리스탈캔들 패브릭미스트 클래스</td>\n",
       "    </tr>\n",
       "    <tr>\n",
       "      <th>2</th>\n",
       "      <td>15</td>\n",
       "      <td>https://www.idus.com/c/class/964</td>\n",
       "      <td>경복궁역 향기 가득 플라워 왁스 타블렛 만들기</td>\n",
       "    </tr>\n",
       "    <tr>\n",
       "      <th>3</th>\n",
       "      <td>15</td>\n",
       "      <td>https://www.idus.com/c/class/4552</td>\n",
       "      <td>달콤 디저트 까눌레 캔들 톰과제리 치즈캔들 만들기</td>\n",
       "    </tr>\n",
       "    <tr>\n",
       "      <th>4</th>\n",
       "      <td>15</td>\n",
       "      <td>https://www.idus.com/c/class/3894</td>\n",
       "      <td>건대입구  젤캔들 홀더와 티라이트4개 원데이클래스</td>\n",
       "    </tr>\n",
       "    <tr>\n",
       "      <th>...</th>\n",
       "      <td>...</td>\n",
       "      <td>...</td>\n",
       "      <td>...</td>\n",
       "    </tr>\n",
       "    <tr>\n",
       "      <th>449</th>\n",
       "      <td>26</td>\n",
       "      <td>https://www.idus.com/c/class/1998</td>\n",
       "      <td>부산 라탄원목트레이</td>\n",
       "    </tr>\n",
       "    <tr>\n",
       "      <th>450</th>\n",
       "      <td>26</td>\n",
       "      <td>https://www.idus.com/c/class/1896</td>\n",
       "      <td>힐링라탄 감성소품 미니스탠드 원데이클래스</td>\n",
       "    </tr>\n",
       "    <tr>\n",
       "      <th>451</th>\n",
       "      <td>26</td>\n",
       "      <td>https://www.idus.com/c/class/1688</td>\n",
       "      <td>힐링라탄 타원트레이</td>\n",
       "    </tr>\n",
       "    <tr>\n",
       "      <th>452</th>\n",
       "      <td>26</td>\n",
       "      <td>https://www.idus.com/c/class/729</td>\n",
       "      <td>레진머리핀 3개  내 맘에 쏘 옥 드는 레진 머리핀을 만들자</td>\n",
       "    </tr>\n",
       "    <tr>\n",
       "      <th>453</th>\n",
       "      <td>26</td>\n",
       "      <td>https://www.idus.com/c/class/629</td>\n",
       "      <td>공간을 그리다. 나만의 작품 만들기  와이어아트</td>\n",
       "    </tr>\n",
       "  </tbody>\n",
       "</table>\n",
       "<p>454 rows × 3 columns</p>\n",
       "</div>"
      ],
      "text/plain": [
       "     category_num                                url  \\\n",
       "0              15  https://www.idus.com/c/class/4068   \n",
       "1              15  https://www.idus.com/c/class/3350   \n",
       "2              15   https://www.idus.com/c/class/964   \n",
       "3              15  https://www.idus.com/c/class/4552   \n",
       "4              15  https://www.idus.com/c/class/3894   \n",
       "..            ...                                ...   \n",
       "449            26  https://www.idus.com/c/class/1998   \n",
       "450            26  https://www.idus.com/c/class/1896   \n",
       "451            26  https://www.idus.com/c/class/1688   \n",
       "452            26   https://www.idus.com/c/class/729   \n",
       "453            26   https://www.idus.com/c/class/629   \n",
       "\n",
       "                                     title  \n",
       "0                     향기로운 플라워타블렛과 섬유향수만들기  \n",
       "1                  반짝반짝, 크리스탈캔들 패브릭미스트 클래스  \n",
       "2                경복궁역 향기 가득 플라워 왁스 타블렛 만들기  \n",
       "3              달콤 디저트 까눌레 캔들 톰과제리 치즈캔들 만들기  \n",
       "4              건대입구  젤캔들 홀더와 티라이트4개 원데이클래스  \n",
       "..                                     ...  \n",
       "449                             부산 라탄원목트레이  \n",
       "450                 힐링라탄 감성소품 미니스탠드 원데이클래스  \n",
       "451                             힐링라탄 타원트레이  \n",
       "452   레진머리핀 3개  내 맘에 쏘 옥 드는 레진 머리핀을 만들자     \n",
       "453            공간을 그리다. 나만의 작품 만들기  와이어아트   \n",
       "\n",
       "[454 rows x 3 columns]"
      ]
     },
     "execution_count": 109,
     "metadata": {},
     "output_type": "execute_result"
    }
   ],
   "source": [
    "url_df=pd.read_excel('./idus/url_all.xlsx', index=False)\n",
    "url_df"
   ]
  },
  {
   "cell_type": "markdown",
   "metadata": {},
   "source": [
    "# 댓글 내용 크롤링(연습)"
   ]
  },
  {
   "cell_type": "code",
   "execution_count": 103,
   "metadata": {},
   "outputs": [],
   "source": [
    "url = 'https://www.idus.com/c/class/3810'# 댓글이 60개가량 있는 글 하나를 예시로 가져옴\n",
    "driver = webdriver.Chrome('C:\\chrome\\chromedriver.exe')  # 윈도우는 \"chromedriver.exe\"\n",
    "driver.get(url)"
   ]
  },
  {
   "cell_type": "code",
   "execution_count": 104,
   "metadata": {},
   "outputs": [],
   "source": [
    "driver.find_element_by_link_text(\"참여후기\").click( )\n",
    "time.sleep(1)\n",
    "# n: 반복할 횟수 설정\n",
    "n = 4\n",
    "i = 0\n",
    "while i < n: # 이 조건이 만족되는 동안 반복 실행\n",
    "    try:\n",
    "        time.sleep(2)\n",
    "        driver.find_element_by_css_selector(\"#edu-review > div.pagination > div > button > span\").click( )\n",
    "        i = i+1\n",
    "       \n",
    "    except:\n",
    "        break"
   ]
  },
  {
   "cell_type": "code",
   "execution_count": 35,
   "metadata": {},
   "outputs": [],
   "source": [
    "# 제목 크롤링 시작\n",
    "overlays = \"h2.sticky_aside__title\"                                 \n",
    "tit = driver.find_element_by_css_selector(overlays)          # title\n",
    "title = tit.text\n",
    "title = re.sub(r\"[^ㄱ-ㅎ|ㅏ-ㅣ|가-힣|A-Z|a-z|0-9| ]\", \"\", title)"
   ]
  },
  {
   "cell_type": "code",
   "execution_count": 36,
   "metadata": {},
   "outputs": [
    {
     "data": {
      "text/plain": [
       "'전문 네온공예교육 스무디 20diy 강남점'"
      ]
     },
     "execution_count": 36,
     "metadata": {},
     "output_type": "execute_result"
    }
   ],
   "source": [
    "title"
   ]
  },
  {
   "cell_type": "code",
   "execution_count": 44,
   "metadata": {},
   "outputs": [
    {
     "data": {
      "text/plain": [
       "23"
      ]
     },
     "execution_count": 44,
     "metadata": {},
     "output_type": "execute_result"
    }
   ],
   "source": [
    "comments = driver.find_elements_by_css_selector('ul.list-style-review>li')\n",
    "len(comments)"
   ]
  },
  {
   "cell_type": "code",
   "execution_count": 46,
   "metadata": {},
   "outputs": [
    {
     "data": {
      "text/plain": [
       "[<selenium.webdriver.remote.webelement.WebElement (session=\"12cdd7b2086c18a148c1f23714868cc0\", element=\"2b6cb7d4-cd98-4d98-bd3a-d945e3444936\")>,\n",
       " <selenium.webdriver.remote.webelement.WebElement (session=\"12cdd7b2086c18a148c1f23714868cc0\", element=\"85263397-431f-42fe-8e27-f2ece1d02871\")>,\n",
       " <selenium.webdriver.remote.webelement.WebElement (session=\"12cdd7b2086c18a148c1f23714868cc0\", element=\"f634b2dc-713d-4575-abe7-944efb8a5c40\")>,\n",
       " <selenium.webdriver.remote.webelement.WebElement (session=\"12cdd7b2086c18a148c1f23714868cc0\", element=\"8ce20311-2464-44f8-8853-49b4ad0f0cc4\")>,\n",
       " <selenium.webdriver.remote.webelement.WebElement (session=\"12cdd7b2086c18a148c1f23714868cc0\", element=\"53a5bd2a-40bb-4f03-a19f-e1a373faedf4\")>,\n",
       " <selenium.webdriver.remote.webelement.WebElement (session=\"12cdd7b2086c18a148c1f23714868cc0\", element=\"d3318a17-94ca-4954-a2ec-69f6ee3875bf\")>,\n",
       " <selenium.webdriver.remote.webelement.WebElement (session=\"12cdd7b2086c18a148c1f23714868cc0\", element=\"e4d82e1c-9650-454d-88f3-91e3e64e39e5\")>,\n",
       " <selenium.webdriver.remote.webelement.WebElement (session=\"12cdd7b2086c18a148c1f23714868cc0\", element=\"526f7669-ffd8-4762-a8e1-89628408b97d\")>,\n",
       " <selenium.webdriver.remote.webelement.WebElement (session=\"12cdd7b2086c18a148c1f23714868cc0\", element=\"918eae2d-1d36-4a79-b083-6f345c1b6106\")>,\n",
       " <selenium.webdriver.remote.webelement.WebElement (session=\"12cdd7b2086c18a148c1f23714868cc0\", element=\"dfaee4c6-379d-448a-b494-f3219741f0b1\")>,\n",
       " <selenium.webdriver.remote.webelement.WebElement (session=\"12cdd7b2086c18a148c1f23714868cc0\", element=\"03cb9a6e-ca16-44e0-9d1b-3c6ea1a0dded\")>,\n",
       " <selenium.webdriver.remote.webelement.WebElement (session=\"12cdd7b2086c18a148c1f23714868cc0\", element=\"3e83f2ce-14df-4ed7-bc1e-8e44b35acc2e\")>,\n",
       " <selenium.webdriver.remote.webelement.WebElement (session=\"12cdd7b2086c18a148c1f23714868cc0\", element=\"f07983af-21d0-487f-83f3-25fff5b2a674\")>,\n",
       " <selenium.webdriver.remote.webelement.WebElement (session=\"12cdd7b2086c18a148c1f23714868cc0\", element=\"47a4c63c-ffa5-48f0-80e2-2f48ddd842e0\")>,\n",
       " <selenium.webdriver.remote.webelement.WebElement (session=\"12cdd7b2086c18a148c1f23714868cc0\", element=\"210d6436-81e5-4937-a177-e1b764f757a0\")>,\n",
       " <selenium.webdriver.remote.webelement.WebElement (session=\"12cdd7b2086c18a148c1f23714868cc0\", element=\"37f49e6f-5ff1-4797-8123-68211c33877f\")>,\n",
       " <selenium.webdriver.remote.webelement.WebElement (session=\"12cdd7b2086c18a148c1f23714868cc0\", element=\"f43632e3-2f71-4ae8-921f-2292f390f1cd\")>,\n",
       " <selenium.webdriver.remote.webelement.WebElement (session=\"12cdd7b2086c18a148c1f23714868cc0\", element=\"35b1fa53-ddc2-49e5-a9b0-dfb9bc59fcbb\")>,\n",
       " <selenium.webdriver.remote.webelement.WebElement (session=\"12cdd7b2086c18a148c1f23714868cc0\", element=\"d6cf7808-c64c-47f0-a9a7-9a5a7ad698b0\")>,\n",
       " <selenium.webdriver.remote.webelement.WebElement (session=\"12cdd7b2086c18a148c1f23714868cc0\", element=\"13676ce7-ae3b-4b77-a6de-7bf60964d347\")>,\n",
       " <selenium.webdriver.remote.webelement.WebElement (session=\"12cdd7b2086c18a148c1f23714868cc0\", element=\"ff919888-c4b8-4a35-a75c-c8700b29b162\")>,\n",
       " <selenium.webdriver.remote.webelement.WebElement (session=\"12cdd7b2086c18a148c1f23714868cc0\", element=\"9b4f8ea4-a614-4e04-9423-dbe0c9d2705f\")>,\n",
       " <selenium.webdriver.remote.webelement.WebElement (session=\"12cdd7b2086c18a148c1f23714868cc0\", element=\"e8e7c2bf-e224-4409-a1d2-cda3d573725c\")>]"
      ]
     },
     "execution_count": 46,
     "metadata": {},
     "output_type": "execute_result"
    }
   ],
   "source": [
    "comments"
   ]
  },
  {
   "cell_type": "code",
   "execution_count": 63,
   "metadata": {},
   "outputs": [],
   "source": [
    "comment=comments[0]"
   ]
  },
  {
   "cell_type": "code",
   "execution_count": 93,
   "metadata": {},
   "outputs": [
    {
     "data": {
      "text/plain": [
       "'서지혜'"
      ]
     },
     "execution_count": 93,
     "metadata": {},
     "output_type": "execute_result"
    }
   ],
   "source": [
    "nickname =comment.find_elements_by_css_selector('a > div.clf > div > div.txt-block > em')[0].text\n",
    "nickname"
   ]
  },
  {
   "cell_type": "code",
   "execution_count": 91,
   "metadata": {},
   "outputs": [
    {
     "data": {
      "text/plain": [
       "'위치가 좋인 찾아가기도 쉽고~아주 친절하게 알려주세요^-^1대1로 배우니 빠르게 진행되어 어려운 도안이었지만 시간 오버되지 않았네요! 감사합니다~ 기회되면 다른체험도 하러 재방문 할께요!너무나 만족스런 작품이 나와 기분 좋은 주말 저녁이었답니다^-^'"
      ]
     },
     "execution_count": 91,
     "metadata": {},
     "output_type": "execute_result"
    }
   ],
   "source": [
    "content = comment.find_elements_by_css_selector('a > div.area-txt > div > span')[0].text\n",
    "content"
   ]
  },
  {
   "cell_type": "code",
   "execution_count": 94,
   "metadata": {},
   "outputs": [
    {
     "data": {
      "text/plain": [
       "'5'"
      ]
     },
     "execution_count": 94,
     "metadata": {},
     "output_type": "execute_result"
    }
   ],
   "source": [
    "like = comment.find_elements_by_css_selector('a > div.clf > span')[0].get_attribute('data-value')\n",
    "like"
   ]
  },
  {
   "cell_type": "code",
   "execution_count": 99,
   "metadata": {},
   "outputs": [
    {
     "data": {
      "text/plain": [
       "'2020년 6월 12일'"
      ]
     },
     "execution_count": 99,
     "metadata": {},
     "output_type": "execute_result"
    }
   ],
   "source": [
    "date = comment.find_elements_by_css_selector('a > div.clf > div > div.txt-block > time')[0].text\n",
    "date"
   ]
  },
  {
   "cell_type": "code",
   "execution_count": 105,
   "metadata": {},
   "outputs": [
    {
     "name": "stdout",
     "output_type": "stream",
     "text": [
      "전문 네온공예교육 스무디 20diy 강남점|서지혜|2021년 4월 12일|5|위치가 좋인 찾아가기도 쉽고아주 친절하게 알려주세요1대1로 배우니 빠르게 진행되어 어려운 도안이었지만 시간 오버되지 않았네요 감사합니다 기회되면 다른체험도 하러 재방문 할께요너무나 만족스런 작품이 나와 기분 좋은 주말 저녁이었답니다\n",
      "전문 네온공예교육 스무디 20diy 강남점|유혜린|2021년 4월 11일|5|어떻게 만들건지 같이 도안짜주시고 친절하게 잘알려주셨어여 만든 작품도 맘에 들고 담에 또 방문해서 만들고싶네요 재밌고 즐거운 경험이었습니다\n",
      "전문 네온공예교육 스무디 20diy 강남점|한유진|2021년 3월 15일|4|이제 곧 이사가는데 이사갈 집에 부엌이랑 방에 걸어두면 좋을 것 같아서 중학생 막내랑 같이가서 만들어보았어용생각보다 너무 어려웠긴 했지만.. 결과물보니 넘 예쁘드라구요글자색이랑 캐릭터색에 입힐 네온선이 하나로는 부족할 것 같아서 네온선색상 각각 2개씩 추가해서 10000원씩 2만원 추가비용내고 만들었답니다아이디어스를 통해 만들기체험은 처음이라 리뷰도 처음 달아보네요 번창하세요\n",
      "전문 네온공예교육 스무디 20diy 강남점|율s|2021년 2월 14일|4|클래스 자체는 정말 새롭고 재미있어서 또 가고 싶어졌습니다 도안도 가서 직접 고르거나 미리 골라간 뒤 인쇄할 수 있어 매우 편합니다.다만, 만들기에 너무 열중한 나머지 현장에서는 미처 인식하지 못한 점이 있었는데, 환기가 전혀 안 된다는 것입니다. 현관문을 닫아놓는 것은 물론 창문도 없는 좁은 방에 체험생 6명과 선생님 한 분까지 총 7명이 있으니 공기가 답답해질 수 밖에 없었습니다. 이를 미리 인지했다면 환기를 건의 드렸을텐데 답답함도 잊고 만들기에 집중할만큼 너무 재미있었습니다\n",
      "전문 네온공예교육 스무디 20diy 강남점|홍지윤|2021년 2월 7일|5|작가님이 친절하게 알려주세요친구랑 가서 좋은 추억 만들고 왔습니당ㅎㅎㅎ\n",
      "전문 네온공예교육 스무디 20diy 강남점|서유현|2021년 1월 28일|5|여태껏 가본 원데이 클래스 중에 최고였어요가격도 저렴하고, 친절하시고, 너무 재밌어요  예상보다 오래걸려서 조금 당황했지만,끝까지 기다려주시고 도와주셔서 너무 감사했습니다 네온사인 만들어보고싶으셨던 분이라면 너무너무너무 추천합니다 생각보다 재료도 많이 필요하더라구요..꼭 추천드려요 다시 가고싶네요\n",
      "전문 네온공예교육 스무디 20diy 강남점|정지원|2021년 1월 11일|5|재밌기도하구 시간가는줄 모르구 했어요결과물도 생각보다 너무 이쁘구요아주 만족했습니다\n",
      "전문 네온공예교육 스무디 20diy 강남점|김유진|2020년 11월 30일|5|네개의 테이블로 수업이 소수로 진행되어 꼼꼼히 설명해주시고 수업 중간에도 모두 잘 봐주셔서 좋은 작품을 만들 수 있었어요  이제 네온사인 만드는 방법을 알게되어 혼자서도 할 수 있을 것 같아요. 위치도 강남역 근처로 주차장도 있고 찾기 쉬워 좋았어요 모두에게 추천드립니다.\n",
      "전문 네온공예교육 스무디 20diy 강남점|HI|2020년 10월 23일|5|저흰 홍대점에서 체험했습니다 저희가 정신없이 구는 와중에도 선생님이 너무 차분하게 알려 주셔서 좋았어요 도안도 바로바로 출력해주셔서 감동..ㅠㅠ 단계단계마다 선생님이 주의사항과 꿀팁 자세히 알려주셔서 쉽게 잘 만들수 있었어요 감사해요 덕분에 즐거운 추억과 기념품을 갖게되서 기분이 좋아요 친구들과 하루종일 기분좋게 웃으면서 놀았어요감사해요다음에 기회되면 또 신청할게요\n",
      "전문 네온공예교육 스무디 20diy 강남점|채영|2020년 10월 19일|5|선생님이 너무 친절하시고 재밌었어요 설명도 쉽게 해주시고 도와주시고ㅎㅎ친구랑 재밌는 추억 쌓아서 좋았어요\n",
      "전문 네온공예교육 스무디 20diy 강남점|장연주|2020년 10월 11일|5|생각보다 어렵지 않았고, 가격도 적정해서 만들기에 부담이 없었어요 실제로 봤을 때 색상도 너무 이쁘고, 사진으로 담기지 않을 만큼 예뻐요 설치했을 때도 무드있고, 마지막에 비닐에 담아주셨는데 작가님 센스가 짱이에용  하고싶은 디자인으로 만들어간거라 더 맘에 드는 것 같아요다음에도 참가할 의향 100 입니다 \n",
      "전문 네온공예교육 스무디 20diy 강남점|이지민|2020년 9월 27일|5|늦어서 죄송해요ㅠ 근처에서 헤맸네요 친절하시구 재밌었어용다음에도 가고 싶어요\n",
      "전문 네온공예교육 스무디 20diy 강남점|장현일|2020년 9월 26일|5|너무너무 재밋어요 선생님두 친절하시구 좋은추억만들고갑니당ㅎㅎㅎㅎ\n",
      "전문 네온공예교육 스무디 20diy 강남점|Sy|2020년 9월 25일|5|제가 원하는 작품이라 맘에 들어ㅠㅠ요\n",
      "전문 네온공예교육 스무디 20diy 강남점|오현주|2020년 9월 22일|5|강사님도 너무 친절하시고 친구들과 재밌는 추억 쌓아서 너무 좋았어요 \n",
      "전문 네온공예교육 스무디 20diy 강남점|정 지 화|2020년 9월 21일|5|친구가 가게를 오픈해 선물용으로 만든 네온사인이에요일단 너무 재밌어요중간중간 힘들어서 포기하고 싶기도 했지만선생님께서 친절히 설명해주시고,결과물보니 뿌뜻하고 하길 잘했단 생각이 들었어요\n",
      "전문 네온공예교육 스무디 20diy 강남점|우지원|2020년 8월 22일|5|8월 20일 체험했어요처음 해보는 거여서 질문세례에 도움을 많이 요청했었는데 친절하게 알려주셔서 너무 감사했어요시간안에 완성하지못해서 1시간이나 더 있었는데도 끝까지 알려주셔서 예쁘게 완성할수있었습니당\n",
      "전문 네온공예교육 스무디 20diy 강남점|임주리|2020년 8월 9일|5|예약을 했는데 주차때문에 난감한 상황에 강서점으로 안내해주셔서 너무 감사했어요. 네명이 우르르가서 질문폭탄 던지며 정신없게 했는데 전혀 당황하지 않으시고 처음부터 끝까지 잘 알려주셨어요. 완성하는데 총 3시간정도 걸린거같아요ㅎㅎ저희때문에 퇴근이 늦어지신거같아 죄송했습니다ㅠ선생님 덕분에 똥손 4명 모두 완성했습니다 만들어놓고 보니 너무 뿌듯하고 너무너무 이뻐요 대만족입니다 저희는 여자둘,남자둘이였는데요. 손크고 손재주 없으신 분들도 누구나 하실수있어요. 도전하세요. 제발ㅋㅋㅋ\n",
      "전문 네온공예교육 스무디 20diy 강남점|이윤희|2020년 8월 4일|5|너무 재미있는 체험이었어요 모르는 것도 알기쉽게 설명해주시고 예쁘게 만들 수 있게 도와주셔서 좋았어요 원하는대로 나온 것 같아서 뿌듯해요.\n",
      "전문 네온공예교육 스무디 20diy 강남점|곽영진|2020년 7월 28일|5|생각보다 너무 재미있고 쉬웠습니다 친구들이랑 다같이 가도 좋을것 같아요 마음에 드는 도안을 가져가면 친절히 설명해 주셔서 한결 작업하기 쉬웠습니다. 다음에 또 방문하고 싶어용\n",
      "전문 네온공예교육 스무디 20diy 강남점|옥이|2020년 6월 23일|5|처음 만들어보는데 재밌네요선생님도 친절하시고 재밌었어용\n",
      "전문 네온공예교육 스무디 20diy 강남점|이수경|2020년 6월 13일|4|처음해봤는데 재밌었어요 만들고나니 뿌듯하고 예쁘네요 \n",
      "전문 네온공예교육 스무디 20diy 강남점|가룡|2020년 6월 12일|4|참여했던 클래스중에 가장 만족도가 높았어요골라간 도안이 너무 어려워서안된다고 거절당하긴했지만...클래스 끝나는 시간에 겨우겨우 맞춰서ㅠㅠ강사님께 눈치가 좀 보였지만.그래도 두번째로 하고싶었던 작품해서 좋았습니다\n"
     ]
    }
   ],
   "source": [
    "comments = driver.find_elements_by_css_selector('ul.list-style-review>li')\n",
    "for comment in comments:\n",
    "    # 제목 크롤링 시작\n",
    "    overlays = \"h2.sticky_aside__title\"                                 \n",
    "    tit = driver.find_element_by_css_selector(overlays)          # title\n",
    "    title = tit.text\n",
    "    title = re.sub(r\"[^ㄱ-ㅎ|ㅏ-ㅣ|가-힣|A-Z|a-z|0-9| ]\", \"\", title)\n",
    "    \n",
    "    nick = comment.find_elements_by_css_selector('a > div.clf > div > div.txt-block > em')[0].text\n",
    "    nick = re.sub(r\"[^ㄱ-ㅎ|ㅏ-ㅣ|가-힣|A-Z|a-z|0-9|.|,| ]\", \"\", nick)\n",
    "    \n",
    "    date = comment.find_elements_by_css_selector('a > div.clf > div > div.txt-block > time')[0].text\n",
    "    \n",
    "    like = comment.find_elements_by_css_selector('a > div.clf > span')[0].get_attribute('data-value')\n",
    "    \n",
    "    content = comment.find_elements_by_css_selector('a > div.area-txt > div > span')[0].text\n",
    "    content = re.sub(r\"[^ㄱ-ㅎ|ㅏ-ㅣ|가-힣|A-Z|a-z|0-9|.|,| ]\", \"\", content)\n",
    "    \n",
    "    print(title,nick, date, like, content,sep='|')"
   ]
  },
  {
   "cell_type": "markdown",
   "metadata": {},
   "source": [
    "# 합치기"
   ]
  },
  {
   "cell_type": "code",
   "execution_count": 2,
   "metadata": {},
   "outputs": [
    {
     "data": {
      "text/html": [
       "<div>\n",
       "<style scoped>\n",
       "    .dataframe tbody tr th:only-of-type {\n",
       "        vertical-align: middle;\n",
       "    }\n",
       "\n",
       "    .dataframe tbody tr th {\n",
       "        vertical-align: top;\n",
       "    }\n",
       "\n",
       "    .dataframe thead th {\n",
       "        text-align: right;\n",
       "    }\n",
       "</style>\n",
       "<table border=\"1\" class=\"dataframe\">\n",
       "  <thead>\n",
       "    <tr style=\"text-align: right;\">\n",
       "      <th></th>\n",
       "      <th>category_num</th>\n",
       "      <th>url</th>\n",
       "      <th>title</th>\n",
       "    </tr>\n",
       "  </thead>\n",
       "  <tbody>\n",
       "    <tr>\n",
       "      <th>0</th>\n",
       "      <td>15</td>\n",
       "      <td>https://www.idus.com/c/class/4068</td>\n",
       "      <td>향기로운 플라워타블렛과 섬유향수만들기</td>\n",
       "    </tr>\n",
       "    <tr>\n",
       "      <th>1</th>\n",
       "      <td>15</td>\n",
       "      <td>https://www.idus.com/c/class/3350</td>\n",
       "      <td>반짝반짝, 크리스탈캔들 패브릭미스트 클래스</td>\n",
       "    </tr>\n",
       "    <tr>\n",
       "      <th>2</th>\n",
       "      <td>15</td>\n",
       "      <td>https://www.idus.com/c/class/964</td>\n",
       "      <td>경복궁역 향기 가득 플라워 왁스 타블렛 만들기</td>\n",
       "    </tr>\n",
       "    <tr>\n",
       "      <th>3</th>\n",
       "      <td>15</td>\n",
       "      <td>https://www.idus.com/c/class/4552</td>\n",
       "      <td>달콤 디저트 까눌레 캔들 톰과제리 치즈캔들 만들기</td>\n",
       "    </tr>\n",
       "    <tr>\n",
       "      <th>4</th>\n",
       "      <td>15</td>\n",
       "      <td>https://www.idus.com/c/class/3894</td>\n",
       "      <td>건대입구  젤캔들 홀더와 티라이트4개 원데이클래스</td>\n",
       "    </tr>\n",
       "    <tr>\n",
       "      <th>...</th>\n",
       "      <td>...</td>\n",
       "      <td>...</td>\n",
       "      <td>...</td>\n",
       "    </tr>\n",
       "    <tr>\n",
       "      <th>449</th>\n",
       "      <td>26</td>\n",
       "      <td>https://www.idus.com/c/class/1998</td>\n",
       "      <td>부산 라탄원목트레이</td>\n",
       "    </tr>\n",
       "    <tr>\n",
       "      <th>450</th>\n",
       "      <td>26</td>\n",
       "      <td>https://www.idus.com/c/class/1896</td>\n",
       "      <td>힐링라탄 감성소품 미니스탠드 원데이클래스</td>\n",
       "    </tr>\n",
       "    <tr>\n",
       "      <th>451</th>\n",
       "      <td>26</td>\n",
       "      <td>https://www.idus.com/c/class/1688</td>\n",
       "      <td>힐링라탄 타원트레이</td>\n",
       "    </tr>\n",
       "    <tr>\n",
       "      <th>452</th>\n",
       "      <td>26</td>\n",
       "      <td>https://www.idus.com/c/class/729</td>\n",
       "      <td>레진머리핀 3개  내 맘에 쏘 옥 드는 레진 머리핀을 만들자</td>\n",
       "    </tr>\n",
       "    <tr>\n",
       "      <th>453</th>\n",
       "      <td>26</td>\n",
       "      <td>https://www.idus.com/c/class/629</td>\n",
       "      <td>공간을 그리다. 나만의 작품 만들기  와이어아트</td>\n",
       "    </tr>\n",
       "  </tbody>\n",
       "</table>\n",
       "<p>454 rows × 3 columns</p>\n",
       "</div>"
      ],
      "text/plain": [
       "     category_num                                url  \\\n",
       "0              15  https://www.idus.com/c/class/4068   \n",
       "1              15  https://www.idus.com/c/class/3350   \n",
       "2              15   https://www.idus.com/c/class/964   \n",
       "3              15  https://www.idus.com/c/class/4552   \n",
       "4              15  https://www.idus.com/c/class/3894   \n",
       "..            ...                                ...   \n",
       "449            26  https://www.idus.com/c/class/1998   \n",
       "450            26  https://www.idus.com/c/class/1896   \n",
       "451            26  https://www.idus.com/c/class/1688   \n",
       "452            26   https://www.idus.com/c/class/729   \n",
       "453            26   https://www.idus.com/c/class/629   \n",
       "\n",
       "                                     title  \n",
       "0                     향기로운 플라워타블렛과 섬유향수만들기  \n",
       "1                  반짝반짝, 크리스탈캔들 패브릭미스트 클래스  \n",
       "2                경복궁역 향기 가득 플라워 왁스 타블렛 만들기  \n",
       "3              달콤 디저트 까눌레 캔들 톰과제리 치즈캔들 만들기  \n",
       "4              건대입구  젤캔들 홀더와 티라이트4개 원데이클래스  \n",
       "..                                     ...  \n",
       "449                             부산 라탄원목트레이  \n",
       "450                 힐링라탄 감성소품 미니스탠드 원데이클래스  \n",
       "451                             힐링라탄 타원트레이  \n",
       "452   레진머리핀 3개  내 맘에 쏘 옥 드는 레진 머리핀을 만들자     \n",
       "453            공간을 그리다. 나만의 작품 만들기  와이어아트   \n",
       "\n",
       "[454 rows x 3 columns]"
      ]
     },
     "execution_count": 2,
     "metadata": {},
     "output_type": "execute_result"
    }
   ],
   "source": [
    "# url 불러오기\n",
    "url_df=pd.read_excel('./idus/url_all.xlsx',engine='openpyxl')\n",
    "url_df"
   ]
  },
  {
   "cell_type": "code",
   "execution_count": null,
   "metadata": {},
   "outputs": [
    {
     "name": "stdout",
     "output_type": "stream",
     "text": [
      "454\n"
     ]
    },
    {
     "data": {
      "application/vnd.jupyter.widget-view+json": {
       "model_id": "1f7a54db20dd48baaea41df01c398859",
       "version_major": 2,
       "version_minor": 0
      },
      "text/plain": [
       "  0%|          | 0/454 [00:00<?, ?it/s]"
      ]
     },
     "metadata": {},
     "output_type": "display_data"
    },
    {
     "name": "stdout",
     "output_type": "stream",
     "text": [
      "향기로운 플라워타블렛과 섬유향수만들기\n",
      "반짝반짝 크리스탈캔들패브릭미스트 클래스\n",
      "경복궁역향기 가득 플라워 왁스 타블렛 만들기\n",
      "달콤 디저트 까눌레 캔들톰과제리 치즈캔들 만들기\n",
      "건대입구 젤캔들 홀더와 티라이트4개 원데이클래스\n",
      "건대입구 플라워 디퓨저  왁스타블렛 세트 원데이클래스\n",
      "젤 캔들 홀더  티라이트 캔들 4구\n",
      "왁스타블렛 2구 만들기 티라이트 캔들 증정\n",
      "시간협의필수 보석은 역시 원석 향기로운 젬스톤 원석캔들 만들기\n",
      "원목의 감성을 느낄 수 있는 소이왁스 방향제 만들기\n",
      "원목과 향기 드라이플라워가 만난 하나뿐인 방향제\n",
      "홍대 아름다운 향기오브제 왁스타블렛과 롤온향수 클래스\n",
      "테라조캔들테라조왁스타블렛 원데이클래스\n",
      "테라조캔들테라조왁스타블렛 원데이클래스\n",
      "테라조캔들테라조왁스타블렛 원데이클래스\n",
      "테라조캔들테라조왁스타블렛 원데이클래스\n",
      "테라조캔들테라조왁스타블렛 원데이클래스\n",
      "테라조캔들테라조왁스타블렛 원데이클래스\n",
      "테라조캔들테라조왁스타블렛 원데이클래스\n",
      "테라조캔들테라조왁스타블렛 원데이클래스\n",
      "테라조캔들테라조왁스타블렛 원데이클래스\n",
      "테라조캔들테라조왁스타블렛 원데이클래스\n",
      "테라조캔들테라조왁스타블렛 원데이클래스\n",
      "테라조캔들테라조왁스타블렛 원데이클래스\n",
      "테라조캔들테라조왁스타블렛 원데이클래스\n",
      "테라조캔들테라조왁스타블렛 원데이클래스\n",
      "테라조캔들테라조왁스타블렛 원데이클래스\n",
      "테라조캔들테라조왁스타블렛 원데이클래스\n",
      "테라조캔들테라조왁스타블렛 원데이클래스\n",
      "귀여운 케이크캔들 디저트캔들 오브제캔들 원데이로 만들어요\n",
      "귀여운 케이크캔들 디저트캔들 오브제캔들 원데이로 만들어요\n",
      "귀여운 케이크캔들 디저트캔들 오브제캔들 원데이로 만들어요\n",
      "아루온 디저트오브제 캔들 원데이클래스\n",
      "아루온 디저트오브제 캔들 원데이클래스\n",
      "아루온 디저트오브제 캔들 원데이클래스\n",
      "아루온 디저트오브제 캔들 원데이클래스\n",
      "아루온 디저트오브제 캔들 원데이클래스\n",
      "아루온 디저트오브제 캔들 원데이클래스\n",
      "아루온 디저트오브제 캔들 원데이클래스\n",
      "아루온 디저트오브제 캔들 원데이클래스\n",
      "아루온 디저트오브제 캔들 원데이클래스\n",
      "아루온 디저트오브제 캔들 원데이클래스\n",
      "나만의 탄생화 향수 만들기\n",
      "감성오브제 시나몬캔들왁스타블렛\n",
      "감성오브제 시나몬캔들왁스타블렛\n",
      "향으로 힐링하는 나만의 인센스 스틱 만들기\n",
      "귀염뽀짝 나만의 석고방향제 만들기\n",
      "귀염뽀짝 나만의 석고방향제 만들기\n",
      "얼리버드 캔들 원데이클래스\n",
      "테라조 캔들  타블렛  티라이트 클래스\n",
      "석고 트레이 방향제  보석방향제약 15알\n",
      "5월할인 의미가 담긴 메세지캔들  섬유향수 클래스\n",
      "5월할인 의미가 담긴 메세지캔들  섬유향수 클래스\n",
      "5월할인 의미가 담긴 메세지캔들  섬유향수 클래스\n",
      "5월할인 의미가 담긴 메세지캔들  섬유향수 클래스\n",
      "만들어 봤어 특별한 선물 부케캔들 왁스타블렛 세트\n",
      "만들어 봤어 특별한 선물 부케캔들 왁스타블렛 세트\n",
      "카네이션 캔들  왁스타블렛 만들기\n",
      "카네이션 캔들  왁스타블렛 만들기\n",
      "허브가든 소이캔들  왁스타블렛 1구 만들기\n",
      "허브가든 소이캔들  왁스타블렛 1구 만들기\n",
      "메리고소이캔들210ml  왁스타블렛 1구 만들기\n",
      "경기도수원 에이드캔들  칵테일캔들만들기 원데이클래스\n",
      "경기도수원 에이드캔들  칵테일캔들만들기 원데이클래스\n",
      "시간협의필수 바다 느낌 그대로 젤캔들 바다캔들 홀더 만들기\n",
      "시간협의필수 시원한 맥주캔들  맛있는 치킨방향제 만들기\n",
      "시간협의필수 시원한 맥주캔들  맛있는 치킨방향제 만들기\n",
      "직접 말린 꽃으로 만드는 드라이플라워 캔들왁스타블렛\n",
      "직접 말린 꽃으로 만드는 드라이플라워 캔들왁스타블렛\n",
      "직접 말린 꽃으로 만드는 드라이플라워 캔들왁스타블렛\n"
     ]
    }
   ],
   "source": [
    "import time\n",
    "import re\n",
    "import pandas as pd\n",
    "from tqdm.notebook import tqdm \n",
    "\n",
    "# url 불러오기\n",
    "url_load = pd.read_excel(\"./idus/url_all.xlsx\",engine='openpyxl')\n",
    "num_list = len(url_load)\n",
    "print(num_list) # 총 url 갯수\n",
    "url_load\n",
    "\n",
    "start = time.time() \n",
    "\n",
    "# number = len(url_load)  # 수집할 글 갯수\n",
    "# number = num_list\n",
    "\n",
    "title_list = []\n",
    "nickname_list = []\n",
    "datetime_list = []\n",
    "like_list = []\n",
    "content_list = []\n",
    "\n",
    "# 수집한 url 돌면서 데이터 수집\n",
    "for i in tqdm(range(0, 454)): # 끊긴 경우 여기 0대신해 시작 숫자만 변경하면 됨\n",
    "    driver = webdriver.Chrome('C:\\chrome\\chromedriver.exe')\n",
    "    driver.get(url_load.url[i])\n",
    "    time.sleep(2)\n",
    "    \n",
    "    try:\n",
    "        \n",
    "        target_info = {} \n",
    "        \n",
    "        try:\n",
    "             # '참여후기' 클릭\n",
    "            driver.find_element_by_link_text(\"참여후기\").click( )\n",
    "            time.sleep(2)\n",
    "        \n",
    "            # n: 반복할 횟수 설정, '더보기' 클릭\n",
    "            n = 4\n",
    "            i = 0\n",
    "            while i < n: # 이 조건이 만족되는 동안 반복 실행\n",
    "                try:\n",
    "                    time.sleep(2)\n",
    "                    driver.find_element_by_css_selector(\"#edu-review > div.pagination > div > button > span\").click( ) #더보기\n",
    "                    i = i+1\n",
    "                except:\n",
    "                    break\n",
    "                    \n",
    "        except:\n",
    "            pass\n",
    "\n",
    "        comments = driver.find_elements_by_css_selector('ul.list-style-review>li')\n",
    "        for comment in comments:                     \n",
    "            title = driver.find_element_by_css_selector(\"h2.sticky_aside__title\").text        \n",
    "            title = re.sub(r\"[^ㄱ-ㅎ|ㅏ-ㅣ|가-힣|A-Z|a-z|0-9| ]\", \"\", title)\n",
    "            title_list.append(title)\n",
    "\n",
    "            nickname = comment.find_elements_by_css_selector('a > div.clf > div > div.txt-block > em')[0].text\n",
    "            nickname = re.sub(r\"[^ㄱ-ㅎ|ㅏ-ㅣ|가-힣|A-Z|a-z|0-9|.|,| ]\", \"\", nickname)\n",
    "            nickname_list.append(nickname)\n",
    "\n",
    "            datetime = comment.find_elements_by_css_selector('a > div.clf > div > div.txt-block > time')[0].text\n",
    "            datetime_list.append(datetime)\n",
    "\n",
    "            like = comment.find_elements_by_css_selector('a > div.clf > span')[0].get_attribute('data-value')\n",
    "            like_list.append(like)\n",
    "\n",
    "            content = comment.find_elements_by_css_selector('a > div.area-txt > div > span')[0].text\n",
    "            content = re.sub(r\"[^ㄱ-ㅎ|ㅏ-ㅣ|가-힣|A-Z|a-z|0-9|.|,| ]\", \"\", content)\n",
    "            content_list.append(content)      \n",
    "        \n",
    "        # 크롤링이 성공하면 글 제목을 출력하게 되고,\n",
    "        print(title)\n",
    "\n",
    "        # 글 하나 크롤링 후 크롬 창을 닫습니다.\n",
    "        driver.close()\n",
    "    \n",
    "    # 에러나면 현재 크롬창을 닫고 다음 글(i+1)로 이동\n",
    "    except Exception as e:\n",
    "        driver.close()\n",
    "        print('실패', e, type(e))\n",
    "        continue\n",
    "        \n",
    "    \n",
    "    # 중간,중간에 파일로 저장하기\n",
    "    if i == 100 or 200 or 300 or 400 :\n",
    "        columns = ['title', 'nickname', 'datetime', 'like', 'content']\n",
    "        result_df = pd.DataFrame(target_info,columns=columns)\n",
    "        result_df.to_excel('./idus/result_0520.xlsx',encoding='utf-8-sig', index=False)\n",
    "        time.sleep(3)\n",
    "        \n",
    "print(dict)\n",
    "\n",
    "end = time.time() - start\n",
    "print(\"used time: %dm%ds\" % divmod(end,60))\n",
    "target_info['title'] = title_list\n",
    "target_info['nickname'] = nickname_list\n",
    "target_info['datetime'] = datetime_list\n",
    "target_info['like'] = like_list\n",
    "target_info['content'] = content_list\n"
   ]
  },
  {
   "cell_type": "code",
   "execution_count": null,
   "metadata": {},
   "outputs": [],
   "source": [
    "import pandas as pd\n",
    "columns = ['title', 'nickname', 'datetime', 'like', 'content']\n",
    "result_df = pd.DataFrame(target_info,columns=columns)\n",
    "result_df.to_excel('./idus/result.xlsx',encoding='utf-8-sig', index=False)\n",
    "result_df"
   ]
  }
 ],
 "metadata": {
  "kernelspec": {
   "display_name": "Python 3",
   "language": "python",
   "name": "python3"
  },
  "language_info": {
   "codemirror_mode": {
    "name": "ipython",
    "version": 3
   },
   "file_extension": ".py",
   "mimetype": "text/x-python",
   "name": "python",
   "nbconvert_exporter": "python",
   "pygments_lexer": "ipython3",
   "version": "3.8.3"
  }
 },
 "nbformat": 4,
 "nbformat_minor": 4
}
