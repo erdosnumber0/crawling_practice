{
 "cells": [
  {
   "cell_type": "code",
   "execution_count": 2,
   "metadata": {},
   "outputs": [],
   "source": [
    "# 라이브러리 import\n",
    "import pandas as pd\n",
    "import numpy as np\n",
    "\n",
    "from selenium import webdriver\n",
    "from tqdm.notebook import tqdm\n",
    "import time"
   ]
  },
  {
   "cell_type": "code",
   "execution_count": 25,
   "metadata": {},
   "outputs": [
    {
     "name": "stdout",
     "output_type": "stream",
     "text": [
      "디즈니\n"
     ]
    },
    {
     "data": {
      "text/plain": [
       "'디즈니'"
      ]
     },
     "execution_count": 25,
     "metadata": {},
     "output_type": "execute_result"
    }
   ],
   "source": [
    "# 데이터 수집할 키워드 지정\n",
    "keyword = input()\n",
    "keyword"
   ]
  },
  {
   "cell_type": "code",
   "execution_count": 32,
   "metadata": {},
   "outputs": [],
   "source": [
    "# 크롬 실행\n",
    "driver = webdriver.Chrome(\"C:\\chrome\\chromedriver.exe\") # 크롬드라이버가 위치한 경로설정\n",
    "driver.get(\"https://search.naver.com/search.naver?where=news&sm=tab_jum&query={}\".format(keyword))\n",
    "time.sleep(3)"
   ]
  },
  {
   "cell_type": "code",
   "execution_count": 19,
   "metadata": {},
   "outputs": [
    {
     "name": "stdout",
     "output_type": "stream",
     "text": [
      "34\n"
     ]
    },
    {
     "data": {
      "text/plain": [
       "['https://news.naver.com/main/read.nhn?mode=LSD&mid=sec&sid1=105&oid=293&aid=0000034734',\n",
       " 'https://news.naver.com/main/read.nhn?mode=LSD&mid=sec&sid1=105&oid=277&aid=0004904627',\n",
       " 'https://sports.news.naver.com/news.nhn?oid=442&aid=0000134209',\n",
       " 'https://news.naver.com/main/read.nhn?mode=LSD&mid=sec&sid1=106&oid=108&aid=0002956287',\n",
       " 'https://news.naver.com/main/read.nhn?mode=LSD&mid=sec&sid1=106&oid=009&aid=0004795687',\n",
       " 'https://news.naver.com/main/read.nhn?mode=LSD&mid=sec&sid1=106&oid=609&aid=0000442404',\n",
       " 'https://news.naver.com/main/read.nhn?mode=LSD&mid=sec&sid1=106&oid=144&aid=0000737424',\n",
       " 'https://news.naver.com/main/read.nhn?mode=LSD&mid=sec&sid1=106&oid=057&aid=0001577395',\n",
       " 'https://news.naver.com/main/read.nhn?mode=LSD&mid=sec&sid1=102&oid=001&aid=0012399847',\n",
       " 'https://news.naver.com/main/read.nhn?mode=LSD&mid=sec&sid1=101&oid=374&aid=0000244631',\n",
       " 'https://news.naver.com/main/read.nhn?mode=LSD&mid=sec&sid1=105&oid=092&aid=0002222324',\n",
       " 'https://news.naver.com/main/read.nhn?mode=LSD&mid=sec&sid1=105&oid=138&aid=0002103568',\n",
       " 'https://news.naver.com/main/read.nhn?mode=LSD&mid=sec&sid1=104&oid=277&aid=0004904081',\n",
       " 'https://news.naver.com/main/read.nhn?mode=LSD&mid=sec&sid1=104&oid=015&aid=0004547852',\n",
       " 'https://news.naver.com/main/read.nhn?mode=LSD&mid=sec&sid1=104&oid=214&aid=0001119310',\n",
       " 'https://news.naver.com/main/read.nhn?mode=LSD&mid=sec&sid1=102&oid=001&aid=0012399735',\n",
       " 'https://news.naver.com/main/read.nhn?mode=LSD&mid=sec&sid1=101&oid=025&aid=0003102263',\n",
       " 'https://news.naver.com/main/read.nhn?mode=LSD&mid=sec&sid1=104&oid=055&aid=0000894845',\n",
       " 'https://news.naver.com/main/read.nhn?mode=LSD&mid=sec&sid1=104&oid=052&aid=0001589415',\n",
       " 'https://news.naver.com/main/read.nhn?mode=LSD&mid=sec&sid1=101&oid=025&aid=0003102343',\n",
       " 'https://news.naver.com/main/read.nhn?mode=LSD&mid=sec&sid1=104&oid=003&aid=0010503710',\n",
       " 'https://news.naver.com/main/read.nhn?mode=LSD&mid=sec&sid1=104&oid=011&aid=0003911796',\n",
       " 'https://news.naver.com/main/read.nhn?mode=LSD&mid=sec&sid1=104&oid=003&aid=0010503709',\n",
       " 'https://news.naver.com/main/read.nhn?mode=LSD&mid=sec&sid1=104&oid=366&aid=0000717991',\n",
       " 'https://news.naver.com/main/read.nhn?mode=LSD&mid=sec&sid1=104&oid=052&aid=0001588685',\n",
       " 'https://news.naver.com/main/read.nhn?mode=LSD&mid=sec&sid1=104&oid=008&aid=0004588048',\n",
       " 'https://news.naver.com/main/read.nhn?mode=LSD&mid=sec&sid1=104&oid=001&aid=0012396186',\n",
       " 'https://news.naver.com/main/read.nhn?mode=LSD&mid=sec&sid1=104&oid=018&aid=0004930966',\n",
       " 'https://news.naver.com/main/read.nhn?mode=LSD&mid=sec&sid1=106&oid=609&aid=0000442128',\n",
       " 'https://news.naver.com/main/read.nhn?mode=LSD&mid=sec&sid1=103&oid=468&aid=0000769082',\n",
       " 'https://news.naver.com/main/read.nhn?mode=LSD&mid=sec&sid1=101&oid=014&aid=0004640549',\n",
       " 'https://news.naver.com/main/read.nhn?mode=LSD&mid=sec&sid1=104&oid=015&aid=0004546506',\n",
       " 'https://news.naver.com/main/read.nhn?mode=LSD&mid=sec&sid1=101&oid=018&aid=0004929586',\n",
       " 'https://news.naver.com/main/read.nhn?mode=LSD&mid=sec&sid1=104&oid=001&aid=0012393784']"
      ]
     },
     "execution_count": 19,
     "metadata": {},
     "output_type": "execute_result"
    }
   ],
   "source": [
    "# 뉴스 url 수집하기\n",
    "things = driver.find_elements_by_link_text('네이버뉴스')  \n",
    "\n",
    "# url 주소를 저장할 리스트 생성\n",
    "url_list = []\n",
    "\n",
    "for thing in things:\n",
    "    url = thing.get_attribute('href')\n",
    "    url_list.append(url)\n",
    "\n",
    "# url 주소 수집결과 확인\n",
    "print(len(url_list))\n",
    "url_list"
   ]
  },
  {
   "cell_type": "code",
   "execution_count": 20,
   "metadata": {},
   "outputs": [],
   "source": [
    "# 크롬 닫기\n",
    "driver.close()"
   ]
  },
  {
   "cell_type": "code",
   "execution_count": 21,
   "metadata": {},
   "outputs": [],
   "source": [
    "df = pd.DataFrame({\"url\":url_list})\n",
    "df.to_csv('./dataset/navernews_urls.csv')"
   ]
  },
  {
   "cell_type": "markdown",
   "metadata": {},
   "source": [
    "# 댓글 수집하기"
   ]
  },
  {
   "cell_type": "code",
   "execution_count": 3,
   "metadata": {},
   "outputs": [],
   "source": [
    "# 저장해둔 url 불러오기\n",
    "df = pd.read_csv('./dataset/navernews_urls.csv')"
   ]
  },
  {
   "cell_type": "code",
   "execution_count": 13,
   "metadata": {},
   "outputs": [],
   "source": [
    "# 뉴스 크롬창 띄우기\n",
    "driver = webdriver.Chrome(\"C:\\chrome\\chromedriver.exe\")\n",
    "driver.get(df['url'][0])"
   ]
  },
  {
   "cell_type": "code",
   "execution_count": 7,
   "metadata": {},
   "outputs": [
    {
     "data": {
      "text/plain": [
       "5"
      ]
     },
     "execution_count": 7,
     "metadata": {},
     "output_type": "execute_result"
    }
   ],
   "source": [
    "# 기사 댓글 갯수\n",
    "review_count = driver.find_element_by_css_selector('.u_cbox_count').text\n",
    "review_count = int(review_count.replace(',',''))\n",
    "review_count"
   ]
  },
  {
   "cell_type": "code",
   "execution_count": 27,
   "metadata": {},
   "outputs": [
    {
     "data": {
      "text/plain": [
       "0"
      ]
     },
     "execution_count": 27,
     "metadata": {},
     "output_type": "execute_result"
    }
   ],
   "source": [
    "# 더보기 클릭 횟수\n",
    "moreview_num = review_count//20\n",
    "moreview_num"
   ]
  },
  {
   "cell_type": "code",
   "execution_count": 6,
   "metadata": {},
   "outputs": [],
   "source": [
    "# 댓글 버튼 클릭\n",
    "driver.find_element_by_css_selector('.lo_txt').click()\n",
    "time.sleep(1)"
   ]
  },
  {
   "cell_type": "code",
   "execution_count": null,
   "metadata": {},
   "outputs": [],
   "source": [
    "k=0\n",
    "while k <=moreview_num: # 더보기 횟수만큼 반복\n",
    "    try:\n",
    "        driver.find_element_by_css_selector('.u_cbox_page_more').click() # 더보기 버튼 클릭\n",
    "        time.sleep(1)\n",
    "        k=k+1\n",
    "    except:\n",
    "        break # 에러나면 클릭 반복문을 빠져나가라"
   ]
  },
  {
   "cell_type": "code",
   "execution_count": 10,
   "metadata": {},
   "outputs": [
    {
     "data": {
      "application/vnd.jupyter.widget-view+json": {
       "model_id": "ed704608f4ab4824b479ec227b788764",
       "version_major": 2,
       "version_minor": 0
      },
      "text/plain": [
       "HBox(children=(FloatProgress(value=0.0, max=5.0), HTML(value='')))"
      ]
     },
     "metadata": {},
     "output_type": "display_data"
    },
    {
     "name": "stdout",
     "output_type": "stream",
     "text": [
      "\n",
      "5\n"
     ]
    },
    {
     "data": {
      "text/plain": [
       "['아갈만 털지말고 좀 출시일을 내라고 매번 지겨운 예정예정',\n",
       " '디즈니 주가좀 어떻게.. 250달러 언제가나여',\n",
       " '8월초에나오면좋겠네요 마블퓨처레볼루션',\n",
       " '기사야 빵빵 터져라!!!',\n",
       " '디즈니 매직킹덤... 예전엔 재밌었는데 이젠 현질을 너무 해야돼서 때려침...']"
      ]
     },
     "execution_count": 10,
     "metadata": {},
     "output_type": "execute_result"
    }
   ],
   "source": [
    "# review 수집하기\n",
    "review_list = []\n",
    "\n",
    "overlays1 = \".u_cbox_text_wrap\"\n",
    "reviews = driver.find_elements_by_css_selector(overlays1)\n",
    "\n",
    "for review in tqdm(reviews):    \n",
    "    review = review.text\n",
    "    review_list.append(review)\n",
    "\n",
    "print(len(review_list))\n",
    "review_list"
   ]
  },
  {
   "cell_type": "markdown",
   "metadata": {},
   "source": [
    "# 기사 내용 수집하기"
   ]
  },
  {
   "cell_type": "code",
   "execution_count": 14,
   "metadata": {},
   "outputs": [
    {
     "name": "stdout",
     "output_type": "stream",
     "text": [
      "[오~컬쳐]디즈니, 한국서 게임 영토 확장…'디즈니+'로 시너지 낼까\n"
     ]
    }
   ],
   "source": [
    "# 기사 제목\n",
    "title = driver.find_element_by_css_selector('.tts_head')\n",
    "title = title.text\n",
    "print(title)"
   ]
  },
  {
   "cell_type": "code",
   "execution_count": 16,
   "metadata": {},
   "outputs": [
    {
     "name": "stdout",
     "output_type": "stream",
     "text": [
      "2021.05.18. 오전 10:42\n"
     ]
    }
   ],
   "source": [
    "# 기사 날짜\n",
    "date = driver.find_element_by_css_selector('.t11')\n",
    "date = date.text\n",
    "print(date)"
   ]
  },
  {
   "cell_type": "code",
   "execution_count": 17,
   "metadata": {},
   "outputs": [
    {
     "name": "stdout",
     "output_type": "stream",
     "text": [
      "7\n"
     ]
    }
   ],
   "source": [
    "# 기사 추천수 날짜\n",
    "up = driver.find_element_by_css_selector('.u_cnt._count')\n",
    "up = up.text\n",
    "print(up)"
   ]
  },
  {
   "cell_type": "markdown",
   "metadata": {},
   "source": [
    "# 기사 감정 수집"
   ]
  },
  {
   "cell_type": "code",
   "execution_count": 20,
   "metadata": {},
   "outputs": [
    {
     "name": "stdout",
     "output_type": "stream",
     "text": [
      "5\n",
      "0\n",
      "0\n",
      "0\n",
      "5\n"
     ]
    }
   ],
   "source": [
    "# 좋아요\n",
    "like = driver.find_element_by_css_selector(\".end_btn .u_likeit_list.good .u_likeit_list_count._count\")\n",
    "like = like.text\n",
    "print(like)\n",
    "\n",
    "#훈훈해요\n",
    "warm = driver.find_element_by_css_selector('.end_btn .u_likeit_list.warm .u_likeit_list_count._count')\n",
    "warm = warm.text\n",
    "print(warm)\n",
    "\n",
    "# 슬퍼요\n",
    "sad = driver.find_element_by_css_selector('.end_btn .u_likeit_list.sad .u_likeit_list_count._count')\n",
    "sad = sad.text\n",
    "print(sad)\n",
    "\n",
    "# 화나요\n",
    "angry = driver.find_element_by_css_selector('.end_btn .u_likeit_list.angry .u_likeit_list_count._count')\n",
    "angry = angry.text\n",
    "print(angry)\n",
    "\n",
    "# 원해요(후속기사)\n",
    "want = driver.find_element_by_css_selector('.end_btn .u_likeit_list.want .u_likeit_list_count._count')\n",
    "want = want.text\n",
    "print(want)"
   ]
  },
  {
   "cell_type": "code",
   "execution_count": 21,
   "metadata": {},
   "outputs": [
    {
     "data": {
      "text/plain": [
       "{'기사명': \"[오~컬쳐]디즈니, 한국서 게임 영토 확장…'디즈니+'로 시너지 낼까\",\n",
       " '날짜': '2021.05.18. 오전 10:42',\n",
       " '추천수': '7',\n",
       " '댓글': ['아갈만 털지말고 좀 출시일을 내라고 매번 지겨운 예정예정',\n",
       "  '디즈니 주가좀 어떻게.. 250달러 언제가나여',\n",
       "  '8월초에나오면좋겠네요 마블퓨처레볼루션',\n",
       "  '기사야 빵빵 터져라!!!',\n",
       "  '디즈니 매직킹덤... 예전엔 재밌었는데 이젠 현질을 너무 해야돼서 때려침...'],\n",
       " '좋아요': '5',\n",
       " '훈훈해요': '0',\n",
       " '슬퍼요': '0',\n",
       " '화나요': '0',\n",
       " '후속기사_원해요': '5'}"
      ]
     },
     "execution_count": 21,
     "metadata": {},
     "output_type": "execute_result"
    }
   ],
   "source": [
    "target_info = {}\n",
    "\n",
    "target_info['기사명'] = title\n",
    "target_info['날짜'] = date\n",
    "target_info['추천수'] = up\n",
    "target_info['댓글'] = review_list\n",
    "target_info['좋아요'] = like\n",
    "target_info['훈훈해요']= warm\n",
    "target_info['슬퍼요']= sad\n",
    "target_info['화나요']= angry\n",
    "target_info['후속기사_원해요']= want\n",
    "\n",
    "target_info"
   ]
  },
  {
   "cell_type": "markdown",
   "metadata": {},
   "source": [
    "# 통합 코드"
   ]
  },
  {
   "cell_type": "code",
   "execution_count": 23,
   "metadata": {},
   "outputs": [
    {
     "data": {
      "application/vnd.jupyter.widget-view+json": {
       "model_id": "dcd6389aebf746b9a24d0065fa3cd8ec",
       "version_major": 2,
       "version_minor": 0
      },
      "text/plain": [
       "HBox(children=(FloatProgress(value=0.0, max=34.0), HTML(value='')))"
      ]
     },
     "metadata": {},
     "output_type": "display_data"
    },
    {
     "data": {
      "application/vnd.jupyter.widget-view+json": {
       "model_id": "2d325681ec5542a9a0c56624553917a4",
       "version_major": 2,
       "version_minor": 0
      },
      "text/plain": [
       "HBox(children=(FloatProgress(value=0.0, max=5.0), HTML(value='')))"
      ]
     },
     "metadata": {},
     "output_type": "display_data"
    },
    {
     "name": "stdout",
     "output_type": "stream",
     "text": [
      "\n",
      "[오~컬쳐]디즈니, 한국서 게임 영토 확장…'디즈니+'로 시너지 낼까 (댓글 수: 5 )\n"
     ]
    },
    {
     "data": {
      "application/vnd.jupyter.widget-view+json": {
       "model_id": "f3027d45c3b04573bcdbd12b95d18a8f",
       "version_major": 2,
       "version_minor": 0
      },
      "text/plain": [
       "HBox(children=(FloatProgress(value=0.0, max=1.0), HTML(value='')))"
      ]
     },
     "metadata": {},
     "output_type": "display_data"
    },
    {
     "name": "stdout",
     "output_type": "stream",
     "text": [
      "\n",
      "디즈니코리아, 韓게임사 협업 지속…니모·오메가 플라이트 출격 (댓글 수: 1 )\n"
     ]
    },
    {
     "data": {
      "application/vnd.jupyter.widget-view+json": {
       "model_id": "b266c54799d04f8db8bec1b1941e874d",
       "version_major": 2,
       "version_minor": 0
      },
      "text/plain": [
       "HBox(children=(FloatProgress(value=1.0, bar_style='info', max=1.0), HTML(value='')))"
      ]
     },
     "metadata": {},
     "output_type": "display_data"
    },
    {
     "name": "stdout",
     "output_type": "stream",
     "text": [
      "\n",
      "워너-디스커버리, 49조원대 합병…\"넷플릭스·디즈니 추격\"(종합) (댓글 수: 0 )\n"
     ]
    },
    {
     "data": {
      "application/vnd.jupyter.widget-view+json": {
       "model_id": "23bda58d87d343108fb0a2b2c2c027b4",
       "version_major": 2,
       "version_minor": 0
      },
      "text/plain": [
       "HBox(children=(FloatProgress(value=0.0, max=7.0), HTML(value='')))"
      ]
     },
     "metadata": {},
     "output_type": "display_data"
    },
    {
     "name": "stdout",
     "output_type": "stream",
     "text": [
      "\n",
      "“넷플릭스·디즈니+ 잡는다”…AT&T, 디스커버리와 합병 계약 [장가희 기자의 뉴스픽] (댓글 수: 7 )\n"
     ]
    },
    {
     "data": {
      "application/vnd.jupyter.widget-view+json": {
       "model_id": "3bfef5042cb94915aeb5a3e84f84e92b",
       "version_major": 2,
       "version_minor": 0
      },
      "text/plain": [
       "HBox(children=(FloatProgress(value=0.0, max=2.0), HTML(value='')))"
      ]
     },
     "metadata": {},
     "output_type": "display_data"
    },
    {
     "name": "stdout",
     "output_type": "stream",
     "text": [
      "\n",
      "美 워너-디스커버리 합병…디즈니·넷플릭스 추격 (댓글 수: 2 )\n"
     ]
    },
    {
     "data": {
      "application/vnd.jupyter.widget-view+json": {
       "model_id": "b18b93e302e740eeac0a2be265ee31c9",
       "version_major": 2,
       "version_minor": 0
      },
      "text/plain": [
       "HBox(children=(FloatProgress(value=1.0, bar_style='info', max=1.0), HTML(value='')))"
      ]
     },
     "metadata": {},
     "output_type": "display_data"
    },
    {
     "name": "stdout",
     "output_type": "stream",
     "text": [
      "\n",
      "워너미디어-디스커버리, 49조원 합병…넷플릭스‧디즈니+ 쫓는다 (댓글 수: 0 )\n"
     ]
    },
    {
     "data": {
      "application/vnd.jupyter.widget-view+json": {
       "model_id": "db0dff8025454b7caf1683f38774a3e8",
       "version_major": 2,
       "version_minor": 0
      },
      "text/plain": [
       "HBox(children=(FloatProgress(value=0.0, max=1.0), HTML(value='')))"
      ]
     },
     "metadata": {},
     "output_type": "display_data"
    },
    {
     "name": "stdout",
     "output_type": "stream",
     "text": [
      "\n",
      "AT&T, 디스커버리 합병 추진…넷플·디즈니 아성에 도전(종합) (댓글 수: 1 )\n"
     ]
    },
    {
     "data": {
      "application/vnd.jupyter.widget-view+json": {
       "model_id": "35270a4de1a648c0b4932c99627c915b",
       "version_major": 2,
       "version_minor": 0
      },
      "text/plain": [
       "HBox(children=(FloatProgress(value=0.0, max=1.0), HTML(value='')))"
      ]
     },
     "metadata": {},
     "output_type": "display_data"
    },
    {
     "name": "stdout",
     "output_type": "stream",
     "text": [
      "\n",
      "AT&T, '다큐 왕국' 디스커버리 품었다 (댓글 수: 1 )\n"
     ]
    },
    {
     "data": {
      "application/vnd.jupyter.widget-view+json": {
       "model_id": "4c586f1d51c749b6aca4248b3630aeac",
       "version_major": 2,
       "version_minor": 0
      },
      "text/plain": [
       "HBox(children=(FloatProgress(value=1.0, bar_style='info', max=1.0), HTML(value='')))"
      ]
     },
     "metadata": {},
     "output_type": "display_data"
    },
    {
     "name": "stdout",
     "output_type": "stream",
     "text": [
      "\n",
      "AT&T-디스커버리 합병…\"넷플릭스·디즈니 추격\" (댓글 수: 0 )\n"
     ]
    },
    {
     "data": {
      "application/vnd.jupyter.widget-view+json": {
       "model_id": "1065b95ccc57431ea929ac11e06a18e1",
       "version_major": 2,
       "version_minor": 0
      },
      "text/plain": [
       "HBox(children=(FloatProgress(value=1.0, bar_style='info', max=1.0), HTML(value='')))"
      ]
     },
     "metadata": {},
     "output_type": "display_data"
    },
    {
     "name": "stdout",
     "output_type": "stream",
     "text": [
      "\n",
      "AT&T-디스커버리 합병…\"넷플릭스·디즈니 추격\" (댓글 수: 0 )\n"
     ]
    },
    {
     "data": {
      "application/vnd.jupyter.widget-view+json": {
       "model_id": "b8a377141f314352b2ec6ff62764fc53",
       "version_major": 2,
       "version_minor": 0
      },
      "text/plain": [
       "HBox(children=(FloatProgress(value=0.0, max=1.0), HTML(value='')))"
      ]
     },
     "metadata": {},
     "output_type": "display_data"
    },
    {
     "name": "stdout",
     "output_type": "stream",
     "text": [
      "\n",
      "AT&T, 디스커버리와 합병 계약…넷플릭스·디즈니 추격 나선다 (댓글 수: 1 )\n"
     ]
    },
    {
     "data": {
      "application/vnd.jupyter.widget-view+json": {
       "model_id": "e7fe5f4c9b724409a3da22a6b291b8a4",
       "version_major": 2,
       "version_minor": 0
      },
      "text/plain": [
       "HBox(children=(FloatProgress(value=0.0, max=5.0), HTML(value='')))"
      ]
     },
     "metadata": {},
     "output_type": "display_data"
    },
    {
     "name": "stdout",
     "output_type": "stream",
     "text": [
      "\n",
      "넷플릭스 · 디즈니 잡는다…워너-디스커버리 '49조 원대' 합병 (댓글 수: 5 )\n"
     ]
    },
    {
     "data": {
      "application/vnd.jupyter.widget-view+json": {
       "model_id": "3da7bb6b54ab45dfa1defcffadea18de",
       "version_major": 2,
       "version_minor": 0
      },
      "text/plain": [
       "HBox(children=(FloatProgress(value=1.0, bar_style='info', max=1.0), HTML(value='')))"
      ]
     },
     "metadata": {},
     "output_type": "display_data"
    },
    {
     "name": "stdout",
     "output_type": "stream",
     "text": [
      "\n",
      "워너-디스커버리, 49조원대 합병...\"넷플릭스·디즈니 추격\" (댓글 수: 0 )\n"
     ]
    },
    {
     "data": {
      "application/vnd.jupyter.widget-view+json": {
       "model_id": "2cdc155995a2488a93d19ab52c4fa4b4",
       "version_major": 2,
       "version_minor": 0
      },
      "text/plain": [
       "HBox(children=(FloatProgress(value=1.0, bar_style='info', max=1.0), HTML(value='')))"
      ]
     },
     "metadata": {},
     "output_type": "display_data"
    },
    {
     "name": "stdout",
     "output_type": "stream",
     "text": [
      "\n",
      "또하나의 스트리밍 거인 탄생…AT&T·디스커버리 합병 계약 (댓글 수: 0 )\n"
     ]
    },
    {
     "data": {
      "application/vnd.jupyter.widget-view+json": {
       "model_id": "4408f1417c7543339d6151af46401c96",
       "version_major": 2,
       "version_minor": 0
      },
      "text/plain": [
       "HBox(children=(FloatProgress(value=1.0, bar_style='info', max=1.0), HTML(value='')))"
      ]
     },
     "metadata": {},
     "output_type": "display_data"
    },
    {
     "name": "stdout",
     "output_type": "stream",
     "text": [
      "\n",
      "'노 마스크'로 디즈니월드 활보하는 방문객들 (댓글 수: 0 )\n"
     ]
    },
    {
     "data": {
      "application/vnd.jupyter.widget-view+json": {
       "model_id": "1d844616bb234773ae6b552b9372b30a",
       "version_major": 2,
       "version_minor": 0
      },
      "text/plain": [
       "HBox(children=(FloatProgress(value=1.0, bar_style='info', max=1.0), HTML(value='')))"
      ]
     },
     "metadata": {},
     "output_type": "display_data"
    },
    {
     "name": "stdout",
     "output_type": "stream",
     "text": [
      "\n",
      "[사진] 미국 디즈니월드도 '노 마스크' (댓글 수: 0 )\n"
     ]
    },
    {
     "data": {
      "application/vnd.jupyter.widget-view+json": {
       "model_id": "63151dc7f85746649a63df48e3ab7f6b",
       "version_major": 2,
       "version_minor": 0
      },
      "text/plain": [
       "HBox(children=(FloatProgress(value=1.0, bar_style='info', max=1.0), HTML(value='')))"
      ]
     },
     "metadata": {},
     "output_type": "display_data"
    },
    {
     "name": "stdout",
     "output_type": "stream",
     "text": [
      "\n",
      "마스크 없이 디즈니월드 돌아다니는 방문객들 (댓글 수: 0 )\n"
     ]
    },
    {
     "data": {
      "application/vnd.jupyter.widget-view+json": {
       "model_id": "b59b0a71c66e477986dc95718f62789f",
       "version_major": 2,
       "version_minor": 0
      },
      "text/plain": [
       "HBox(children=(FloatProgress(value=0.0, max=9.0), HTML(value='')))"
      ]
     },
     "metadata": {},
     "output_type": "display_data"
    },
    {
     "name": "stdout",
     "output_type": "stream",
     "text": [
      "\n",
      "스타벅스·디즈니월드도 ‘노마스크’ 대열 합류 (댓글 수: 9 )\n"
     ]
    },
    {
     "data": {
      "application/vnd.jupyter.widget-view+json": {
       "model_id": "7be4bcc6fc0b4b06a970c6729a606ff9",
       "version_major": 2,
       "version_minor": 0
      },
      "text/plain": [
       "HBox(children=(FloatProgress(value=0.0, max=8.0), HTML(value='')))"
      ]
     },
     "metadata": {},
     "output_type": "display_data"
    },
    {
     "name": "stdout",
     "output_type": "stream",
     "text": [
      "\n",
      "미국에서 스타벅스·디즈니월드도 '노 마스크'에 합류 (댓글 수: 8 )\n"
     ]
    },
    {
     "data": {
      "application/vnd.jupyter.widget-view+json": {
       "model_id": "710a0f869b9c4c078abc0e7e81a4ad32",
       "version_major": 2,
       "version_minor": 0
      },
      "text/plain": [
       "HBox(children=(FloatProgress(value=0.0, max=17.0), HTML(value='')))"
      ]
     },
     "metadata": {},
     "output_type": "display_data"
    },
    {
     "name": "stdout",
     "output_type": "stream",
     "text": [
      "\n",
      "스타벅스도 디즈니도 \"백신 접종자 마스크 안써도 된다\" (댓글 수: 17 )\n"
     ]
    },
    {
     "data": {
      "application/vnd.jupyter.widget-view+json": {
       "model_id": "524950bea4094360bfb4db09dd78d281",
       "version_major": 2,
       "version_minor": 0
      },
      "text/plain": [
       "HBox(children=(FloatProgress(value=0.0, max=17.0), HTML(value='')))"
      ]
     },
     "metadata": {},
     "output_type": "display_data"
    },
    {
     "name": "stdout",
     "output_type": "stream",
     "text": [
      "\n",
      "미국서 스타벅스·디즈니월드도 '노 마스크'에 합류 (댓글 수: 17 )\n"
     ]
    },
    {
     "data": {
      "application/vnd.jupyter.widget-view+json": {
       "model_id": "fd684363749d43cea03acfbe648aec6e",
       "version_major": 2,
       "version_minor": 0
      },
      "text/plain": [
       "HBox(children=(FloatProgress(value=0.0, max=60.0), HTML(value='')))"
      ]
     },
     "metadata": {},
     "output_type": "display_data"
    },
    {
     "name": "stdout",
     "output_type": "stream",
     "text": [
      "\n",
      "미국은 마스크 벗는다..스타벅스·월마트·디즈니월드 '노 마스크' 허용 (댓글 수: 60 )\n"
     ]
    },
    {
     "data": {
      "application/vnd.jupyter.widget-view+json": {
       "model_id": "c22dd405953e4c75be3110f312726cee",
       "version_major": 2,
       "version_minor": 0
      },
      "text/plain": [
       "HBox(children=(FloatProgress(value=1.0, bar_style='info', max=1.0), HTML(value='')))"
      ]
     },
     "metadata": {},
     "output_type": "display_data"
    },
    {
     "name": "stdout",
     "output_type": "stream",
     "text": [
      "\n",
      "춘천문화재단 '헬로! 디즈니' 콘서트 (댓글 수: 0 )\n"
     ]
    },
    {
     "data": {
      "application/vnd.jupyter.widget-view+json": {
       "model_id": "915ba92ac9e14c51929a851b6f2fc542",
       "version_major": 2,
       "version_minor": 0
      },
      "text/plain": [
       "HBox(children=(FloatProgress(value=0.0, max=3.0), HTML(value='')))"
      ]
     },
     "metadata": {},
     "output_type": "display_data"
    },
    {
     "name": "stdout",
     "output_type": "stream",
     "text": [
      "\n",
      "달라진 서학개미 장바구니… 보잉·디즈니 경기회복株 늘렸다 (댓글 수: 3 )\n"
     ]
    },
    {
     "data": {
      "application/vnd.jupyter.widget-view+json": {
       "model_id": "43b0436b6549437994a2152c150bc3b1",
       "version_major": 2,
       "version_minor": 0
      },
      "text/plain": [
       "HBox(children=(FloatProgress(value=0.0, max=4.0), HTML(value='')))"
      ]
     },
     "metadata": {},
     "output_type": "display_data"
    },
    {
     "name": "stdout",
     "output_type": "stream",
     "text": [
      "\n",
      "'코로나 특수 끝?' 넷플릭스 쫓던 디즈니+도 가입자 증가세↓ (댓글 수: 4 )\n"
     ]
    },
    {
     "data": {
      "application/vnd.jupyter.widget-view+json": {
       "model_id": "b1aefb4040674a2bbd97f1634a45912e",
       "version_major": 2,
       "version_minor": 0
      },
      "text/plain": [
       "HBox(children=(FloatProgress(value=0.0, max=1.0), HTML(value='')))"
      ]
     },
     "metadata": {},
     "output_type": "display_data"
    },
    {
     "name": "stdout",
     "output_type": "stream",
     "text": [
      "\n",
      "디즈니+, 2분기 신규가입 870만명 그쳐…시장 기대치 하회 (댓글 수: 1 )\n"
     ]
    },
    {
     "data": {
      "application/vnd.jupyter.widget-view+json": {
       "model_id": "4907c8050d8d4c4a9c69b28aabb4d50e",
       "version_major": 2,
       "version_minor": 0
      },
      "text/plain": [
       "HBox(children=(FloatProgress(value=1.0, bar_style='info', max=1.0), HTML(value='')))"
      ]
     },
     "metadata": {},
     "output_type": "display_data"
    },
    {
     "name": "stdout",
     "output_type": "stream",
     "text": [
      "\n",
      "OTT 성장 둔화하나…디즈니+ 가입 증가 시장 기대 못 미쳐 (댓글 수: 0 )\n",
      "\n",
      "27\n"
     ]
    },
    {
     "data": {
      "text/plain": [
       "{0: {'기사명': \"[오~컬쳐]디즈니, 한국서 게임 영토 확장…'디즈니+'로 시너지 낼까\",\n",
       "  '날짜': '2021.05.18. 오전 10:42',\n",
       "  '추천수': '7',\n",
       "  '댓글': ['아갈만 털지말고 좀 출시일을 내라고 매번 지겨운 예정예정',\n",
       "   '디즈니 주가좀 어떻게.. 250달러 언제가나여',\n",
       "   '8월초에나오면좋겠네요 마블퓨처레볼루션',\n",
       "   '기사야 빵빵 터져라!!!',\n",
       "   '디즈니 매직킹덤... 예전엔 재밌었는데 이젠 현질을 너무 해야돼서 때려침...'],\n",
       "  '좋아요': '5',\n",
       "  '훈훈해요': '0',\n",
       "  '슬퍼요': '0',\n",
       "  '화나요': '0',\n",
       "  '후속기사_원해요': '5'},\n",
       " 1: {'기사명': '디즈니코리아, 韓게임사 협업 지속…니모·오메가 플라이트 출격',\n",
       "  '날짜': '2021.05.18. 오전 9:39',\n",
       "  '추천수': '',\n",
       "  '댓글': ['누가 디즈니 주가좀 올려주세요. 사망직전.'],\n",
       "  '좋아요': '1',\n",
       "  '훈훈해요': '0',\n",
       "  '슬퍼요': '0',\n",
       "  '화나요': '0',\n",
       "  '후속기사_원해요': '0'},\n",
       " 8: {'기사명': '워너-디스커버리, 49조원대 합병…\"넷플릭스·디즈니 추격\"(종합)',\n",
       "  '날짜': '2021.05.18. 오전 12:04',\n",
       "  '추천수': '',\n",
       "  '댓글': [],\n",
       "  '좋아요': '3',\n",
       "  '훈훈해요': '0',\n",
       "  '슬퍼요': '0',\n",
       "  '화나요': '0',\n",
       "  '후속기사_원해요': '0'},\n",
       " 9: {'기사명': '“넷플릭스·디즈니+ 잡는다”…AT&T, 디스커버리와 합병 계약 [장가희 기자의 뉴스픽]',\n",
       "  '날짜': '2021.05.18. 오전 6:30',\n",
       "  '추천수': '',\n",
       "  '댓글': ['아마존을 뺐내.Ott시장 2위가 아마존 3위가 디즈니+인데 왜 Ott시장을 넷플릭스와 디즈니+가 독점하다시피 한다고 기사를 쓴건지.기자분은 기사쓸 때 팩트체크란 것도 안하나?',\n",
       "   '넷플릭스 볼것없다~앞으로 주가 떨어짐 디즈니에 투자하라',\n",
       "   'At주식을 살려다가 22000원이기에 안사더니 대박나는것아니냐?',\n",
       "   '유툽이 짱이다. 다 재미없다.',\n",
       "   '벌것도 별루 없더이다.',\n",
       "   '안될거같은디',\n",
       "   '개잡주'],\n",
       "  '좋아요': '2',\n",
       "  '훈훈해요': '0',\n",
       "  '슬퍼요': '0',\n",
       "  '화나요': '6',\n",
       "  '후속기사_원해요': '0'},\n",
       " 10: {'기사명': '美 워너-디스커버리 합병…디즈니·넷플릭스 추격',\n",
       "  '날짜': '2021.05.18. 오전 7:42',\n",
       "  '추천수': '1',\n",
       "  '댓글': ['디즈니가 최고다', '3등은 살아남기 힘들다. 2등도 괴로운데.'],\n",
       "  '좋아요': '4',\n",
       "  '훈훈해요': '0',\n",
       "  '슬퍼요': '0',\n",
       "  '화나요': '0',\n",
       "  '후속기사_원해요': '2'},\n",
       " 11: {'기사명': '워너미디어-디스커버리, 49조원 합병…넷플릭스‧디즈니+ 쫓는다',\n",
       "  '날짜': '2021.05.18. 오전 11:16',\n",
       "  '추천수': '1',\n",
       "  '댓글': [],\n",
       "  '좋아요': '2',\n",
       "  '훈훈해요': '0',\n",
       "  '슬퍼요': '0',\n",
       "  '화나요': '0',\n",
       "  '후속기사_원해요': '0'},\n",
       " 12: {'기사명': 'AT&T, 디스커버리 합병 추진…넷플·디즈니 아성에 도전(종합)',\n",
       "  '날짜': '2021.05.17. 오전 11:13',\n",
       "  '추천수': '',\n",
       "  '댓글': ['합쳐도 모자른판에 더 먹겄다고 따로 하는 신세들이 무슨 보호임'],\n",
       "  '좋아요': '4',\n",
       "  '훈훈해요': '0',\n",
       "  '슬퍼요': '0',\n",
       "  '화나요': '0',\n",
       "  '후속기사_원해요': '0'},\n",
       " 13: {'기사명': \"AT&T, '다큐 왕국' 디스커버리 품었다\",\n",
       "  '날짜': '2021.05.17. 오후 5:23',\n",
       "  '추천수': '1',\n",
       "  '댓글': ['작성자에 의해 삭제된 댓글입니다.'],\n",
       "  '좋아요': '2',\n",
       "  '훈훈해요': '0',\n",
       "  '슬퍼요': '0',\n",
       "  '화나요': '1',\n",
       "  '후속기사_원해요': '2'},\n",
       " 14: {'기사명': 'AT&T-디스커버리 합병…\"넷플릭스·디즈니 추격\"',\n",
       "  '날짜': '2021.05.17. 오후 10:36',\n",
       "  '추천수': '',\n",
       "  '댓글': [],\n",
       "  '좋아요': '0',\n",
       "  '훈훈해요': '0',\n",
       "  '슬퍼요': '0',\n",
       "  '화나요': '0',\n",
       "  '후속기사_원해요': '0'},\n",
       " 15: {'기사명': 'AT&T-디스커버리 합병…\"넷플릭스·디즈니 추격\"',\n",
       "  '날짜': '2021.05.17. 오후 8:31',\n",
       "  '추천수': '',\n",
       "  '댓글': [],\n",
       "  '좋아요': '0',\n",
       "  '훈훈해요': '0',\n",
       "  '슬퍼요': '0',\n",
       "  '화나요': '0',\n",
       "  '후속기사_원해요': '0'},\n",
       " 16: {'기사명': 'AT&T, 디스커버리와 합병 계약…넷플릭스·디즈니 추격 나선다',\n",
       "  '날짜': '2021.05.17. 오후 6:19',\n",
       "  '추천수': '',\n",
       "  '댓글': ['궁금해서 읽어보니 난 저거 결렬될 거 같은데'],\n",
       "  '좋아요': '0',\n",
       "  '훈훈해요': '0',\n",
       "  '슬퍼요': '0',\n",
       "  '화나요': '0',\n",
       "  '후속기사_원해요': '0'},\n",
       " 17: {'기사명': \"넷플릭스 · 디즈니 잡는다…워너-디스커버리 '49조 원대' 합병\",\n",
       "  '날짜': '2021.05.18. 오전 2:03',\n",
       "  '추천수': '2',\n",
       "  '댓글': ['월이용료나 좀 낮췄으면 좋겠다',\n",
       "   '근데 둘이 주식은 왜그렇게 떨어지나요',\n",
       "   '작성자에 의해 삭제된 댓글입니다.',\n",
       "   '작성자에 의해 삭제된 댓글입니다.',\n",
       "   '못잡는다^^'],\n",
       "  '좋아요': '7',\n",
       "  '훈훈해요': '0',\n",
       "  '슬퍼요': '0',\n",
       "  '화나요': '2',\n",
       "  '후속기사_원해요': '1'},\n",
       " 18: {'기사명': '워너-디스커버리, 49조원대 합병...\"넷플릭스·디즈니 추격\"',\n",
       "  '날짜': '2021.05.18. 오전 12:29',\n",
       "  '추천수': '',\n",
       "  '댓글': [],\n",
       "  '좋아요': '0',\n",
       "  '훈훈해요': '0',\n",
       "  '슬퍼요': '0',\n",
       "  '화나요': '0',\n",
       "  '후속기사_원해요': '0'},\n",
       " 19: {'기사명': '또하나의 스트리밍 거인 탄생…AT&T·디스커버리 합병 계약',\n",
       "  '날짜': '2021.05.18. 오전 12:04',\n",
       "  '추천수': '1',\n",
       "  '댓글': [],\n",
       "  '좋아요': '1',\n",
       "  '훈훈해요': '0',\n",
       "  '슬퍼요': '0',\n",
       "  '화나요': '0',\n",
       "  '후속기사_원해요': '0'},\n",
       " 20: {'기사명': \"'노 마스크'로 디즈니월드 활보하는 방문객들\",\n",
       "  '날짜': '2021.05.18. 오전 10:16',\n",
       "  '추천수': '',\n",
       "  '댓글': [],\n",
       "  '좋아요': '0',\n",
       "  '훈훈해요': '0',\n",
       "  '슬퍼요': '0',\n",
       "  '화나요': '1',\n",
       "  '후속기사_원해요': '0'},\n",
       " 21: {'기사명': \"[사진] 미국 디즈니월드도 '노 마스크'\",\n",
       "  '날짜': '2021.05.18. 오후 5:37',\n",
       "  '추천수': '1',\n",
       "  '댓글': [],\n",
       "  '좋아요': '1',\n",
       "  '훈훈해요': '0',\n",
       "  '슬퍼요': '0',\n",
       "  '화나요': '0',\n",
       "  '후속기사_원해요': '0'},\n",
       " 22: {'기사명': '마스크 없이 디즈니월드 돌아다니는 방문객들',\n",
       "  '날짜': '2021.05.18. 오전 10:16',\n",
       "  '추천수': '',\n",
       "  '댓글': [],\n",
       "  '좋아요': '0',\n",
       "  '훈훈해요': '0',\n",
       "  '슬퍼요': '0',\n",
       "  '화나요': '1',\n",
       "  '후속기사_원해요': '0'},\n",
       " 23: {'기사명': '스타벅스·디즈니월드도 ‘노마스크’ 대열 합류',\n",
       "  '날짜': '2021.05.16. 오전 7:13',\n",
       "  '추천수': '1',\n",
       "  '댓글': ['부럽다!',\n",
       "   '원래 마스크 안하는 애들은 더 떳떳하게 안하고 원래 하는 사람들은 계속한다 매번 식당에 가보면 진짜 마스크 안하려고 한다 스타벅스는 아직 마스크를 해야하는것으로 알고 있는데 미국은 주마다 차이가 많아 안해도 되는주가 있고 해야하는 주도 있다 CDC 는 권고하는것이고 강제적이지는 않다 아니 대통령이 법으로 정해도 공화당 주지사가 있는곳은 마스크를 법으로 강제하지 않았다 미국은 시작이나 지금이나 똑같다 하는 사람들하고 안하는 사람은 안한다',\n",
       "   '백신 접종 정부 NO!! 마스크 외치는 순간 개나, 소나 마스크 벗어 던진다.도대체 아무런 생각도 없는것 같다. 똥고집 늙은 노인층 이나, 아무 생각없는 젊은 층은 마스크 안쓸려고 고의적 거짓말로 백신접종 대상자 라고 속이고 돌아 다닐게 뻔하다.코로나19 이후 아무생각 없는 무뇌들이 너무 많은것 같다.',\n",
       "   '여전히 미국은 신규확진과 사망률은 우리나라보다 높습니다',\n",
       "   'ㅇ? 백신 효과 있는건가...',\n",
       "   '슬슬 끝이 보이네..',\n",
       "   '노마스크 부럽다',\n",
       "   '미국은 코로나 끝났네 감기 코로나 ㅋㅋ',\n",
       "   '작성자에 의해 삭제된 댓글입니다.'],\n",
       "  '좋아요': '6',\n",
       "  '훈훈해요': '0',\n",
       "  '슬퍼요': '0',\n",
       "  '화나요': '1',\n",
       "  '후속기사_원해요': '0'},\n",
       " 24: {'기사명': \"미국에서 스타벅스·디즈니월드도 '노 마스크'에 합류\",\n",
       "  '날짜': '2021.05.16. 오전 5:50',\n",
       "  '추천수': '3',\n",
       "  '댓글': ['우린 쩝쩝거리고만 있는데',\n",
       "   '뭐가 그리 급할까 ㅉㅉ',\n",
       "   '미국 전체적으로 30% 밖에 되지 않는데 너무 이른거 같은데.. 미국 사는 사람으로서 무섭다. 맞았는지 아닌지 뭘로 확인하려고 종이 한 장으로 된 거 위조하기도 쉬워 보이던데 에휴',\n",
       "   '만약 다시 감염이 증가해도 바이든은 발표 못 하겠네 감염검사 못지않게 항체검사도 중요할텐데 양키스 선수들 백신맞고 감염된 사례보면',\n",
       "   '미국 가치주 더 사야겠네',\n",
       "   'K쩝쩝.k무능k내로남불 개나줄까?',\n",
       "   '백신 접종하면 당연한거 아닌가요? 얼른 백신 접종 받자구요!!!!',\n",
       "   'K방역 자랑질 하더니 백신은 뭐햇냐. 한심한정부'],\n",
       "  '좋아요': '8',\n",
       "  '훈훈해요': '0',\n",
       "  '슬퍼요': '0',\n",
       "  '화나요': '9',\n",
       "  '후속기사_원해요': '0'},\n",
       " 25: {'기사명': '스타벅스도 디즈니도 \"백신 접종자 마스크 안써도 된다\"',\n",
       "  '날짜': '2021.05.16. 오전 10:24',\n",
       "  '추천수': '5',\n",
       "  '댓글': ['원래 실외에서 본인주변 5미터 이내에 사람없으면 마스크 벗어도 상관없어야 정상이지. 실내 최소 1미터? 지키는사람 누가 있냐',\n",
       "   '백신이 차고넘치니까 저렇게까지 풀리는구나. 무능한 누구랑 비교되네',\n",
       "   '우리나라처럼 전산화가 되어있는것도 아니고 아마존에서 5만원정도면 백신맞은 확인증(?)을 살수도 있는데 저게 가능하다고 하는걸 보면 미국도 후진국인듯...누가 백신맞았는지 안맞았는지 어케 알꺼임???',\n",
       "   '사실 스타벅스 마스크 안써도 되게 바꿘지 좀 됐음. 음식점들도 실내 영업 한참 전부터 시작 했고 “먹거나 마실때 빼고는 마스크 써라”가 룰이였는데 사실상 이미 오픈 한거지.',\n",
       "   '한국은 어차피 미세먼지 때메 계속 써야돼',\n",
       "   'k방역 어쩌구 하더니 우리는 ..?그나마 국민들 의식 수준때문에 이정도 유지하는거지',\n",
       "   '안끝날줄 알았는데.. 끝나긴 끝나네.. 이젠 끝난거야.. 만약 백신으로 차단이 안되더라도 그냥 감기나 독감 취급 받게될거고..',\n",
       "   '문발럼아 감빵에서 옥사까지 다이렉트로 가자',\n",
       "   '문재앙 때문에 2년 지나도 대한민국은 마스크 써야해요',\n",
       "   '작성자에 의해 삭제된 댓글입니다.',\n",
       "   '좋겠다... 우린 르완다와ㅜ함께 한다',\n",
       "   '도대체 이노무 정권은 뭐하나 제대로 할줄 아는게 하나도 없네..참! 하나 있지..말로만 하는것하고 구라까는거..',\n",
       "   '문재앙이 순식간에 한번도 경험해보지 못한 후진국으로 만들어버림',\n",
       "   '저러다 더 난리나지..',\n",
       "   'K방역 자화자찬할 동안 적시에 안전한 백신 수급해서 마스크벗는 나라 생겨나는거 보면 참 부끄럽다',\n",
       "   '결국.. 수순이군. 백신을 안맞을 수 없는.점점 공공장소로 확대될듯.',\n",
       "   '부럽다 천조국 ! 우리는 재앙이여 재앙 !'],\n",
       "  '좋아요': '7',\n",
       "  '훈훈해요': '0',\n",
       "  '슬퍼요': '2',\n",
       "  '화나요': '26',\n",
       "  '후속기사_원해요': '1'},\n",
       " 26: {'기사명': \"미국서 스타벅스·디즈니월드도 '노 마스크'에 합류\",\n",
       "  '날짜': '2021.05.16. 오전 5:02',\n",
       "  '추천수': '5',\n",
       "  '댓글': ['코로나는 흔한 감기. 나중에 마스크 풀려도 꼭 깨닫길. 같은일 반복하지 않으려면.',\n",
       "   '저러다 큰코 다친다. 인간은 자연앞에 항상 겸손함을 잃지 않아야 한다. 의학이 절대적이지 않다. 저렇게 거만한 행동은 위험한 모습이다.',\n",
       "   '나도 화이자나 모더나 맞고 마스크 벗고 싶다 마스크 쓰는거 너무 너무 귀찮음',\n",
       "   '미국은 마스크를 벗고 우리는 라마단 끝났으니 행사하라고 허가해 줘서 확진자 빵빵터지게 하고',\n",
       "   '정신못차리고 있네ㅉㅉ',\n",
       "   '부럽다 숨쉬기힘들다 무능한정부에대한 불만이 생겨난다',\n",
       "   '미국 지금도 하루에 4만명씩 확진자 나오고 있어요. 인구 비례하면 한국에서 매일 6000명씩 확진자 나오는 상황에서 마스크 벗고 다니는거임. 생각없음. ㅉㅉ',\n",
       "   '하루 확진자가 4만명같은데',\n",
       "   '이런기사엔 몇가지 체크를 하며 생각해봐야하지 않을까요? 1.소위 집단면역이 형성된 시점인가?2.신규확진자및 사망자가 인구수대비 우리나라 보다 낮은국가에서 시행중인가?3.백신접종이 접종자본인감염은 일정부분 방어한다하여도 미접종 타인에게 전파 감염시키는 부분에 대한 고찰은 잘이루어 지는가?위의세가지 사항을 고려할때 집단면역의 형성후 일정기간 데이터의 축척이 이뤄지기전 노마스크및 거리두기의 성급한 제한해제는 심사숙고의 대상이 아닐런지요.',\n",
       "   '작성자에 의해 삭제된 댓글입니다.',\n",
       "   '작성자에 의해 삭제된 댓글입니다.',\n",
       "   '백신 접종 NO!! 마스크 외치는 순간 개나, 소나 마스크 벗어 던진다.도대체 아무런 생각도 없는것 같다. 똥고집 늙은 노인층 이나, 아무 생각없는 젊은 층은 마스크 안쓸려고 고의적 거짓말로 백신접종 대상자 라고 속이고 돌아 다닐게 뻔하다.코로나19 이후 아무생각 없는 무뇌들이 너무 많은것 같다.',\n",
       "   '작성자에 의해 삭제된 댓글입니다.',\n",
       "   '결국 백신의 효과가 마스크 안씀으로써 높아지는 전파력이랑 상쇄되겠네... 왜 서양애들은 마스크쓰는것에 이렇게 질색하는지... 백신률 높아져서 감염자수 좀 떨어지면 그때가서 판단해도 될일을... 미국은 아직도 매일 3만명씩 환자가 나오는데...',\n",
       "   '미쳤네 미쳤어. 전문가들이 토착화를 예상하고 있는데. 쫌불편해도 집단면역후 독감 수준으로 안정화 될때까지는 조심조심.',\n",
       "   '하여튼 우리 한국사람들은 호들갑이 이래 심하다니깐미국은 노마스크화 하려고 저리 애쓰는데 말이야그리 따지자면 흔한 독감때 마스크 썼어야지',\n",
       "   '결국 국민성에 달려있는거다. 우리나라 사람들 워낙 팔랑귀에 겁이 많아 정부조차도 그러하니 덩달아 국민도 항상 쫒아가게 마련이지.... 도대체 야외 길거리 걷는데 마스크를 왜끼는데? 난 매번 길거리 사람들 보면서도 웃음만 나옴 ㅎㅎㅎ 혼자 사는 젊은 사람들 5명 이 모여 사업얘기를 하며 술한잔 기울이는게 왜 안되는건데? 결국 백신도 나올건데 도대체 왜?... 노인기준에 다 맞추다 경제 더 심각해짐...'],\n",
       "  '좋아요': '12',\n",
       "  '훈훈해요': '3',\n",
       "  '슬퍼요': '1',\n",
       "  '화나요': '8',\n",
       "  '후속기사_원해요': '2'},\n",
       " 27: {'기사명': \"미국은 마스크 벗는다..스타벅스·월마트·디즈니월드 '노 마스크' 허용\",\n",
       "  '날짜': '2021.05.16. 오전 10:50',\n",
       "  '추천수': '12',\n",
       "  '댓글': ['오히려 확진자 늘어나고 마스크는 점점 필수시대로 접어드는 문죄인 세상~;;;;',\n",
       "   '대깨문 화법:그러면 미국가서 살아요!! 빼애애액~',\n",
       "   '역시 화이자 모더나 백신이네 미국이 늦게 코로나터져서 제일 고생했는데 금방 정상화되네 부럽다',\n",
       "   '백신맞은 mlb선수들중에 확진된 선수들 있는데 벗는건 아직 좀 그렇지 않나',\n",
       "   '마스크 의무화 해제된 나라많아요... 다들 한국처럼 방역 개판으로 하진 않음.....',\n",
       "   '저러다 더난리날거같은데',\n",
       "   '미국 하루 확진자와 사망자가 얼마나 많은데...마치 성공한 것 처럼 말하네...부러우면 미국에 가...',\n",
       "   '국민들이 K방역 착실히 따른 댓가가 접종률 최하위국 ㅆㄷ',\n",
       "   '어차피 미국 또 크게 터짐 안봐도 뻔한데 그럼에도 댓글들은 무슨',\n",
       "   '근데 마스크 안쓴사람이 접종 받았는지 알게뭐임??개나소나 안쓰고 다니겟지',\n",
       "   '작성자에 의해 삭제된 댓글입니다.',\n",
       "   '미국 코로나 확진자 현황보면 벌싸 마스크 벗길 때는 아닌 것 같던데',\n",
       "   '벗는건 누구나 할수 있다. 문제는 걸리는 거지... 쟈들은 항상 성급해...',\n",
       "   '미국이 코로나 늦게 터지고 젤 고생했는데 금방 정상으로 돌아갈려고 하네요 저희 나라도 방역수칙을 잘 지켜서 없애봅시다',\n",
       "   'ㅠ 마구 부러워요',\n",
       "   '글쎄다...아직은 이른것 같은데.....마스크 쓰니까 감기도 안걸리고 뭐....백신 맞아도 밀폐된 곳이나 사람많은 곳에선 써야지.....',\n",
       "   '마스크 벗어도 된다고 했지 코로나 안걸린다고는 안함 ㅋㅋ',\n",
       "   '아직은 마스크 벗는게 아닌것 같은데....',\n",
       "   '글쎄,,,아직은 시기상조인 듯한데..제2의 인도가 될 수도 있는데.',\n",
       "   '하루 몇만명 확진나오는데 아주 위험한발상이군;;',\n",
       "   '대깨문이고 나발이고 저러다 확진자 더 늘어난다',\n",
       "   '엄청 심각하게 몇천명씩 나와도 이후에 국가에서 백신이며 뭐며 투자, 방역 제대로 하면 저렇게 펜데믹에서 조금씩 탈출 가능한데 우리 죄인이는 훠훠 700명대 K방역은 대단해요 훠훠 이걸 2년째 바라만 보면서 아무것도 안 하니 나중에 다른 나라 7명 나올 때 대한민국만 700명 나오겠어',\n",
       "   'ㅋㅋ 안전불감증 백신만으로는 소용없는 변위에 집단감염되봐야 정신 차리지',\n",
       "   '미국은 벌써부터 마스크를 벗는다니 부럽네요. 얼른 우리도 상황이 나아져서 마스크를 벗고 다니고싶네요.',\n",
       "   '오히려 시간이 지날수록 확진자는 줄어들 기미가 보이지않고 우리 세대에 마스크는 필수로 바껴가고 있는 현 상황이 참 비참하네요',\n",
       "   'ㅋㅋㅋㅋㅋㅋㅋㅋㅋㅋ',\n",
       "   '클린봇이 부적절한 표현을 감지한 댓글입니다.',\n",
       "   '클린봇이 부적절한 표현을 감지한 댓글입니다.',\n",
       "   '그러니까요.. 백신루머 퍼나르지말고 백신 맞고 정상화하자고 합시다. 쭉~~왔다갔다 하지 말고..일관성 있게..',\n",
       "   '걱정마요. 우리에겐 문제인 총통각하님의 게이방역이 성공을 거두고 있느잖아요. 화이자백신 그거 다 사실은 신라젠에서 만드는거에요',\n",
       "   '심각하게 몇천명씩 나와도 이후에 국가에서 백신이며 뭐며 투자, 방역 제대로 하면 저렇게 펜데믹에서 조금씩 탈출 가능합니다. 그런데우리 문정권은 700명대 K방역은 대단해요 ..이걸 2년째 바라만 보면서 아무것도 안 하니 나중에 다른 나라 7명 나올 때 대한민국만 700명 나오겠습니다.',\n",
       "   '노마스크의 문제는 누가 백신을 맞았고 안맞았는지 확인이 힘들단거 아닐까. 게다가 사생활을 더 중요시하는 미국이라면.',\n",
       "   '클린봇이 부적절한 표현을 감지한 댓글입니다.',\n",
       "   '작성자에 의해 삭제된 댓글입니다.',\n",
       "   '클린봇이 부적절한 표현을 감지한 댓글입니다.',\n",
       "   '클린봇이 부적절한 표현을 감지한 댓글입니다.',\n",
       "   '작성자에 의해 삭제된 댓글입니다.',\n",
       "   '화이자 모더나 사망자 천명에 육박한다 다 똑같어 임상제대로 안해성 ㅎ',\n",
       "   '백신맞았다는 증명서 종이라는데 . 위험타 마스크벗는건.',\n",
       "   '백신은 무력화 된다.원래 감기가 그래...',\n",
       "   '와우 마스크 벗는 거 부럽기도 하고 우려스럽기도 하네.',\n",
       "   '클린봇이 부적절한 표현을 감지한 댓글입니다.',\n",
       "   '잘하네우니도 벗어라 정치로 이용하지말고 인간답게 살자.',\n",
       "   '부럽다',\n",
       "   '클린봇이 부적절한 표현을 감지한 댓글입니다.',\n",
       "   '마스크언제까지쓰고잇냐 어휴',\n",
       "   '작성자에 의해 삭제된 댓글입니다.',\n",
       "   '작성자에 의해 삭제된 댓글입니다.',\n",
       "   '미국인이 볼때 한국을 부러워할까.한심한나라로 볼까...미국은 백신으로 코로나를 이기고 정상화하는데 중심이고...한국은 백신보다 봉쇄를 우선으로 하고 백신은 딴나라 부작용보고 늦게 백신구입하고....',\n",
       "   '조선은 재앙 재앙 선무당 문재앙',\n",
       "   '작성자에 의해 삭제된 댓글입니다.',\n",
       "   '쟤네 원래 잘 안썼는데',\n",
       "   '다음달까지 백신접종으로 집단면역 어려우면 여름에 에어컨에 환기안되는 내부 변이바이러스까지 그야말로 문재앙자옥이 눈앞이다 너희가 자식들에게 주려고 원한것이 이거냐 촛불부대?',\n",
       "   '대깨문들 유일한 자위거리가 미국이었는데 우짜노?ㅋㅋㅋ',\n",
       "   '방역도 밀렸네.백신만이 답인걸 왜 몰랐을까.이제 허둥지둥 백신 권장하니',\n",
       "   '멍청한 선택이죠. 마스크없이 살되, 코로나와 영원히 공존하는 삶이 정말 좋은 것인가 묻고 싶네요.',\n",
       "   '작성자에 의해 삭제된 댓글입니다.',\n",
       "   '이스라엘, 영국 등등 백신확보할때 당시 무능후 보건복지부장관이 합리적 가격으로 딜해야 한다며 백신확보시기 놓치고 이제와서 대깨달창들 뒷북치는 소리를 하고 있지. 이래서 문재앙 같은 종북좌빨이 권력을 지면 안되는거야. 주사파 공산주의자들은 현실감각이 없거든!',\n",
       "   '저게 정상이야. 백신(?) 개뿔이라 그래. 인간은 환경에서 스스로 면역력을 키우는데. 방구석에서 마스크 쓰면 면역력이 생기기는 커녕 더 아파서 뒈지는 경우가 많다. 면역력은 백신이 아니라 환경에서 빠르게 적응하고 하는게 정상이다',\n",
       "   '이런거보면 동양인이 머리좋다는건 걍 열등감에서 비롯한 망상인듯 이런거 대처보면 항상 서양에서 먼저 앞서감'],\n",
       "  '좋아요': '54',\n",
       "  '훈훈해요': '2',\n",
       "  '슬퍼요': '1',\n",
       "  '화나요': '28',\n",
       "  '후속기사_원해요': '1'},\n",
       " 29: {'기사명': \"춘천문화재단 '헬로! 디즈니' 콘서트\",\n",
       "  '날짜': '2021.05.17. 오전 9:55',\n",
       "  '추천수': '',\n",
       "  '댓글': [],\n",
       "  '좋아요': '0',\n",
       "  '훈훈해요': '0',\n",
       "  '슬퍼요': '0',\n",
       "  '화나요': '0',\n",
       "  '후속기사_원해요': '0'},\n",
       " 30: {'기사명': '달라진 서학개미 장바구니… 보잉·디즈니 경기회복株 늘렸다',\n",
       "  '날짜': '2021.05.17. 오후 5:38',\n",
       "  '추천수': '1',\n",
       "  '댓글': ['작성자에 의해 삭제된 댓글입니다.',\n",
       "   '슬슬 테슬라 재매수 해볼까나.',\n",
       "   '중소기업 회장만 되려해도 갈수록 하늘이 내어야 되는 시대다 나는 꽤 큰 스마트팜을 하는대 양적팽창에 한계를 느낀다 이래서야 언제 중소기업 반열에 오를까 이거는 성과제를 해보기도 했는대 어림택도 없더라 완전히 로보트가 하지 않는한 불가능 하더라'],\n",
       "  '좋아요': '1',\n",
       "  '훈훈해요': '0',\n",
       "  '슬퍼요': '0',\n",
       "  '화나요': '1',\n",
       "  '후속기사_원해요': '0'},\n",
       " 31: {'기사명': \"'코로나 특수 끝?' 넷플릭스 쫓던 디즈니+도 가입자 증가세↓\",\n",
       "  '날짜': '2021.05.14. 오전 11:18',\n",
       "  '추천수': '',\n",
       "  '댓글': ['OTT 다 통합했으면...',\n",
       "   '불법사이트에서 넷플릭스 디즈니오리지널 꽁짜로 막 다운로드할 수 있음. 요금을 올리기 전에 이것부터 막아야하지 않을까? 티빙이나 지상파 콘텐츠는 잘 막고 요금부과하고 있는데 외국계 회사들만 배째고 있음.',\n",
       "   '1년이 넘도록 우리를 괴롭히던 코로나의 위세가 백신의 접종으로 그 위세가 꺽이는 듯합니다. 집안에서 즐길거리를 찾다가 결국 바깥세상을 동경하는 마음은 다 똑 같은가 봅니다. 그날이 오길 기다리며 힘내십시오.',\n",
       "   '넷플릭스, 디즈니, 아마존 프라임 셋 다 써봤는데, 내 취향의 쇼들과 영화들은 아마존 프라임에 제일 많더라.'],\n",
       "  '좋아요': '0',\n",
       "  '훈훈해요': '0',\n",
       "  '슬퍼요': '0',\n",
       "  '화나요': '0',\n",
       "  '후속기사_원해요': '4'},\n",
       " 32: {'기사명': '디즈니+, 2분기 신규가입 870만명 그쳐…시장 기대치 하회',\n",
       "  '날짜': '2021.05.14. 오후 12:20',\n",
       "  '추천수': '',\n",
       "  '댓글': ['나온다 나온다 하고 안나오까 그렇지 얼마나 기달리게 하는건지 그러니 그렇ㅈ ㅉㅉ 뭘 알고 기사를써'],\n",
       "  '좋아요': '3',\n",
       "  '훈훈해요': '0',\n",
       "  '슬퍼요': '0',\n",
       "  '화나요': '0',\n",
       "  '후속기사_원해요': '1'},\n",
       " 33: {'기사명': 'OTT 성장 둔화하나…디즈니+ 가입 증가 시장 기대 못 미쳐',\n",
       "  '날짜': '2021.05.14. 오전 10:15',\n",
       "  '추천수': '',\n",
       "  '댓글': [],\n",
       "  '좋아요': '2',\n",
       "  '훈훈해요': '0',\n",
       "  '슬퍼요': '0',\n",
       "  '화나요': '0',\n",
       "  '후속기사_원해요': '1'}}"
      ]
     },
     "execution_count": 23,
     "metadata": {},
     "output_type": "execute_result"
    }
   ],
   "source": [
    "dict = {}\n",
    "\n",
    "for i in tqdm(range(0, len(df['url']))):\n",
    "    try:\n",
    "        # 뉴스 크롬창 띄우기\n",
    "        driver = webdriver.Chrome(\"C:\\chrome\\chromedriver.exe\")\n",
    "        driver.get(df['url'][i])\n",
    "        time.sleep(1)\n",
    "        \n",
    "        # 기사 데이터 수집\n",
    "        title = driver.find_element_by_css_selector('.tts_head').text\n",
    "        date = driver.find_element_by_css_selector('.t11').text\n",
    "        up = driver.find_element_by_css_selector('.u_cnt._count').text\n",
    "        like = driver.find_element_by_css_selector(\".end_btn .u_likeit_list.good .u_likeit_list_count._count\").text\n",
    "        warm = driver.find_element_by_css_selector('.end_btn .u_likeit_list.warm .u_likeit_list_count._count').text\n",
    "        sad = driver.find_element_by_css_selector('.end_btn .u_likeit_list.sad .u_likeit_list_count._count').text\n",
    "        angry = driver.find_element_by_css_selector('.end_btn .u_likeit_list.angry .u_likeit_list_count._count').text\n",
    "        want = driver.find_element_by_css_selector('.end_btn .u_likeit_list.want .u_likeit_list_count._count').text\n",
    "        \n",
    "        # 기사 댓글 갯수\n",
    "        review_count = int(driver.find_element_by_css_selector('.u_cbox_count').text.replace(',', ''))\n",
    "\n",
    "        # 더보기 클릭\n",
    "        moreview_num = review_count//20\n",
    "\n",
    "        # 댓글 버튼 클릭\n",
    "        driver.find_element_by_css_selector('.lo_txt').click()\n",
    "        time.sleep(1)\n",
    "\n",
    "        # 더보기 여러번 클릭\n",
    "        k=0\n",
    "        while k <=moreview_num: # 더보기 횟수만큼 반복\n",
    "            try:\n",
    "                driver.find_element_by_css_selector('.u_cbox_page_more').click() # 더보기 버튼 클릭\n",
    "                time.sleep(1)\n",
    "                k=k+1\n",
    "            except:\n",
    "                break # 에러나면 클릭 반복문을 빠져나가라   \n",
    "                \n",
    "        # review 수집하기\n",
    "        review_list = []\n",
    "\n",
    "        overlays1 = \".u_cbox_text_wrap\"\n",
    "        reviews = driver.find_elements_by_css_selector(overlays1)\n",
    "\n",
    "        for review in tqdm(reviews):    \n",
    "            review = review.text\n",
    "            review_list.append(review)  \n",
    "            \n",
    "        target_info = {}\n",
    "\n",
    "        target_info['기사명'] = title\n",
    "        target_info['날짜'] = date\n",
    "        target_info['추천수'] = up\n",
    "        target_info['댓글'] = review_list\n",
    "        target_info['좋아요'] = like\n",
    "        target_info['훈훈해요']= warm\n",
    "        target_info['슬퍼요']= sad\n",
    "        target_info['화나요']= angry\n",
    "        target_info['후속기사_원해요']= want\n",
    "        \n",
    "        dict[i]=target_info\n",
    "        print(title, '( 댓글 수:', len(review_list),')')\n",
    "        \n",
    "        driver.close()\n",
    "        time.sleep(1)\n",
    "        \n",
    "    except:\n",
    "        driver.close()\n",
    "        continue\n",
    "        \n",
    "print(len(dict))\n",
    "dict"
   ]
  },
  {
   "cell_type": "code",
   "execution_count": 26,
   "metadata": {},
   "outputs": [],
   "source": [
    "import pandas as pd\n",
    "result_df = pd.DataFrame.from_dict(dict,'index')\n",
    "\n",
    "result_df.to_excel('./dataset/naver_article_({}).xlsx'.format(keyword))"
   ]
  },
  {
   "cell_type": "code",
   "execution_count": 27,
   "metadata": {},
   "outputs": [
    {
     "data": {
      "text/html": [
       "<div>\n",
       "<style scoped>\n",
       "    .dataframe tbody tr th:only-of-type {\n",
       "        vertical-align: middle;\n",
       "    }\n",
       "\n",
       "    .dataframe tbody tr th {\n",
       "        vertical-align: top;\n",
       "    }\n",
       "\n",
       "    .dataframe thead th {\n",
       "        text-align: right;\n",
       "    }\n",
       "</style>\n",
       "<table border=\"1\" class=\"dataframe\">\n",
       "  <thead>\n",
       "    <tr style=\"text-align: right;\">\n",
       "      <th></th>\n",
       "      <th>기사명</th>\n",
       "      <th>날짜</th>\n",
       "      <th>추천수</th>\n",
       "      <th>댓글</th>\n",
       "      <th>좋아요</th>\n",
       "      <th>훈훈해요</th>\n",
       "      <th>슬퍼요</th>\n",
       "      <th>화나요</th>\n",
       "      <th>후속기사_원해요</th>\n",
       "    </tr>\n",
       "  </thead>\n",
       "  <tbody>\n",
       "    <tr>\n",
       "      <th>0</th>\n",
       "      <td>[오~컬쳐]디즈니, 한국서 게임 영토 확장…'디즈니+'로 시너지 낼까</td>\n",
       "      <td>2021.05.18. 오전 10:42</td>\n",
       "      <td>7</td>\n",
       "      <td>[아갈만 털지말고 좀 출시일을 내라고 매번 지겨운 예정예정, 디즈니 주가좀 어떻게....</td>\n",
       "      <td>5</td>\n",
       "      <td>0</td>\n",
       "      <td>0</td>\n",
       "      <td>0</td>\n",
       "      <td>5</td>\n",
       "    </tr>\n",
       "    <tr>\n",
       "      <th>1</th>\n",
       "      <td>디즈니코리아, 韓게임사 협업 지속…니모·오메가 플라이트 출격</td>\n",
       "      <td>2021.05.18. 오전 9:39</td>\n",
       "      <td></td>\n",
       "      <td>[누가 디즈니 주가좀 올려주세요. 사망직전.]</td>\n",
       "      <td>1</td>\n",
       "      <td>0</td>\n",
       "      <td>0</td>\n",
       "      <td>0</td>\n",
       "      <td>0</td>\n",
       "    </tr>\n",
       "    <tr>\n",
       "      <th>8</th>\n",
       "      <td>워너-디스커버리, 49조원대 합병…\"넷플릭스·디즈니 추격\"(종합)</td>\n",
       "      <td>2021.05.18. 오전 12:04</td>\n",
       "      <td></td>\n",
       "      <td>[]</td>\n",
       "      <td>3</td>\n",
       "      <td>0</td>\n",
       "      <td>0</td>\n",
       "      <td>0</td>\n",
       "      <td>0</td>\n",
       "    </tr>\n",
       "    <tr>\n",
       "      <th>9</th>\n",
       "      <td>“넷플릭스·디즈니+ 잡는다”…AT&amp;T, 디스커버리와 합병 계약 [장가희 기자의 뉴스픽]</td>\n",
       "      <td>2021.05.18. 오전 6:30</td>\n",
       "      <td></td>\n",
       "      <td>[아마존을 뺐내.Ott시장 2위가 아마존 3위가 디즈니+인데 왜 Ott시장을 넷플릭...</td>\n",
       "      <td>2</td>\n",
       "      <td>0</td>\n",
       "      <td>0</td>\n",
       "      <td>6</td>\n",
       "      <td>0</td>\n",
       "    </tr>\n",
       "    <tr>\n",
       "      <th>10</th>\n",
       "      <td>美 워너-디스커버리 합병…디즈니·넷플릭스 추격</td>\n",
       "      <td>2021.05.18. 오전 7:42</td>\n",
       "      <td>1</td>\n",
       "      <td>[디즈니가 최고다, 3등은 살아남기 힘들다. 2등도 괴로운데.]</td>\n",
       "      <td>4</td>\n",
       "      <td>0</td>\n",
       "      <td>0</td>\n",
       "      <td>0</td>\n",
       "      <td>2</td>\n",
       "    </tr>\n",
       "    <tr>\n",
       "      <th>11</th>\n",
       "      <td>워너미디어-디스커버리, 49조원 합병…넷플릭스‧디즈니+ 쫓는다</td>\n",
       "      <td>2021.05.18. 오전 11:16</td>\n",
       "      <td>1</td>\n",
       "      <td>[]</td>\n",
       "      <td>2</td>\n",
       "      <td>0</td>\n",
       "      <td>0</td>\n",
       "      <td>0</td>\n",
       "      <td>0</td>\n",
       "    </tr>\n",
       "    <tr>\n",
       "      <th>12</th>\n",
       "      <td>AT&amp;T, 디스커버리 합병 추진…넷플·디즈니 아성에 도전(종합)</td>\n",
       "      <td>2021.05.17. 오전 11:13</td>\n",
       "      <td></td>\n",
       "      <td>[합쳐도 모자른판에 더 먹겄다고 따로 하는 신세들이 무슨 보호임]</td>\n",
       "      <td>4</td>\n",
       "      <td>0</td>\n",
       "      <td>0</td>\n",
       "      <td>0</td>\n",
       "      <td>0</td>\n",
       "    </tr>\n",
       "    <tr>\n",
       "      <th>13</th>\n",
       "      <td>AT&amp;T, '다큐 왕국' 디스커버리 품었다</td>\n",
       "      <td>2021.05.17. 오후 5:23</td>\n",
       "      <td>1</td>\n",
       "      <td>[작성자에 의해 삭제된 댓글입니다.]</td>\n",
       "      <td>2</td>\n",
       "      <td>0</td>\n",
       "      <td>0</td>\n",
       "      <td>1</td>\n",
       "      <td>2</td>\n",
       "    </tr>\n",
       "    <tr>\n",
       "      <th>14</th>\n",
       "      <td>AT&amp;T-디스커버리 합병…\"넷플릭스·디즈니 추격\"</td>\n",
       "      <td>2021.05.17. 오후 10:36</td>\n",
       "      <td></td>\n",
       "      <td>[]</td>\n",
       "      <td>0</td>\n",
       "      <td>0</td>\n",
       "      <td>0</td>\n",
       "      <td>0</td>\n",
       "      <td>0</td>\n",
       "    </tr>\n",
       "    <tr>\n",
       "      <th>15</th>\n",
       "      <td>AT&amp;T-디스커버리 합병…\"넷플릭스·디즈니 추격\"</td>\n",
       "      <td>2021.05.17. 오후 8:31</td>\n",
       "      <td></td>\n",
       "      <td>[]</td>\n",
       "      <td>0</td>\n",
       "      <td>0</td>\n",
       "      <td>0</td>\n",
       "      <td>0</td>\n",
       "      <td>0</td>\n",
       "    </tr>\n",
       "    <tr>\n",
       "      <th>16</th>\n",
       "      <td>AT&amp;T, 디스커버리와 합병 계약…넷플릭스·디즈니 추격 나선다</td>\n",
       "      <td>2021.05.17. 오후 6:19</td>\n",
       "      <td></td>\n",
       "      <td>[궁금해서 읽어보니 난 저거 결렬될 거 같은데]</td>\n",
       "      <td>0</td>\n",
       "      <td>0</td>\n",
       "      <td>0</td>\n",
       "      <td>0</td>\n",
       "      <td>0</td>\n",
       "    </tr>\n",
       "    <tr>\n",
       "      <th>17</th>\n",
       "      <td>넷플릭스 · 디즈니 잡는다…워너-디스커버리 '49조 원대' 합병</td>\n",
       "      <td>2021.05.18. 오전 2:03</td>\n",
       "      <td>2</td>\n",
       "      <td>[월이용료나 좀 낮췄으면 좋겠다, 근데 둘이 주식은 왜그렇게 떨어지나요, 작성자에 ...</td>\n",
       "      <td>7</td>\n",
       "      <td>0</td>\n",
       "      <td>0</td>\n",
       "      <td>2</td>\n",
       "      <td>1</td>\n",
       "    </tr>\n",
       "    <tr>\n",
       "      <th>18</th>\n",
       "      <td>워너-디스커버리, 49조원대 합병...\"넷플릭스·디즈니 추격\"</td>\n",
       "      <td>2021.05.18. 오전 12:29</td>\n",
       "      <td></td>\n",
       "      <td>[]</td>\n",
       "      <td>0</td>\n",
       "      <td>0</td>\n",
       "      <td>0</td>\n",
       "      <td>0</td>\n",
       "      <td>0</td>\n",
       "    </tr>\n",
       "    <tr>\n",
       "      <th>19</th>\n",
       "      <td>또하나의 스트리밍 거인 탄생…AT&amp;T·디스커버리 합병 계약</td>\n",
       "      <td>2021.05.18. 오전 12:04</td>\n",
       "      <td>1</td>\n",
       "      <td>[]</td>\n",
       "      <td>1</td>\n",
       "      <td>0</td>\n",
       "      <td>0</td>\n",
       "      <td>0</td>\n",
       "      <td>0</td>\n",
       "    </tr>\n",
       "    <tr>\n",
       "      <th>20</th>\n",
       "      <td>'노 마스크'로 디즈니월드 활보하는 방문객들</td>\n",
       "      <td>2021.05.18. 오전 10:16</td>\n",
       "      <td></td>\n",
       "      <td>[]</td>\n",
       "      <td>0</td>\n",
       "      <td>0</td>\n",
       "      <td>0</td>\n",
       "      <td>1</td>\n",
       "      <td>0</td>\n",
       "    </tr>\n",
       "    <tr>\n",
       "      <th>21</th>\n",
       "      <td>[사진] 미국 디즈니월드도 '노 마스크'</td>\n",
       "      <td>2021.05.18. 오후 5:37</td>\n",
       "      <td>1</td>\n",
       "      <td>[]</td>\n",
       "      <td>1</td>\n",
       "      <td>0</td>\n",
       "      <td>0</td>\n",
       "      <td>0</td>\n",
       "      <td>0</td>\n",
       "    </tr>\n",
       "    <tr>\n",
       "      <th>22</th>\n",
       "      <td>마스크 없이 디즈니월드 돌아다니는 방문객들</td>\n",
       "      <td>2021.05.18. 오전 10:16</td>\n",
       "      <td></td>\n",
       "      <td>[]</td>\n",
       "      <td>0</td>\n",
       "      <td>0</td>\n",
       "      <td>0</td>\n",
       "      <td>1</td>\n",
       "      <td>0</td>\n",
       "    </tr>\n",
       "    <tr>\n",
       "      <th>23</th>\n",
       "      <td>스타벅스·디즈니월드도 ‘노마스크’ 대열 합류</td>\n",
       "      <td>2021.05.16. 오전 7:13</td>\n",
       "      <td>1</td>\n",
       "      <td>[부럽다!, 원래 마스크 안하는 애들은 더 떳떳하게 안하고 원래 하는 사람들은 계속...</td>\n",
       "      <td>6</td>\n",
       "      <td>0</td>\n",
       "      <td>0</td>\n",
       "      <td>1</td>\n",
       "      <td>0</td>\n",
       "    </tr>\n",
       "    <tr>\n",
       "      <th>24</th>\n",
       "      <td>미국에서 스타벅스·디즈니월드도 '노 마스크'에 합류</td>\n",
       "      <td>2021.05.16. 오전 5:50</td>\n",
       "      <td>3</td>\n",
       "      <td>[우린 쩝쩝거리고만 있는데, 뭐가 그리 급할까 ㅉㅉ, 미국 전체적으로 30% 밖에 ...</td>\n",
       "      <td>8</td>\n",
       "      <td>0</td>\n",
       "      <td>0</td>\n",
       "      <td>9</td>\n",
       "      <td>0</td>\n",
       "    </tr>\n",
       "    <tr>\n",
       "      <th>25</th>\n",
       "      <td>스타벅스도 디즈니도 \"백신 접종자 마스크 안써도 된다\"</td>\n",
       "      <td>2021.05.16. 오전 10:24</td>\n",
       "      <td>5</td>\n",
       "      <td>[원래 실외에서 본인주변 5미터 이내에 사람없으면 마스크 벗어도 상관없어야 정상이지...</td>\n",
       "      <td>7</td>\n",
       "      <td>0</td>\n",
       "      <td>2</td>\n",
       "      <td>26</td>\n",
       "      <td>1</td>\n",
       "    </tr>\n",
       "    <tr>\n",
       "      <th>26</th>\n",
       "      <td>미국서 스타벅스·디즈니월드도 '노 마스크'에 합류</td>\n",
       "      <td>2021.05.16. 오전 5:02</td>\n",
       "      <td>5</td>\n",
       "      <td>[코로나는 흔한 감기. 나중에 마스크 풀려도 꼭 깨닫길. 같은일 반복하지 않으려면....</td>\n",
       "      <td>12</td>\n",
       "      <td>3</td>\n",
       "      <td>1</td>\n",
       "      <td>8</td>\n",
       "      <td>2</td>\n",
       "    </tr>\n",
       "    <tr>\n",
       "      <th>27</th>\n",
       "      <td>미국은 마스크 벗는다..스타벅스·월마트·디즈니월드 '노 마스크' 허용</td>\n",
       "      <td>2021.05.16. 오전 10:50</td>\n",
       "      <td>12</td>\n",
       "      <td>[오히려 확진자 늘어나고 마스크는 점점 필수시대로 접어드는 문죄인 세상~;;;;, ...</td>\n",
       "      <td>54</td>\n",
       "      <td>2</td>\n",
       "      <td>1</td>\n",
       "      <td>28</td>\n",
       "      <td>1</td>\n",
       "    </tr>\n",
       "    <tr>\n",
       "      <th>29</th>\n",
       "      <td>춘천문화재단 '헬로! 디즈니' 콘서트</td>\n",
       "      <td>2021.05.17. 오전 9:55</td>\n",
       "      <td></td>\n",
       "      <td>[]</td>\n",
       "      <td>0</td>\n",
       "      <td>0</td>\n",
       "      <td>0</td>\n",
       "      <td>0</td>\n",
       "      <td>0</td>\n",
       "    </tr>\n",
       "    <tr>\n",
       "      <th>30</th>\n",
       "      <td>달라진 서학개미 장바구니… 보잉·디즈니 경기회복株 늘렸다</td>\n",
       "      <td>2021.05.17. 오후 5:38</td>\n",
       "      <td>1</td>\n",
       "      <td>[작성자에 의해 삭제된 댓글입니다., 슬슬 테슬라 재매수 해볼까나., 중소기업 회장...</td>\n",
       "      <td>1</td>\n",
       "      <td>0</td>\n",
       "      <td>0</td>\n",
       "      <td>1</td>\n",
       "      <td>0</td>\n",
       "    </tr>\n",
       "    <tr>\n",
       "      <th>31</th>\n",
       "      <td>'코로나 특수 끝?' 넷플릭스 쫓던 디즈니+도 가입자 증가세↓</td>\n",
       "      <td>2021.05.14. 오전 11:18</td>\n",
       "      <td></td>\n",
       "      <td>[OTT 다 통합했으면..., 불법사이트에서 넷플릭스 디즈니오리지널 꽁짜로 막 다운...</td>\n",
       "      <td>0</td>\n",
       "      <td>0</td>\n",
       "      <td>0</td>\n",
       "      <td>0</td>\n",
       "      <td>4</td>\n",
       "    </tr>\n",
       "    <tr>\n",
       "      <th>32</th>\n",
       "      <td>디즈니+, 2분기 신규가입 870만명 그쳐…시장 기대치 하회</td>\n",
       "      <td>2021.05.14. 오후 12:20</td>\n",
       "      <td></td>\n",
       "      <td>[나온다 나온다 하고 안나오까 그렇지 얼마나 기달리게 하는건지 그러니 그렇ㅈ ㅉㅉ ...</td>\n",
       "      <td>3</td>\n",
       "      <td>0</td>\n",
       "      <td>0</td>\n",
       "      <td>0</td>\n",
       "      <td>1</td>\n",
       "    </tr>\n",
       "    <tr>\n",
       "      <th>33</th>\n",
       "      <td>OTT 성장 둔화하나…디즈니+ 가입 증가 시장 기대 못 미쳐</td>\n",
       "      <td>2021.05.14. 오전 10:15</td>\n",
       "      <td></td>\n",
       "      <td>[]</td>\n",
       "      <td>2</td>\n",
       "      <td>0</td>\n",
       "      <td>0</td>\n",
       "      <td>0</td>\n",
       "      <td>1</td>\n",
       "    </tr>\n",
       "  </tbody>\n",
       "</table>\n",
       "</div>"
      ],
      "text/plain": [
       "                                                 기사명                    날짜  \\\n",
       "0             [오~컬쳐]디즈니, 한국서 게임 영토 확장…'디즈니+'로 시너지 낼까  2021.05.18. 오전 10:42   \n",
       "1                  디즈니코리아, 韓게임사 협업 지속…니모·오메가 플라이트 출격   2021.05.18. 오전 9:39   \n",
       "8               워너-디스커버리, 49조원대 합병…\"넷플릭스·디즈니 추격\"(종합)  2021.05.18. 오전 12:04   \n",
       "9   “넷플릭스·디즈니+ 잡는다”…AT&T, 디스커버리와 합병 계약 [장가희 기자의 뉴스픽]   2021.05.18. 오전 6:30   \n",
       "10                         美 워너-디스커버리 합병…디즈니·넷플릭스 추격   2021.05.18. 오전 7:42   \n",
       "11                워너미디어-디스커버리, 49조원 합병…넷플릭스‧디즈니+ 쫓는다  2021.05.18. 오전 11:16   \n",
       "12               AT&T, 디스커버리 합병 추진…넷플·디즈니 아성에 도전(종합)  2021.05.17. 오전 11:13   \n",
       "13                           AT&T, '다큐 왕국' 디스커버리 품었다   2021.05.17. 오후 5:23   \n",
       "14                       AT&T-디스커버리 합병…\"넷플릭스·디즈니 추격\"  2021.05.17. 오후 10:36   \n",
       "15                       AT&T-디스커버리 합병…\"넷플릭스·디즈니 추격\"   2021.05.17. 오후 8:31   \n",
       "16                AT&T, 디스커버리와 합병 계약…넷플릭스·디즈니 추격 나선다   2021.05.17. 오후 6:19   \n",
       "17               넷플릭스 · 디즈니 잡는다…워너-디스커버리 '49조 원대' 합병   2021.05.18. 오전 2:03   \n",
       "18                워너-디스커버리, 49조원대 합병...\"넷플릭스·디즈니 추격\"  2021.05.18. 오전 12:29   \n",
       "19                  또하나의 스트리밍 거인 탄생…AT&T·디스커버리 합병 계약  2021.05.18. 오전 12:04   \n",
       "20                          '노 마스크'로 디즈니월드 활보하는 방문객들  2021.05.18. 오전 10:16   \n",
       "21                            [사진] 미국 디즈니월드도 '노 마스크'   2021.05.18. 오후 5:37   \n",
       "22                           마스크 없이 디즈니월드 돌아다니는 방문객들  2021.05.18. 오전 10:16   \n",
       "23                          스타벅스·디즈니월드도 ‘노마스크’ 대열 합류   2021.05.16. 오전 7:13   \n",
       "24                      미국에서 스타벅스·디즈니월드도 '노 마스크'에 합류   2021.05.16. 오전 5:50   \n",
       "25                    스타벅스도 디즈니도 \"백신 접종자 마스크 안써도 된다\"  2021.05.16. 오전 10:24   \n",
       "26                       미국서 스타벅스·디즈니월드도 '노 마스크'에 합류   2021.05.16. 오전 5:02   \n",
       "27            미국은 마스크 벗는다..스타벅스·월마트·디즈니월드 '노 마스크' 허용  2021.05.16. 오전 10:50   \n",
       "29                              춘천문화재단 '헬로! 디즈니' 콘서트   2021.05.17. 오전 9:55   \n",
       "30                   달라진 서학개미 장바구니… 보잉·디즈니 경기회복株 늘렸다   2021.05.17. 오후 5:38   \n",
       "31                '코로나 특수 끝?' 넷플릭스 쫓던 디즈니+도 가입자 증가세↓  2021.05.14. 오전 11:18   \n",
       "32                 디즈니+, 2분기 신규가입 870만명 그쳐…시장 기대치 하회  2021.05.14. 오후 12:20   \n",
       "33                 OTT 성장 둔화하나…디즈니+ 가입 증가 시장 기대 못 미쳐  2021.05.14. 오전 10:15   \n",
       "\n",
       "   추천수                                                 댓글 좋아요 훈훈해요 슬퍼요 화나요  \\\n",
       "0    7  [아갈만 털지말고 좀 출시일을 내라고 매번 지겨운 예정예정, 디즈니 주가좀 어떻게....   5    0   0   0   \n",
       "1                               [누가 디즈니 주가좀 올려주세요. 사망직전.]   1    0   0   0   \n",
       "8                                                      []   3    0   0   0   \n",
       "9       [아마존을 뺐내.Ott시장 2위가 아마존 3위가 디즈니+인데 왜 Ott시장을 넷플릭...   2    0   0   6   \n",
       "10   1                [디즈니가 최고다, 3등은 살아남기 힘들다. 2등도 괴로운데.]   4    0   0   0   \n",
       "11   1                                                 []   2    0   0   0   \n",
       "12                   [합쳐도 모자른판에 더 먹겄다고 따로 하는 신세들이 무슨 보호임]   4    0   0   0   \n",
       "13   1                               [작성자에 의해 삭제된 댓글입니다.]   2    0   0   1   \n",
       "14                                                     []   0    0   0   0   \n",
       "15                                                     []   0    0   0   0   \n",
       "16                             [궁금해서 읽어보니 난 저거 결렬될 거 같은데]   0    0   0   0   \n",
       "17   2  [월이용료나 좀 낮췄으면 좋겠다, 근데 둘이 주식은 왜그렇게 떨어지나요, 작성자에 ...   7    0   0   2   \n",
       "18                                                     []   0    0   0   0   \n",
       "19   1                                                 []   1    0   0   0   \n",
       "20                                                     []   0    0   0   1   \n",
       "21   1                                                 []   1    0   0   0   \n",
       "22                                                     []   0    0   0   1   \n",
       "23   1  [부럽다!, 원래 마스크 안하는 애들은 더 떳떳하게 안하고 원래 하는 사람들은 계속...   6    0   0   1   \n",
       "24   3  [우린 쩝쩝거리고만 있는데, 뭐가 그리 급할까 ㅉㅉ, 미국 전체적으로 30% 밖에 ...   8    0   0   9   \n",
       "25   5  [원래 실외에서 본인주변 5미터 이내에 사람없으면 마스크 벗어도 상관없어야 정상이지...   7    0   2  26   \n",
       "26   5  [코로나는 흔한 감기. 나중에 마스크 풀려도 꼭 깨닫길. 같은일 반복하지 않으려면....  12    3   1   8   \n",
       "27  12  [오히려 확진자 늘어나고 마스크는 점점 필수시대로 접어드는 문죄인 세상~;;;;, ...  54    2   1  28   \n",
       "29                                                     []   0    0   0   0   \n",
       "30   1  [작성자에 의해 삭제된 댓글입니다., 슬슬 테슬라 재매수 해볼까나., 중소기업 회장...   1    0   0   1   \n",
       "31      [OTT 다 통합했으면..., 불법사이트에서 넷플릭스 디즈니오리지널 꽁짜로 막 다운...   0    0   0   0   \n",
       "32      [나온다 나온다 하고 안나오까 그렇지 얼마나 기달리게 하는건지 그러니 그렇ㅈ ㅉㅉ ...   3    0   0   0   \n",
       "33                                                     []   2    0   0   0   \n",
       "\n",
       "   후속기사_원해요  \n",
       "0         5  \n",
       "1         0  \n",
       "8         0  \n",
       "9         0  \n",
       "10        2  \n",
       "11        0  \n",
       "12        0  \n",
       "13        2  \n",
       "14        0  \n",
       "15        0  \n",
       "16        0  \n",
       "17        1  \n",
       "18        0  \n",
       "19        0  \n",
       "20        0  \n",
       "21        0  \n",
       "22        0  \n",
       "23        0  \n",
       "24        0  \n",
       "25        1  \n",
       "26        2  \n",
       "27        1  \n",
       "29        0  \n",
       "30        0  \n",
       "31        4  \n",
       "32        1  \n",
       "33        1  "
      ]
     },
     "execution_count": 27,
     "metadata": {},
     "output_type": "execute_result"
    }
   ],
   "source": [
    "result_df"
   ]
  }
 ],
 "metadata": {
  "kernelspec": {
   "display_name": "Python 3",
   "language": "python",
   "name": "python3"
  },
  "language_info": {
   "codemirror_mode": {
    "name": "ipython",
    "version": 3
   },
   "file_extension": ".py",
   "mimetype": "text/x-python",
   "name": "python",
   "nbconvert_exporter": "python",
   "pygments_lexer": "ipython3",
   "version": "3.8.3"
  }
 },
 "nbformat": 4,
 "nbformat_minor": 4
}
