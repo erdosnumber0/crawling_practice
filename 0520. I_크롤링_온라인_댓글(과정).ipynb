{
 "cells": [
  {
   "cell_type": "code",
   "execution_count": 1,
   "metadata": {},
   "outputs": [],
   "source": [
    "# 라이브러리 import\n",
    "import pandas as pd\n",
    "import numpy as np\n",
    "\n",
    "from selenium import webdriver\n",
    "from bs4 import BeautifulSoup \n",
    "from tqdm.notebook import tqdm\n",
    "import time\n",
    "import re"
   ]
  },
  {
   "cell_type": "markdown",
   "metadata": {},
   "source": [
    "# 코드 연습"
   ]
  },
  {
   "cell_type": "code",
   "execution_count": 57,
   "metadata": {},
   "outputs": [],
   "source": [
    "driver = webdriver.Chrome('C:\\chrome\\chromedriver.exe')\n",
    "url = \"https://www.idus.com/oc\" # 온라인\n",
    "driver.get(url)\n",
    "time.sleep(3)\n",
    "\n",
    "time.sleep(2)\n",
    "html = driver.page_source\n",
    "soup = BeautifulSoup(html, 'html.parser')\n",
    "\n",
    "# 카테고리 클릭\n",
    "driver.find_element_by_xpath(\"/html/body/div[3]/div[3]/section[6]/div/div/div[3]/div/div[2]/button/span\").click( )\n",
    "time.sleep(1)\n"
   ]
  },
  {
   "cell_type": "code",
   "execution_count": 58,
   "metadata": {},
   "outputs": [],
   "source": [
    "# 공예부분 모두 클릭\n",
    "driver.find_element_by_xpath(\"/html/body/div[3]/div[3]/section[6]/div/div/div[3]/div[2]/div[1]/div[2]/div[1]/div[2]/div[1]/input\").click( )\n",
    "\n",
    "driver.find_element_by_xpath(\"/html/body/div[3]/div[3]/section[6]/div/div/div[3]/div[2]/div[1]/div[2]/div[1]/div[2]/div[2]/input\").click( )\n",
    "\n",
    "driver.find_element_by_xpath(\"/html/body/div[3]/div[3]/section[6]/div/div/div[3]/div[2]/div[1]/div[2]/div[1]/div[2]/div[3]/input\").click( )\n",
    "\n",
    "driver.find_element_by_xpath(\"/html/body/div[3]/div[3]/section[6]/div/div/div[3]/div[2]/div[1]/div[2]/div[1]/div[2]/div[4]/input\").click( )\n",
    "\n",
    "driver.find_element_by_xpath(\"/html/body/div[3]/div[3]/section[6]/div/div/div[3]/div[2]/div[1]/div[2]/div[1]/div[2]/div[5]/input\").click( )\n",
    "\n",
    "driver.find_element_by_xpath(\"/html/body/div[3]/div[3]/section[6]/div/div/div[3]/div[2]/div[1]/div[2]/div[1]/div[2]/div[6]/input\").click( )\n",
    "\n",
    "driver.find_element_by_xpath(\"/html/body/div[3]/div[3]/section[6]/div/div/div[3]/div[2]/div[1]/div[2]/div[1]/div[2]/div[7]/input\").click( )\n",
    "\n",
    "driver.find_element_by_xpath(\"/html/body/div[3]/div[3]/section[6]/div/div/div[3]/div[2]/div[1]/div[2]/div[1]/div[2]/div[8]/input\").click( )\n",
    "\n",
    "driver.find_element_by_xpath(\"/html/body/div[3]/div[3]/section[6]/div/div/div[3]/div[2]/div[1]/div[2]/div[1]/div[2]/div[9]/input\").click( )\n",
    "\n",
    "driver.find_element_by_xpath(\"/html/body/div[3]/div[3]/section[6]/div/div/div[3]/div[2]/div[1]/div[2]/div[1]/div[2]/div[10]/input\").click( )\n",
    "\n",
    "driver.find_element_by_xpath(\"/html/body/div[3]/div[3]/section[6]/div/div/div[3]/div[2]/div[1]/div[2]/div[1]/div[2]/div[11]/input\").click( )\n",
    "\n",
    "driver.find_element_by_xpath(\"/html/body/div[3]/div[3]/section[6]/div/div/div[3]/div[2]/div[1]/div[2]/div[1]/div[2]/div[12]/input\").click( )\n",
    "\n",
    "driver.find_element_by_xpath(\"/html/body/div[3]/div[3]/section[6]/div/div/div[3]/div[2]/div[1]/div[2]/div[1]/div[2]/div[13]/input\").click( )\n"
   ]
  },
  {
   "cell_type": "code",
   "execution_count": 3,
   "metadata": {},
   "outputs": [],
   "source": [
    "# 스크롤을 밑으로 내려주는 함수\n",
    "def scroll_down(driver):\n",
    "    driver.execute_script(\"window.scrollTo(0, 19431049)\")\n",
    "    time.sleep(1)\n",
    "\n",
    "# n: 스크롤할 횟수 설정\n",
    "n = 5 # 일종에 페이지수라고 보면 될 듯\n",
    "i = 0\n",
    "while i < n: # 이 조건이 만족되는 동안 반복 실행\n",
    "    scroll_down(driver) # 스크롤 다운\n",
    "    i = i+1"
   ]
  },
  {
   "cell_type": "code",
   "execution_count": 4,
   "metadata": {},
   "outputs": [
    {
     "data": {
      "text/plain": [
       "[<selenium.webdriver.remote.webelement.WebElement (session=\"1bfd163bf674f8a5983a6c39a369a6dd\", element=\"caa649a8-cd26-4cad-b019-f61fec7c2de6\")>,\n",
       " <selenium.webdriver.remote.webelement.WebElement (session=\"1bfd163bf674f8a5983a6c39a369a6dd\", element=\"ae00f515-c99b-45c1-a6c7-0ef2809ac342\")>,\n",
       " <selenium.webdriver.remote.webelement.WebElement (session=\"1bfd163bf674f8a5983a6c39a369a6dd\", element=\"8af17b26-7f48-4300-901e-084316b27e46\")>,\n",
       " <selenium.webdriver.remote.webelement.WebElement (session=\"1bfd163bf674f8a5983a6c39a369a6dd\", element=\"5975f736-3aeb-43a5-945e-17db4416e1b0\")>,\n",
       " <selenium.webdriver.remote.webelement.WebElement (session=\"1bfd163bf674f8a5983a6c39a369a6dd\", element=\"69e0b9e0-ef1f-4031-a176-453fba0e896f\")>,\n",
       " <selenium.webdriver.remote.webelement.WebElement (session=\"1bfd163bf674f8a5983a6c39a369a6dd\", element=\"faec55fc-8c2b-4e4c-a872-6dca1c948a08\")>,\n",
       " <selenium.webdriver.remote.webelement.WebElement (session=\"1bfd163bf674f8a5983a6c39a369a6dd\", element=\"4ed74fbe-f3e6-4d37-ac0d-ffe50dd9f01b\")>,\n",
       " <selenium.webdriver.remote.webelement.WebElement (session=\"1bfd163bf674f8a5983a6c39a369a6dd\", element=\"42a21a58-f647-47d3-9b6b-465b9a3365f3\")>,\n",
       " <selenium.webdriver.remote.webelement.WebElement (session=\"1bfd163bf674f8a5983a6c39a369a6dd\", element=\"e6834adc-e9e2-4dac-82d4-792a5b1a29bb\")>,\n",
       " <selenium.webdriver.remote.webelement.WebElement (session=\"1bfd163bf674f8a5983a6c39a369a6dd\", element=\"e8babf1c-9b5b-4675-b04f-a10f0100c115\")>,\n",
       " <selenium.webdriver.remote.webelement.WebElement (session=\"1bfd163bf674f8a5983a6c39a369a6dd\", element=\"90f60df1-8d49-4f43-b7b6-5469597db58a\")>,\n",
       " <selenium.webdriver.remote.webelement.WebElement (session=\"1bfd163bf674f8a5983a6c39a369a6dd\", element=\"b0cac09f-f915-4fd3-bdca-94ed776cb306\")>,\n",
       " <selenium.webdriver.remote.webelement.WebElement (session=\"1bfd163bf674f8a5983a6c39a369a6dd\", element=\"06bf0e9e-39b5-4292-b10d-f938101205b8\")>,\n",
       " <selenium.webdriver.remote.webelement.WebElement (session=\"1bfd163bf674f8a5983a6c39a369a6dd\", element=\"38d739e2-90d3-4838-a391-08aab21211e2\")>,\n",
       " <selenium.webdriver.remote.webelement.WebElement (session=\"1bfd163bf674f8a5983a6c39a369a6dd\", element=\"ccb0359e-4686-4df5-b55f-59c3125fdf95\")>,\n",
       " <selenium.webdriver.remote.webelement.WebElement (session=\"1bfd163bf674f8a5983a6c39a369a6dd\", element=\"3f151f0e-6d19-4512-8f8f-476f19eae954\")>,\n",
       " <selenium.webdriver.remote.webelement.WebElement (session=\"1bfd163bf674f8a5983a6c39a369a6dd\", element=\"97322cae-0c8d-46c2-a42a-e343cc0881d8\")>,\n",
       " <selenium.webdriver.remote.webelement.WebElement (session=\"1bfd163bf674f8a5983a6c39a369a6dd\", element=\"2160d427-d873-4cc6-885f-bed4e74ff89a\")>,\n",
       " <selenium.webdriver.remote.webelement.WebElement (session=\"1bfd163bf674f8a5983a6c39a369a6dd\", element=\"ec612ea0-689a-4cbd-a89b-d6c4ecb7f475\")>,\n",
       " <selenium.webdriver.remote.webelement.WebElement (session=\"1bfd163bf674f8a5983a6c39a369a6dd\", element=\"6cb23e17-bcb9-4420-936c-3395c27ef0e9\")>,\n",
       " <selenium.webdriver.remote.webelement.WebElement (session=\"1bfd163bf674f8a5983a6c39a369a6dd\", element=\"3bc31afd-0456-4952-8f93-cd142f5fc8ef\")>,\n",
       " <selenium.webdriver.remote.webelement.WebElement (session=\"1bfd163bf674f8a5983a6c39a369a6dd\", element=\"79f15d88-73a9-461b-988d-4b6ce284a44e\")>,\n",
       " <selenium.webdriver.remote.webelement.WebElement (session=\"1bfd163bf674f8a5983a6c39a369a6dd\", element=\"ade34a96-49f6-4029-9b2f-73e7e433cabd\")>,\n",
       " <selenium.webdriver.remote.webelement.WebElement (session=\"1bfd163bf674f8a5983a6c39a369a6dd\", element=\"d65bcf8e-9d01-40c1-aa6b-5a8e01fcf0f2\")>,\n",
       " <selenium.webdriver.remote.webelement.WebElement (session=\"1bfd163bf674f8a5983a6c39a369a6dd\", element=\"47daa0c8-a539-4fc5-9127-3409ee244cd0\")>,\n",
       " <selenium.webdriver.remote.webelement.WebElement (session=\"1bfd163bf674f8a5983a6c39a369a6dd\", element=\"a12c7082-1f5a-41b3-94f2-f538176c98df\")>,\n",
       " <selenium.webdriver.remote.webelement.WebElement (session=\"1bfd163bf674f8a5983a6c39a369a6dd\", element=\"e8d8cbbd-45d7-451a-a5d3-42b49b89d27b\")>,\n",
       " <selenium.webdriver.remote.webelement.WebElement (session=\"1bfd163bf674f8a5983a6c39a369a6dd\", element=\"7efa9ffb-472e-4a51-9919-60f62937add5\")>,\n",
       " <selenium.webdriver.remote.webelement.WebElement (session=\"1bfd163bf674f8a5983a6c39a369a6dd\", element=\"68c48d92-c3fb-47b1-a149-850879d8aae9\")>,\n",
       " <selenium.webdriver.remote.webelement.WebElement (session=\"1bfd163bf674f8a5983a6c39a369a6dd\", element=\"009994b4-0ffd-4fba-a852-a796d5f71f3f\")>,\n",
       " <selenium.webdriver.remote.webelement.WebElement (session=\"1bfd163bf674f8a5983a6c39a369a6dd\", element=\"2fb2238f-3308-4f3d-83be-763365b04cd9\")>,\n",
       " <selenium.webdriver.remote.webelement.WebElement (session=\"1bfd163bf674f8a5983a6c39a369a6dd\", element=\"4880f930-c2a5-43b4-a975-defde40aa577\")>,\n",
       " <selenium.webdriver.remote.webelement.WebElement (session=\"1bfd163bf674f8a5983a6c39a369a6dd\", element=\"208b8461-269d-43fd-b518-873aeeb152df\")>,\n",
       " <selenium.webdriver.remote.webelement.WebElement (session=\"1bfd163bf674f8a5983a6c39a369a6dd\", element=\"93e49bcb-277c-43b8-97a5-e04b5bb9bb53\")>,\n",
       " <selenium.webdriver.remote.webelement.WebElement (session=\"1bfd163bf674f8a5983a6c39a369a6dd\", element=\"250e87c4-6b82-4c53-a215-ab56bf923a6b\")>,\n",
       " <selenium.webdriver.remote.webelement.WebElement (session=\"1bfd163bf674f8a5983a6c39a369a6dd\", element=\"4b536f5d-df15-4d3a-bd7a-dc353a2e5f03\")>,\n",
       " <selenium.webdriver.remote.webelement.WebElement (session=\"1bfd163bf674f8a5983a6c39a369a6dd\", element=\"6e4247a1-1326-4cbd-9a65-bef8781d04bc\")>,\n",
       " <selenium.webdriver.remote.webelement.WebElement (session=\"1bfd163bf674f8a5983a6c39a369a6dd\", element=\"591ef38c-45a3-4339-a51f-d81c67a0dc2a\")>,\n",
       " <selenium.webdriver.remote.webelement.WebElement (session=\"1bfd163bf674f8a5983a6c39a369a6dd\", element=\"735e9032-d139-4b80-8a41-86ed1d544514\")>,\n",
       " <selenium.webdriver.remote.webelement.WebElement (session=\"1bfd163bf674f8a5983a6c39a369a6dd\", element=\"699cfddb-13b5-4419-aef7-52df862c8200\")>,\n",
       " <selenium.webdriver.remote.webelement.WebElement (session=\"1bfd163bf674f8a5983a6c39a369a6dd\", element=\"199584ac-8964-440e-a43d-147089bb7964\")>,\n",
       " <selenium.webdriver.remote.webelement.WebElement (session=\"1bfd163bf674f8a5983a6c39a369a6dd\", element=\"590077a2-709e-441e-a73a-7d3f12f9210d\")>,\n",
       " <selenium.webdriver.remote.webelement.WebElement (session=\"1bfd163bf674f8a5983a6c39a369a6dd\", element=\"8d0463b3-a4a8-42f6-9795-4343fd825914\")>,\n",
       " <selenium.webdriver.remote.webelement.WebElement (session=\"1bfd163bf674f8a5983a6c39a369a6dd\", element=\"0ac84229-93fb-400c-b6bf-253a1ebb1b49\")>,\n",
       " <selenium.webdriver.remote.webelement.WebElement (session=\"1bfd163bf674f8a5983a6c39a369a6dd\", element=\"fc6dcb37-4352-4b36-9ad9-5b3ee47a48e6\")>,\n",
       " <selenium.webdriver.remote.webelement.WebElement (session=\"1bfd163bf674f8a5983a6c39a369a6dd\", element=\"16c4431e-0ea9-40d1-8dd8-a9217e59da90\")>,\n",
       " <selenium.webdriver.remote.webelement.WebElement (session=\"1bfd163bf674f8a5983a6c39a369a6dd\", element=\"cf0739ce-befd-4f31-b2af-d5367a12491e\")>,\n",
       " <selenium.webdriver.remote.webelement.WebElement (session=\"1bfd163bf674f8a5983a6c39a369a6dd\", element=\"d3c3b181-c332-4ee3-a2e2-2860f65b83fe\")>,\n",
       " <selenium.webdriver.remote.webelement.WebElement (session=\"1bfd163bf674f8a5983a6c39a369a6dd\", element=\"65e767b9-62c1-45c3-9e04-43e250bd5c09\")>,\n",
       " <selenium.webdriver.remote.webelement.WebElement (session=\"1bfd163bf674f8a5983a6c39a369a6dd\", element=\"54c247c3-7de9-41cd-b9d6-8331b94eaafa\")>,\n",
       " <selenium.webdriver.remote.webelement.WebElement (session=\"1bfd163bf674f8a5983a6c39a369a6dd\", element=\"53b0d4b8-2dd9-4b05-ab31-800aab43720d\")>,\n",
       " <selenium.webdriver.remote.webelement.WebElement (session=\"1bfd163bf674f8a5983a6c39a369a6dd\", element=\"6dd94f28-1155-477f-9f41-5f431b00b47a\")>,\n",
       " <selenium.webdriver.remote.webelement.WebElement (session=\"1bfd163bf674f8a5983a6c39a369a6dd\", element=\"76683282-c8a8-4b93-a414-d8d00f1943bc\")>,\n",
       " <selenium.webdriver.remote.webelement.WebElement (session=\"1bfd163bf674f8a5983a6c39a369a6dd\", element=\"0adb77e1-93ba-43e2-81b7-b837cc533faa\")>,\n",
       " <selenium.webdriver.remote.webelement.WebElement (session=\"1bfd163bf674f8a5983a6c39a369a6dd\", element=\"80115382-2102-4042-aafd-523fd3c5782f\")>,\n",
       " <selenium.webdriver.remote.webelement.WebElement (session=\"1bfd163bf674f8a5983a6c39a369a6dd\", element=\"5d90f2ad-91da-4632-adca-1cf64e7ee366\")>,\n",
       " <selenium.webdriver.remote.webelement.WebElement (session=\"1bfd163bf674f8a5983a6c39a369a6dd\", element=\"32677ef1-5998-416d-8dad-c3776e2245c6\")>,\n",
       " <selenium.webdriver.remote.webelement.WebElement (session=\"1bfd163bf674f8a5983a6c39a369a6dd\", element=\"a80a2465-7251-414d-88a6-8065429623d2\")>,\n",
       " <selenium.webdriver.remote.webelement.WebElement (session=\"1bfd163bf674f8a5983a6c39a369a6dd\", element=\"f1ae89c0-ec6f-4572-998e-8ec96251e55b\")>,\n",
       " <selenium.webdriver.remote.webelement.WebElement (session=\"1bfd163bf674f8a5983a6c39a369a6dd\", element=\"24d4bc5a-df4c-4a32-992c-6690c1eb8683\")>,\n",
       " <selenium.webdriver.remote.webelement.WebElement (session=\"1bfd163bf674f8a5983a6c39a369a6dd\", element=\"8a116f71-4653-4f41-9cfc-6a7151443b15\")>,\n",
       " <selenium.webdriver.remote.webelement.WebElement (session=\"1bfd163bf674f8a5983a6c39a369a6dd\", element=\"3e9e937b-5bae-4581-ba9f-49adf2cb948a\")>,\n",
       " <selenium.webdriver.remote.webelement.WebElement (session=\"1bfd163bf674f8a5983a6c39a369a6dd\", element=\"e125b322-6005-4b8a-a889-580c65de070a\")>,\n",
       " <selenium.webdriver.remote.webelement.WebElement (session=\"1bfd163bf674f8a5983a6c39a369a6dd\", element=\"d5c7d857-b226-4fa0-8cef-0a36788f8411\")>,\n",
       " <selenium.webdriver.remote.webelement.WebElement (session=\"1bfd163bf674f8a5983a6c39a369a6dd\", element=\"d6a1cec7-927d-4aa5-9352-14f603683ac0\")>,\n",
       " <selenium.webdriver.remote.webelement.WebElement (session=\"1bfd163bf674f8a5983a6c39a369a6dd\", element=\"d3652cd4-5bbe-4812-abbf-c875654a8489\")>,\n",
       " <selenium.webdriver.remote.webelement.WebElement (session=\"1bfd163bf674f8a5983a6c39a369a6dd\", element=\"12455f2b-b0d8-4822-93b1-6ceae6160bc6\")>,\n",
       " <selenium.webdriver.remote.webelement.WebElement (session=\"1bfd163bf674f8a5983a6c39a369a6dd\", element=\"c514811f-78a9-4922-a4da-986809790d18\")>,\n",
       " <selenium.webdriver.remote.webelement.WebElement (session=\"1bfd163bf674f8a5983a6c39a369a6dd\", element=\"492abf8b-396b-4be0-aa4e-6840c5540aa8\")>,\n",
       " <selenium.webdriver.remote.webelement.WebElement (session=\"1bfd163bf674f8a5983a6c39a369a6dd\", element=\"9e01bbb1-f848-472d-9a31-831ba841689a\")>,\n",
       " <selenium.webdriver.remote.webelement.WebElement (session=\"1bfd163bf674f8a5983a6c39a369a6dd\", element=\"834340d7-5a3b-4eb2-80b4-c3b7ca99ea54\")>,\n",
       " <selenium.webdriver.remote.webelement.WebElement (session=\"1bfd163bf674f8a5983a6c39a369a6dd\", element=\"916d26b6-e270-46ee-aa4e-09f4ad688e09\")>,\n",
       " <selenium.webdriver.remote.webelement.WebElement (session=\"1bfd163bf674f8a5983a6c39a369a6dd\", element=\"6356b4bb-b764-4050-9461-221dc1a77099\")>,\n",
       " <selenium.webdriver.remote.webelement.WebElement (session=\"1bfd163bf674f8a5983a6c39a369a6dd\", element=\"f3cb653d-301f-4f61-ba01-f72734662885\")>,\n",
       " <selenium.webdriver.remote.webelement.WebElement (session=\"1bfd163bf674f8a5983a6c39a369a6dd\", element=\"b5518898-e11b-432e-a8c0-fd00d785e001\")>]"
      ]
     },
     "execution_count": 4,
     "metadata": {},
     "output_type": "execute_result"
    }
   ],
   "source": [
    "# URL_raw 크롤링 시작\n",
    "targets = \"ul.ui_grid__cols--4.ui_grid__cols--m2>li\" # 중간에 띄어쓰기는 .으로 대체\n",
    "target_raw = driver.find_elements_by_css_selector(targets)\n",
    "target_raw"
   ]
  },
  {
   "cell_type": "code",
   "execution_count": 5,
   "metadata": {},
   "outputs": [
    {
     "data": {
      "text/plain": [
       "75"
      ]
     },
     "execution_count": 5,
     "metadata": {},
     "output_type": "execute_result"
    }
   ],
   "source": [
    "len(target_raw)"
   ]
  },
  {
   "cell_type": "code",
   "execution_count": 6,
   "metadata": {},
   "outputs": [],
   "source": [
    "target=target_raw[0]"
   ]
  },
  {
   "cell_type": "code",
   "execution_count": 7,
   "metadata": {},
   "outputs": [
    {
     "data": {
      "text/plain": [
       "'https://www.idus.com/oc/class/230'"
      ]
     },
     "execution_count": 7,
     "metadata": {},
     "output_type": "execute_result"
    }
   ],
   "source": [
    "url = target.find_elements_by_css_selector('div > a')[0].get_attribute('href')\n",
    "url"
   ]
  },
  {
   "cell_type": "code",
   "execution_count": 9,
   "metadata": {},
   "outputs": [
    {
     "data": {
      "text/plain": [
       "'우드 라탄   노호파이파이'"
      ]
     },
     "execution_count": 9,
     "metadata": {},
     "output_type": "execute_result"
    }
   ],
   "source": [
    "category = target.find_elements_by_css_selector('a > div.card-info.class-info> div.label')[0].text\n",
    "category = re.sub(r\"[^ㄱ-ㅎ|ㅏ-ㅣ|가-힣|A-Z|a-z|0-9|.|,| ]\", \" \", category)\n",
    "category"
   ]
  },
  {
   "cell_type": "code",
   "execution_count": 10,
   "metadata": {},
   "outputs": [
    {
     "data": {
      "text/plain": [
       "'명품 브랜드에서 줄줄이 내놓는 핫아이템, 라탄 트래블백 클래스'"
      ]
     },
     "execution_count": 10,
     "metadata": {},
     "output_type": "execute_result"
    }
   ],
   "source": [
    "title = target.find_elements_by_css_selector('a > div.card-info.class-info > div.class-name')[0].text\n",
    "title = re.sub(r\"[^ㄱ-ㅎ|ㅏ-ㅣ|가-힣|A-Z|a-z|0-9|.|,| ]\", \" \", title)\n",
    "title"
   ]
  },
  {
   "cell_type": "code",
   "execution_count": 69,
   "metadata": {},
   "outputs": [
    {
     "data": {
      "text/html": [
       "<div>\n",
       "<style scoped>\n",
       "    .dataframe tbody tr th:only-of-type {\n",
       "        vertical-align: middle;\n",
       "    }\n",
       "\n",
       "    .dataframe tbody tr th {\n",
       "        vertical-align: top;\n",
       "    }\n",
       "\n",
       "    .dataframe thead th {\n",
       "        text-align: right;\n",
       "    }\n",
       "</style>\n",
       "<table border=\"1\" class=\"dataframe\">\n",
       "  <thead>\n",
       "    <tr style=\"text-align: right;\">\n",
       "      <th></th>\n",
       "      <th>url</th>\n",
       "      <th>category</th>\n",
       "      <th>title</th>\n",
       "    </tr>\n",
       "  </thead>\n",
       "  <tbody>\n",
       "    <tr>\n",
       "      <th>0</th>\n",
       "      <td>https://www.idus.com/oc/class/230</td>\n",
       "      <td>도자기, 내 공간을 완성하는 갖고 싶은 접시 만들기</td>\n",
       "      <td>명품 브랜드에서 줄줄이 내놓는 핫아이템, 라탄 트래블백 클래스</td>\n",
       "    </tr>\n",
       "    <tr>\n",
       "      <th>1</th>\n",
       "      <td>https://www.idus.com/oc/class/131</td>\n",
       "      <td>명품 브랜드에서 줄줄이 내놓는 핫아이템, 라탄 트래블백 클래스</td>\n",
       "      <td>따뜻한 감성으로 가득 채우는 라탄 소품</td>\n",
       "    </tr>\n",
       "    <tr>\n",
       "      <th>2</th>\n",
       "      <td>https://www.idus.com/oc/class/20</td>\n",
       "      <td>따뜻한 감성으로 가득 채우는 라탄 소품</td>\n",
       "      <td>반짝반짝 투명한 매력, 누구나 쉽게 배우는 레진공예</td>\n",
       "    </tr>\n",
       "    <tr>\n",
       "      <th>3</th>\n",
       "      <td>https://www.idus.com/oc/class/145</td>\n",
       "      <td>반짝반짝 투명한 매력, 누구나 쉽게 배우는 레진공예</td>\n",
       "      <td>해외에서도 핫한 K 보자기, 종이 보자기 선물포장 수업</td>\n",
       "    </tr>\n",
       "    <tr>\n",
       "      <th>4</th>\n",
       "      <td>https://www.idus.com/oc/class/187</td>\n",
       "      <td>해외에서도 핫한 K 보자기, 종이 보자기 선물포장 수업</td>\n",
       "      <td>내 손 안의 바다, 바다를 닮은 레진 소품</td>\n",
       "    </tr>\n",
       "    <tr>\n",
       "      <th>...</th>\n",
       "      <td>...</td>\n",
       "      <td>...</td>\n",
       "      <td>...</td>\n",
       "    </tr>\n",
       "    <tr>\n",
       "      <th>69</th>\n",
       "      <td>https://www.idus.com/oc/class/116</td>\n",
       "      <td>여행의 즐거운 기억과 함께 하는, 페이퍼아트 집 만들기</td>\n",
       "      <td>펠트에 담아낸 보들보들 귀여운 일러스트, 바느질 클래스</td>\n",
       "    </tr>\n",
       "    <tr>\n",
       "      <th>70</th>\n",
       "      <td>https://www.idus.com/oc/class/115</td>\n",
       "      <td>펠트에 담아낸 보들보들 귀여운 일러스트, 바느질 클래스</td>\n",
       "      <td>인생신발, 에스파듀 슬립온 가죽공예 수제화</td>\n",
       "    </tr>\n",
       "    <tr>\n",
       "      <th>71</th>\n",
       "      <td>https://www.idus.com/oc/class/77</td>\n",
       "      <td>인생신발, 에스파듀 슬립온 가죽공예 수제화</td>\n",
       "      <td>기다림 마저 설레게 하는 하드 왁스 카빙 주얼리, 금속공예</td>\n",
       "    </tr>\n",
       "    <tr>\n",
       "      <th>72</th>\n",
       "      <td>https://www.idus.com/oc/class/64</td>\n",
       "      <td>기다림 마저 설레게 하는 하드 왁스 카빙 주얼리, 금속공예</td>\n",
       "      <td>나만의 색감과 각인으로 채워 넣는 내 방 안 가죽 공방</td>\n",
       "    </tr>\n",
       "    <tr>\n",
       "      <th>73</th>\n",
       "      <td>https://www.idus.com/oc/class/61</td>\n",
       "      <td>나만의 색감과 각인으로 채워 넣는 내 방 안 가죽 공방</td>\n",
       "      <td>도자기, 내 공간을 완성하는 갖고 싶은 접시 만들기</td>\n",
       "    </tr>\n",
       "  </tbody>\n",
       "</table>\n",
       "<p>74 rows × 3 columns</p>\n",
       "</div>"
      ],
      "text/plain": [
       "                                  url                            category  \\\n",
       "0   https://www.idus.com/oc/class/230        도자기, 내 공간을 완성하는 갖고 싶은 접시 만들기   \n",
       "1   https://www.idus.com/oc/class/131  명품 브랜드에서 줄줄이 내놓는 핫아이템, 라탄 트래블백 클래스   \n",
       "2    https://www.idus.com/oc/class/20               따뜻한 감성으로 가득 채우는 라탄 소품   \n",
       "3   https://www.idus.com/oc/class/145        반짝반짝 투명한 매력, 누구나 쉽게 배우는 레진공예   \n",
       "4   https://www.idus.com/oc/class/187      해외에서도 핫한 K 보자기, 종이 보자기 선물포장 수업   \n",
       "..                                ...                                 ...   \n",
       "69  https://www.idus.com/oc/class/116      여행의 즐거운 기억과 함께 하는, 페이퍼아트 집 만들기   \n",
       "70  https://www.idus.com/oc/class/115      펠트에 담아낸 보들보들 귀여운 일러스트, 바느질 클래스   \n",
       "71   https://www.idus.com/oc/class/77             인생신발, 에스파듀 슬립온 가죽공예 수제화   \n",
       "72   https://www.idus.com/oc/class/64    기다림 마저 설레게 하는 하드 왁스 카빙 주얼리, 금속공예   \n",
       "73   https://www.idus.com/oc/class/61      나만의 색감과 각인으로 채워 넣는 내 방 안 가죽 공방   \n",
       "\n",
       "                                 title  \n",
       "0   명품 브랜드에서 줄줄이 내놓는 핫아이템, 라탄 트래블백 클래스  \n",
       "1                따뜻한 감성으로 가득 채우는 라탄 소품  \n",
       "2         반짝반짝 투명한 매력, 누구나 쉽게 배우는 레진공예  \n",
       "3       해외에서도 핫한 K 보자기, 종이 보자기 선물포장 수업  \n",
       "4              내 손 안의 바다, 바다를 닮은 레진 소품  \n",
       "..                                 ...  \n",
       "69      펠트에 담아낸 보들보들 귀여운 일러스트, 바느질 클래스  \n",
       "70             인생신발, 에스파듀 슬립온 가죽공예 수제화  \n",
       "71    기다림 마저 설레게 하는 하드 왁스 카빙 주얼리, 금속공예  \n",
       "72      나만의 색감과 각인으로 채워 넣는 내 방 안 가죽 공방  \n",
       "73        도자기, 내 공간을 완성하는 갖고 싶은 접시 만들기  \n",
       "\n",
       "[74 rows x 3 columns]"
      ]
     },
     "execution_count": 69,
     "metadata": {},
     "output_type": "execute_result"
    }
   ],
   "source": [
    "url_data = []\n",
    "\n",
    "# 크롤링한 url 정제 시작\n",
    "for target in target_raw:\n",
    "    url = target.find_elements_by_css_selector('div > a')[0].get_attribute('href')\n",
    "    category = target.find_elements_by_css_selector('a > div.card-info.class-info > div.label')[0].text\n",
    "    category = re.sub(r\"[^ㄱ-ㅎ|ㅏ-ㅣ|가-힣|A-Z|a-z|0-9|.|,| ]\", \" \", title)\n",
    "    title = target.find_elements_by_css_selector('a > div.card-info.class-info > div.class-name')[0].text\n",
    "    title = re.sub(r\"[^ㄱ-ㅎ|ㅏ-ㅣ|가-힣|A-Z|a-z|0-9|.|,| ]\", \" \", title)\n",
    "    url_data.append([url, category, title])\n",
    "url_data\n",
    "columns= ['url', 'category', 'title']\n",
    "df = pd.DataFrame(url_data, columns = columns)\n",
    "\n",
    "# 데이터 프레임 저장하기\n",
    "df.to_excel('./idus/idus_url_online.xlsx', index=False) #,engine='openpyxl\n",
    "df"
   ]
  },
  {
   "cell_type": "markdown",
   "metadata": {},
   "source": [
    "# 코드 합치기 "
   ]
  },
  {
   "cell_type": "code",
   "execution_count": null,
   "metadata": {},
   "outputs": [],
   "source": [
    "driver = webdriver.Chrome('C:\\chrome\\chromedriver.exe')\n",
    "url = \"https://www.idus.com/oc\" # 온라인\n",
    "driver.get(url)\n",
    "time.sleep(3)\n",
    "\n",
    "time.sleep(2)\n",
    "html = driver.page_source\n",
    "soup = BeautifulSoup(html, 'html.parser')\n",
    "\n",
    "# 카테고리 클릭\n",
    "driver.find_element_by_xpath(\"/html/body/div[3]/div[3]/section[6]/div/div/div[3]/div/div[2]/button/span\").click( )\n",
    "time.sleep(1)\n",
    "\n",
    "# 공예부분 모두 클릭, for문으로 할 걸 그랬네..\n",
    "driver.find_element_by_xpath(\"/html/body/div[3]/div[3]/section[6]/div/div/div[3]/div[2]/div[1]/div[2]/div[1]/div[2]/div[1]/input\").click( )\n",
    "driver.find_element_by_xpath(\"/html/body/div[3]/div[3]/section[6]/div/div/div[3]/div[2]/div[1]/div[2]/div[1]/div[2]/div[2]/input\").click( )\n",
    "driver.find_element_by_xpath(\"/html/body/div[3]/div[3]/section[6]/div/div/div[3]/div[2]/div[1]/div[2]/div[1]/div[2]/div[3]/input\").click( )\n",
    "driver.find_element_by_xpath(\"/html/body/div[3]/div[3]/section[6]/div/div/div[3]/div[2]/div[1]/div[2]/div[1]/div[2]/div[4]/input\").click( )\n",
    "driver.find_element_by_xpath(\"/html/body/div[3]/div[3]/section[6]/div/div/div[3]/div[2]/div[1]/div[2]/div[1]/div[2]/div[5]/input\").click( )\n",
    "driver.find_element_by_xpath(\"/html/body/div[3]/div[3]/section[6]/div/div/div[3]/div[2]/div[1]/div[2]/div[1]/div[2]/div[6]/input\").click( )\n",
    "driver.find_element_by_xpath(\"/html/body/div[3]/div[3]/section[6]/div/div/div[3]/div[2]/div[1]/div[2]/div[1]/div[2]/div[7]/input\").click( )\n",
    "driver.find_element_by_xpath(\"/html/body/div[3]/div[3]/section[6]/div/div/div[3]/div[2]/div[1]/div[2]/div[1]/div[2]/div[8]/input\").click( )\n",
    "driver.find_element_by_xpath(\"/html/body/div[3]/div[3]/section[6]/div/div/div[3]/div[2]/div[1]/div[2]/div[1]/div[2]/div[9]/input\").click( )\n",
    "driver.find_element_by_xpath(\"/html/body/div[3]/div[3]/section[6]/div/div/div[3]/div[2]/div[1]/div[2]/div[1]/div[2]/div[10]/input\").click( )\n",
    "driver.find_element_by_xpath(\"/html/body/div[3]/div[3]/section[6]/div/div/div[3]/div[2]/div[1]/div[2]/div[1]/div[2]/div[11]/input\").click( )\n",
    "driver.find_element_by_xpath(\"/html/body/div[3]/div[3]/section[6]/div/div/div[3]/div[2]/div[1]/div[2]/div[1]/div[2]/div[12]/input\").click( )\n",
    "driver.find_element_by_xpath(\"/html/body/div[3]/div[3]/section[6]/div/div/div[3]/div[2]/div[1]/div[2]/div[1]/div[2]/div[13]/input\").click( )\n",
    "\n",
    "# 스크롤을 밑으로 내려주는 함수\n",
    "def scroll_down(driver):\n",
    "    driver.execute_script(\"window.scrollTo(0, 19431049)\")\n",
    "    time.sleep(1)\n",
    "\n",
    "# n: 스크롤할 횟수 설정\n",
    "n = 5 # 일종에 페이지수라고 보면 될 듯\n",
    "i = 0\n",
    "while i < n: # 이 조건이 만족되는 동안 반복 실행\n",
    "    scroll_down(driver) # 스크롤 다운\n",
    "    i = i+1\n",
    "    \n",
    "url_data = []\n",
    "\n",
    "# 크롤링한 url 정제 시작\n",
    "for target in target_raw:\n",
    "    url = target.find_elements_by_css_selector('div > a')[0].get_attribute('href')\n",
    "    category = target.find_elements_by_css_selector('a > div.card-info.class-info > div.label')[0].text\n",
    "    category = re.sub(r\"[^ㄱ-ㅎ|ㅏ-ㅣ|가-힣|A-Z|a-z|0-9|.|,| ]\", \" \", title)\n",
    "    title = target.find_elements_by_css_selector('a > div.card-info.class-info > div.class-name')[0].text\n",
    "    title = re.sub(r\"[^ㄱ-ㅎ|ㅏ-ㅣ|가-힣|A-Z|a-z|0-9|.|,| ]\", \" \", title)\n",
    "    url_data.append([url, category, title])\n",
    "url_data\n",
    "columns= ['url', 'category', 'title']\n",
    "df = pd.DataFrame(url_data, columns = columns)\n",
    "\n",
    "# 데이터 프레임 저장하기\n",
    "df.to_excel('./idus/idus_url_online.xlsx', index=False) #,engine='openpyxl\n",
    "df"
   ]
  },
  {
   "cell_type": "code",
   "execution_count": 11,
   "metadata": {},
   "outputs": [
    {
     "data": {
      "text/html": [
       "<div>\n",
       "<style scoped>\n",
       "    .dataframe tbody tr th:only-of-type {\n",
       "        vertical-align: middle;\n",
       "    }\n",
       "\n",
       "    .dataframe tbody tr th {\n",
       "        vertical-align: top;\n",
       "    }\n",
       "\n",
       "    .dataframe thead th {\n",
       "        text-align: right;\n",
       "    }\n",
       "</style>\n",
       "<table border=\"1\" class=\"dataframe\">\n",
       "  <thead>\n",
       "    <tr style=\"text-align: right;\">\n",
       "      <th></th>\n",
       "      <th>url</th>\n",
       "      <th>category</th>\n",
       "      <th>title</th>\n",
       "    </tr>\n",
       "  </thead>\n",
       "  <tbody>\n",
       "    <tr>\n",
       "      <th>0</th>\n",
       "      <td>https://www.idus.com/oc/class/230</td>\n",
       "      <td>도자기, 내 공간을 완성하는 갖고 싶은 접시 만들기</td>\n",
       "      <td>명품 브랜드에서 줄줄이 내놓는 핫아이템, 라탄 트래블백 클래스</td>\n",
       "    </tr>\n",
       "    <tr>\n",
       "      <th>1</th>\n",
       "      <td>https://www.idus.com/oc/class/131</td>\n",
       "      <td>명품 브랜드에서 줄줄이 내놓는 핫아이템, 라탄 트래블백 클래스</td>\n",
       "      <td>따뜻한 감성으로 가득 채우는 라탄 소품</td>\n",
       "    </tr>\n",
       "    <tr>\n",
       "      <th>2</th>\n",
       "      <td>https://www.idus.com/oc/class/20</td>\n",
       "      <td>따뜻한 감성으로 가득 채우는 라탄 소품</td>\n",
       "      <td>반짝반짝 투명한 매력, 누구나 쉽게 배우는 레진공예</td>\n",
       "    </tr>\n",
       "    <tr>\n",
       "      <th>3</th>\n",
       "      <td>https://www.idus.com/oc/class/145</td>\n",
       "      <td>반짝반짝 투명한 매력, 누구나 쉽게 배우는 레진공예</td>\n",
       "      <td>해외에서도 핫한 K 보자기, 종이 보자기 선물포장 수업</td>\n",
       "    </tr>\n",
       "    <tr>\n",
       "      <th>4</th>\n",
       "      <td>https://www.idus.com/oc/class/187</td>\n",
       "      <td>해외에서도 핫한 K 보자기, 종이 보자기 선물포장 수업</td>\n",
       "      <td>내 손 안의 바다, 바다를 닮은 레진 소품</td>\n",
       "    </tr>\n",
       "    <tr>\n",
       "      <th>...</th>\n",
       "      <td>...</td>\n",
       "      <td>...</td>\n",
       "      <td>...</td>\n",
       "    </tr>\n",
       "    <tr>\n",
       "      <th>69</th>\n",
       "      <td>https://www.idus.com/oc/class/116</td>\n",
       "      <td>여행의 즐거운 기억과 함께 하는, 페이퍼아트 집 만들기</td>\n",
       "      <td>펠트에 담아낸 보들보들 귀여운 일러스트, 바느질 클래스</td>\n",
       "    </tr>\n",
       "    <tr>\n",
       "      <th>70</th>\n",
       "      <td>https://www.idus.com/oc/class/115</td>\n",
       "      <td>펠트에 담아낸 보들보들 귀여운 일러스트, 바느질 클래스</td>\n",
       "      <td>인생신발, 에스파듀 슬립온 가죽공예 수제화</td>\n",
       "    </tr>\n",
       "    <tr>\n",
       "      <th>71</th>\n",
       "      <td>https://www.idus.com/oc/class/77</td>\n",
       "      <td>인생신발, 에스파듀 슬립온 가죽공예 수제화</td>\n",
       "      <td>기다림 마저 설레게 하는 하드 왁스 카빙 주얼리, 금속공예</td>\n",
       "    </tr>\n",
       "    <tr>\n",
       "      <th>72</th>\n",
       "      <td>https://www.idus.com/oc/class/64</td>\n",
       "      <td>기다림 마저 설레게 하는 하드 왁스 카빙 주얼리, 금속공예</td>\n",
       "      <td>나만의 색감과 각인으로 채워 넣는 내 방 안 가죽 공방</td>\n",
       "    </tr>\n",
       "    <tr>\n",
       "      <th>73</th>\n",
       "      <td>https://www.idus.com/oc/class/61</td>\n",
       "      <td>나만의 색감과 각인으로 채워 넣는 내 방 안 가죽 공방</td>\n",
       "      <td>도자기, 내 공간을 완성하는 갖고 싶은 접시 만들기</td>\n",
       "    </tr>\n",
       "  </tbody>\n",
       "</table>\n",
       "<p>74 rows × 3 columns</p>\n",
       "</div>"
      ],
      "text/plain": [
       "                                  url                            category  \\\n",
       "0   https://www.idus.com/oc/class/230        도자기, 내 공간을 완성하는 갖고 싶은 접시 만들기   \n",
       "1   https://www.idus.com/oc/class/131  명품 브랜드에서 줄줄이 내놓는 핫아이템, 라탄 트래블백 클래스   \n",
       "2    https://www.idus.com/oc/class/20               따뜻한 감성으로 가득 채우는 라탄 소품   \n",
       "3   https://www.idus.com/oc/class/145        반짝반짝 투명한 매력, 누구나 쉽게 배우는 레진공예   \n",
       "4   https://www.idus.com/oc/class/187      해외에서도 핫한 K 보자기, 종이 보자기 선물포장 수업   \n",
       "..                                ...                                 ...   \n",
       "69  https://www.idus.com/oc/class/116      여행의 즐거운 기억과 함께 하는, 페이퍼아트 집 만들기   \n",
       "70  https://www.idus.com/oc/class/115      펠트에 담아낸 보들보들 귀여운 일러스트, 바느질 클래스   \n",
       "71   https://www.idus.com/oc/class/77             인생신발, 에스파듀 슬립온 가죽공예 수제화   \n",
       "72   https://www.idus.com/oc/class/64    기다림 마저 설레게 하는 하드 왁스 카빙 주얼리, 금속공예   \n",
       "73   https://www.idus.com/oc/class/61      나만의 색감과 각인으로 채워 넣는 내 방 안 가죽 공방   \n",
       "\n",
       "                                 title  \n",
       "0   명품 브랜드에서 줄줄이 내놓는 핫아이템, 라탄 트래블백 클래스  \n",
       "1                따뜻한 감성으로 가득 채우는 라탄 소품  \n",
       "2         반짝반짝 투명한 매력, 누구나 쉽게 배우는 레진공예  \n",
       "3       해외에서도 핫한 K 보자기, 종이 보자기 선물포장 수업  \n",
       "4              내 손 안의 바다, 바다를 닮은 레진 소품  \n",
       "..                                 ...  \n",
       "69      펠트에 담아낸 보들보들 귀여운 일러스트, 바느질 클래스  \n",
       "70             인생신발, 에스파듀 슬립온 가죽공예 수제화  \n",
       "71    기다림 마저 설레게 하는 하드 왁스 카빙 주얼리, 금속공예  \n",
       "72      나만의 색감과 각인으로 채워 넣는 내 방 안 가죽 공방  \n",
       "73        도자기, 내 공간을 완성하는 갖고 싶은 접시 만들기  \n",
       "\n",
       "[74 rows x 3 columns]"
      ]
     },
     "execution_count": 11,
     "metadata": {},
     "output_type": "execute_result"
    }
   ],
   "source": [
    "url_df=pd.read_excel('./idus/idus_url_online.xlsx', index=False)\n",
    "url_df"
   ]
  },
  {
   "cell_type": "markdown",
   "metadata": {},
   "source": [
    "# 댓글 내용 크롤링(연습)"
   ]
  },
  {
   "cell_type": "code",
   "execution_count": 60,
   "metadata": {},
   "outputs": [
    {
     "data": {
      "text/plain": [
       "'.'"
      ]
     },
     "execution_count": 60,
     "metadata": {},
     "output_type": "execute_result"
    }
   ],
   "source": [
    "url = ' '\n",
    "url = re.sub(r\"[ㄱ-ㅎ|ㅏ-ㅣ|가-힣|A-Z|a-z|0-9|.|,| | ]\", \".\", url)\n",
    "url"
   ]
  },
  {
   "cell_type": "code",
   "execution_count": 15,
   "metadata": {},
   "outputs": [],
   "source": [
    "url = 'https://www.idus.com/oc/class/230'# 댓글이 60개가량 있는 글 하나를 예시로 가져옴\n",
    "driver = webdriver.Chrome('C:\\chrome\\chromedriver.exe')  # 윈도우는 \"chromedriver.exe\"\n",
    "driver.get(url)"
   ]
  },
  {
   "cell_type": "code",
   "execution_count": 16,
   "metadata": {},
   "outputs": [],
   "source": [
    "try:\n",
    "     # '수강 후기 클릭\n",
    "    driver.find_element_by_link_text(\"수강 후기\").click( )\n",
    "    time.sleep(2)\n",
    "\n",
    "    # n: 반복할 횟수 설정, '더보기' 클릭\n",
    "    n = 6\n",
    "    i = 0\n",
    "    while i < n: # 이 조건이 만족되는 동안 반복 실행\n",
    "        try:\n",
    "            time.sleep(2)\n",
    "            driver.find_element_by_css_selector(\"#edu-review > div.pagination > div > button > span\").click( ) #더보기\n",
    "            i = i+1\n",
    "        except:\n",
    "            break\n",
    "\n",
    "except:\n",
    "    pass"
   ]
  },
  {
   "cell_type": "code",
   "execution_count": 17,
   "metadata": {},
   "outputs": [],
   "source": [
    "# 제목 크롤링 시작\n",
    "overlays = \"h2.sticky_aside__title\"                                 \n",
    "tit = driver.find_element_by_css_selector(overlays)          # title\n",
    "title = tit.text\n",
    "title = re.sub(r\"[^ㄱ-ㅎ|ㅏ-ㅣ|가-힣|A-Z|a-z|0-9| ]\", \"\", title)"
   ]
  },
  {
   "cell_type": "code",
   "execution_count": 18,
   "metadata": {},
   "outputs": [
    {
     "data": {
      "text/plain": [
       "'명품 브랜드에서 줄줄이 내놓는 핫아이템 라탄 트래블백 클래스'"
      ]
     },
     "execution_count": 18,
     "metadata": {},
     "output_type": "execute_result"
    }
   ],
   "source": [
    "title"
   ]
  },
  {
   "cell_type": "code",
   "execution_count": 19,
   "metadata": {},
   "outputs": [
    {
     "data": {
      "text/plain": [
       "6"
      ]
     },
     "execution_count": 19,
     "metadata": {},
     "output_type": "execute_result"
    }
   ],
   "source": [
    "reviews = driver.find_elements_by_css_selector('ul.list-style-review>li')\n",
    "len(reviews)"
   ]
  },
  {
   "cell_type": "code",
   "execution_count": 20,
   "metadata": {},
   "outputs": [
    {
     "data": {
      "text/plain": [
       "[<selenium.webdriver.remote.webelement.WebElement (session=\"c25c0c9eac8ba7ae68a274c521ac5ce3\", element=\"85730fa8-4256-4c26-ba45-f8474ccd7a7a\")>,\n",
       " <selenium.webdriver.remote.webelement.WebElement (session=\"c25c0c9eac8ba7ae68a274c521ac5ce3\", element=\"f1f83ba7-14c0-4e07-92d1-6121ef5828f1\")>,\n",
       " <selenium.webdriver.remote.webelement.WebElement (session=\"c25c0c9eac8ba7ae68a274c521ac5ce3\", element=\"3181f294-97c7-4784-be29-419b43d66d88\")>,\n",
       " <selenium.webdriver.remote.webelement.WebElement (session=\"c25c0c9eac8ba7ae68a274c521ac5ce3\", element=\"701e6ecc-ed7c-4a07-9a98-43cf349dc75a\")>,\n",
       " <selenium.webdriver.remote.webelement.WebElement (session=\"c25c0c9eac8ba7ae68a274c521ac5ce3\", element=\"6f1519a3-2908-45e6-bde6-20684118ffd3\")>,\n",
       " <selenium.webdriver.remote.webelement.WebElement (session=\"c25c0c9eac8ba7ae68a274c521ac5ce3\", element=\"635dbaba-4829-4ec7-a583-400bd45e330b\")>]"
      ]
     },
     "execution_count": 20,
     "metadata": {},
     "output_type": "execute_result"
    }
   ],
   "source": [
    "reviews"
   ]
  },
  {
   "cell_type": "code",
   "execution_count": 21,
   "metadata": {},
   "outputs": [],
   "source": [
    "review=reviews[0]"
   ]
  },
  {
   "cell_type": "code",
   "execution_count": 23,
   "metadata": {},
   "outputs": [
    {
     "data": {
      "text/plain": [
       "'민영♥'"
      ]
     },
     "execution_count": 23,
     "metadata": {},
     "output_type": "execute_result"
    }
   ],
   "source": [
    "nickname =review.find_elements_by_css_selector('a > div.clf > div > div.txt-block > em')[0].text\n",
    "nickname"
   ]
  },
  {
   "cell_type": "code",
   "execution_count": 24,
   "metadata": {},
   "outputs": [
    {
     "data": {
      "text/plain": [
       "''"
      ]
     },
     "execution_count": 24,
     "metadata": {},
     "output_type": "execute_result"
    }
   ],
   "source": [
    "content = review.find_elements_by_css_selector('a > div.area-txt > div > span')[0].text\n",
    "content"
   ]
  },
  {
   "cell_type": "code",
   "execution_count": 25,
   "metadata": {},
   "outputs": [
    {
     "data": {
      "text/plain": [
       "'5'"
      ]
     },
     "execution_count": 25,
     "metadata": {},
     "output_type": "execute_result"
    }
   ],
   "source": [
    "like = review.find_elements_by_css_selector('a > div.clf > span')[0].get_attribute('data-value')\n",
    "like"
   ]
  },
  {
   "cell_type": "code",
   "execution_count": 26,
   "metadata": {},
   "outputs": [
    {
     "data": {
      "text/plain": [
       "'2021년 5월 20일'"
      ]
     },
     "execution_count": 26,
     "metadata": {},
     "output_type": "execute_result"
    }
   ],
   "source": [
    "date = review.find_elements_by_css_selector('a > div.clf > div > div.txt-block > time')[0].text\n",
    "date"
   ]
  },
  {
   "cell_type": "code",
   "execution_count": 27,
   "metadata": {},
   "outputs": [
    {
     "name": "stdout",
     "output_type": "stream",
     "text": [
      "명품 브랜드에서 줄줄이 내놓는 핫아이템 라탄 트래블백 클래스|민영|2021년 5월 20일|5|\n",
      "명품 브랜드에서 줄줄이 내놓는 핫아이템 라탄 트래블백 클래스|수디닝|2021년 5월 19일|5|\n",
      "명품 브랜드에서 줄줄이 내놓는 핫아이템 라탄 트래블백 클래스|송다현|2021년 5월 19일|5|\n",
      "명품 브랜드에서 줄줄이 내놓는 핫아이템 라탄 트래블백 클래스|강미선|2021년 5월 17일|5|\n",
      "명품 브랜드에서 줄줄이 내놓는 핫아이템 라탄 트래블백 클래스|오윤서|2021년 5월 17일|5|ㅎ\n",
      "명품 브랜드에서 줄줄이 내놓는 핫아이템 라탄 트래블백 클래스|깡s|2021년 5월 13일|5|\n"
     ]
    }
   ],
   "source": [
    "reviews = driver.find_elements_by_css_selector('ul.list-style-review>li')\n",
    "for review in reviews:\n",
    "    # 제목 크롤링 시작\n",
    "    overlays = \"h2.sticky_aside__title\"                                 \n",
    "    tit = driver.find_element_by_css_selector(overlays)          # title\n",
    "    title = tit.text\n",
    "    title = re.sub(r\"[^ㄱ-ㅎ|ㅏ-ㅣ|가-힣|A-Z|a-z|0-9| ]\", \"\", title)\n",
    "    \n",
    "    nick = review.find_elements_by_css_selector('a > div.clf > div > div.txt-block > em')[0].text\n",
    "    nick = re.sub(r\"[^ㄱ-ㅎ|ㅏ-ㅣ|가-힣|A-Z|a-z|0-9|.|,| ]\", \"\", nick)\n",
    "    \n",
    "    date = review.find_elements_by_css_selector('a > div.clf > div > div.txt-block > time')[0].text\n",
    "    \n",
    "    like = review.find_elements_by_css_selector('a > div.clf > span')[0].get_attribute('data-value')\n",
    "    \n",
    "    content = review.find_elements_by_css_selector('a > div.area-txt > div > span')[0].text\n",
    "    content = re.sub(r\"[^ㄱ-ㅎ|ㅏ-ㅣ|가-힣|A-Z|a-z|0-9|.|,| ]\", \"\", content)\n",
    "    \n",
    "    print(title,nick, date, like, content,sep='|')"
   ]
  },
  {
   "cell_type": "code",
   "execution_count": 28,
   "metadata": {},
   "outputs": [],
   "source": [
    "try:\n",
    "     # 댓글 클릭\n",
    "    driver.find_element_by_link_text(\"댓글\").click( )\n",
    "    time.sleep(2)\n",
    "\n",
    "    # n: 반복할 횟수 설정, '더보기' 클릭\n",
    "    n = 15\n",
    "    i = 0\n",
    "    while i < n: # 이 조건이 만족되는 동안 반복 실행\n",
    "        try:\n",
    "            time.sleep(2)\n",
    "            driver.find_element_by_css_selector(\"#edu-comment > div.comment_form > div > button > span\").click( ) #이전 댓글 더보기\n",
    "            i = i+1\n",
    "        except:\n",
    "            break\n",
    "\n",
    "except:\n",
    "    pass"
   ]
  },
  {
   "cell_type": "code",
   "execution_count": 30,
   "metadata": {},
   "outputs": [
    {
     "data": {
      "text/plain": [
       "52"
      ]
     },
     "execution_count": 30,
     "metadata": {},
     "output_type": "execute_result"
    }
   ],
   "source": [
    "comments = driver.find_elements_by_css_selector('ul.comment-ui>li')\n",
    "len(comments)"
   ]
  },
  {
   "cell_type": "code",
   "execution_count": 33,
   "metadata": {},
   "outputs": [],
   "source": [
    "comment=comments[0]"
   ]
  },
  {
   "cell_type": "code",
   "execution_count": 34,
   "metadata": {},
   "outputs": [
    {
     "data": {
      "text/plain": [
       "'정유미'"
      ]
     },
     "execution_count": 34,
     "metadata": {},
     "output_type": "execute_result"
    }
   ],
   "source": [
    "comment_nickname =comment.find_elements_by_css_selector('div.comment-block > div > span')[0].text\n",
    "comment_nickname"
   ]
  },
  {
   "cell_type": "code",
   "execution_count": 35,
   "metadata": {},
   "outputs": [
    {
     "data": {
      "text/plain": [
       "'너무 기대가 됩니다♡♡'"
      ]
     },
     "execution_count": 35,
     "metadata": {},
     "output_type": "execute_result"
    }
   ],
   "source": [
    "comment_content = comment.find_elements_by_css_selector(' div.comment-block > div > p')[0].text\n",
    "comment_content"
   ]
  },
  {
   "cell_type": "markdown",
   "metadata": {},
   "source": [
    "# 합치기"
   ]
  },
  {
   "cell_type": "code",
   "execution_count": 65,
   "metadata": {},
   "outputs": [
    {
     "name": "stdout",
     "output_type": "stream",
     "text": [
      "74\n"
     ]
    },
    {
     "data": {
      "application/vnd.jupyter.widget-view+json": {
       "model_id": "0aed1b57e93646b6995e3e9f3a77dca2",
       "version_major": 2,
       "version_minor": 0
      },
      "text/plain": [
       "HBox(children=(FloatProgress(value=0.0, max=1.0), HTML(value='')))"
      ]
     },
     "metadata": {},
     "output_type": "display_data"
    },
    {
     "name": "stdout",
     "output_type": "stream",
     "text": [
      "명품 브랜드에서 줄줄이 내놓는 핫아이템 라탄 트래블백 클래스\n",
      "\n",
      "used time: 0m36s\n"
     ]
    }
   ],
   "source": [
    "import time\n",
    "import re\n",
    "import pandas as pd\n",
    "from tqdm.notebook import tqdm \n",
    "\n",
    "# url 불러오기\n",
    "url_load = pd.read_excel('./idus/idus_url_online.xlsx',engine='openpyxl')\n",
    "num_list = len(url_load)\n",
    "print(num_list) # 총 url 갯수\n",
    "url_load\n",
    "\n",
    "start = time.time() \n",
    "\n",
    "title_list = []\n",
    "nickname_list = []\n",
    "datetime_list = []\n",
    "like_list = []\n",
    "content_list = []\n",
    "comment_nickname = []\n",
    "comment_content = []\n",
    "\n",
    "# 수집한 url 돌면서 데이터 수집\n",
    "for i in tqdm(range(0, url_load)): # 끊긴 경우 여기 0대신해 시작 숫자만 변경하면 됨\n",
    "    driver = webdriver.Chrome('C:\\chrome\\chromedriver.exe')\n",
    "    driver.get(url_load.url[i])\n",
    "    time.sleep(2)\n",
    "    \n",
    "    try:\n",
    "        \n",
    "        target_info = {}\n",
    "        target_info_co = {} \n",
    "        \n",
    "        # 수강 후기 부분 -------------------------------------\n",
    "        try:\n",
    "             # 수강 후기 클릭\n",
    "            driver.find_element_by_link_text(\"수강 후기\").click( )\n",
    "            time.sleep(2)\n",
    "\n",
    "            # n: 반복할 횟수 설정, '더보기' 클릭\n",
    "            n = 6\n",
    "            i = 0\n",
    "            while i < n: # 이 조건이 만족되는 동안 반복 실행\n",
    "                try:\n",
    "                    time.sleep(2)\n",
    "                    driver.find_element_by_css_selector(\"#edu-review > div.pagination > div > button > span\").click( ) #더보기\n",
    "                    i = i+1\n",
    "                except:\n",
    "                    break\n",
    "\n",
    "        except:\n",
    "            pass\n",
    "\n",
    "        reviews = driver.find_elements_by_css_selector('ul.list-style-review>li')\n",
    "        for review in reviews:                     \n",
    "            title = driver.find_element_by_css_selector(\"h2.sticky_aside__title\").text        \n",
    "            title = re.sub(r\"[^ㄱ-ㅎ|ㅏ-ㅣ|가-힣|A-Z|a-z|0-9| ]\", \"\", title)\n",
    "            title_list.append(title)\n",
    "\n",
    "            nickname = review.find_elements_by_css_selector('a > div.clf > div > div.txt-block > em')[0].text\n",
    "            nickname = re.sub(r\"[^ㄱ-ㅎ|ㅏ-ㅣ|가-힣|A-Z|a-z|0-9|.|,| ]\", \"\", nickname)\n",
    "            nickname_list.append(nickname)\n",
    "\n",
    "            datetime = review.find_elements_by_css_selector('a > div.clf > div > div.txt-block > time')[0].text\n",
    "            datetime_list.append(datetime)\n",
    "\n",
    "            like = review.find_elements_by_css_selector('a > div.clf > span')[0].get_attribute('data-value')\n",
    "            like_list.append(like)\n",
    "\n",
    "            content = review.find_elements_by_css_selector('a > div.area-txt > div > span')[0].text\n",
    "            content = re.sub(r\"[^ㄱ-ㅎ|ㅏ-ㅣ|가-힣|A-Z|a-z|0-9|.|,| ]\", \" \", content) \n",
    "            content_list.append(content)\n",
    "        \n",
    "        \n",
    "        # 댓글 부분 ------------------------------------------\n",
    "        try:\n",
    "             # 댓글 클릭\n",
    "            driver.find_element_by_link_text(\"댓글\").click( )\n",
    "            time.sleep(2)\n",
    "\n",
    "            # n: 반복할 횟수 설정, '더보기' 클릭\n",
    "            n = 15\n",
    "            i = 0\n",
    "            while i < n: # 이 조건이 만족되는 동안 반복 실행\n",
    "                try:\n",
    "                    time.sleep(2)\n",
    "                    driver.find_element_by_css_selector(\"#edu-comment > div.comment_form > div > button > span\").click( ) #이전 댓글 더보기\n",
    "                    i = i+1\n",
    "                except:\n",
    "                    break\n",
    "\n",
    "        except:\n",
    "            pass \n",
    "        \n",
    "        comments = driver.find_elements_by_css_selector('ul.comment-ui>li') \n",
    "        for comment in comments:                     \n",
    "            comment_nick =comment.find_elements_by_css_selector('div.comment-block > div > span')[0].text\n",
    "            comment_nick = re.sub(r\"[^ㄱ-ㅎ|ㅏ-ㅣ|가-힣|A-Z|a-z|0-9|.|,| ]\", \"\", comment_nick)\n",
    "            comment_nickname.append(comment_nick)\n",
    "\n",
    "            comment_con = comment.find_elements_by_css_selector(' div.comment-block > div > p')[0].text\n",
    "            comment_con = re.sub(r\"[^ㄱ-ㅎ|ㅏ-ㅣ|가-힣|A-Z|a-z|0-9|.|,| ]\", \" \", comment_con)\n",
    "            comment_content.append(comment_con)           \n",
    "\n",
    "        # 크롤링이 성공하면 글 제목을 출력하게 되고,\n",
    "        print(title)\n",
    "\n",
    "        # 글 하나 크롤링 후 크롬 창을 닫습니다.\n",
    "        driver.close()\n",
    "    \n",
    "    # 에러나면 현재 크롬창을 닫고 다음 글(i+1)로 이동\n",
    "    except Exception as e:\n",
    "        driver.close()\n",
    "        print('실패', e, type(e))\n",
    "        continue\n",
    "        \n",
    "end = time.time() - start\n",
    "print(\"used time: %dm%ds\" % divmod(end,60))\n",
    "        \n",
    "target_info['title'] = title_list\n",
    "target_info['nickname'] = nickname_list\n",
    "target_info['datetime'] = datetime_list\n",
    "target_info['like'] = like_list\n",
    "target_info['content'] = content_list\n",
    "target_info_co['comment_nickname'] = comment_nickname\n",
    "target_info_co['comment_content'] = comment_content\n",
    "\n"
   ]
  },
  {
   "cell_type": "code",
   "execution_count": 66,
   "metadata": {},
   "outputs": [
    {
     "data": {
      "text/html": [
       "<div>\n",
       "<style scoped>\n",
       "    .dataframe tbody tr th:only-of-type {\n",
       "        vertical-align: middle;\n",
       "    }\n",
       "\n",
       "    .dataframe tbody tr th {\n",
       "        vertical-align: top;\n",
       "    }\n",
       "\n",
       "    .dataframe thead th {\n",
       "        text-align: right;\n",
       "    }\n",
       "</style>\n",
       "<table border=\"1\" class=\"dataframe\">\n",
       "  <thead>\n",
       "    <tr style=\"text-align: right;\">\n",
       "      <th></th>\n",
       "      <th>title</th>\n",
       "      <th>nickname</th>\n",
       "      <th>datetime</th>\n",
       "      <th>like</th>\n",
       "      <th>content</th>\n",
       "    </tr>\n",
       "  </thead>\n",
       "  <tbody>\n",
       "    <tr>\n",
       "      <th>0</th>\n",
       "      <td>명품 브랜드에서 줄줄이 내놓는 핫아이템 라탄 트래블백 클래스</td>\n",
       "      <td>민영</td>\n",
       "      <td>2021년 5월 20일</td>\n",
       "      <td>5</td>\n",
       "      <td></td>\n",
       "    </tr>\n",
       "    <tr>\n",
       "      <th>1</th>\n",
       "      <td>명품 브랜드에서 줄줄이 내놓는 핫아이템 라탄 트래블백 클래스</td>\n",
       "      <td>수디닝</td>\n",
       "      <td>2021년 5월 19일</td>\n",
       "      <td>5</td>\n",
       "      <td></td>\n",
       "    </tr>\n",
       "    <tr>\n",
       "      <th>2</th>\n",
       "      <td>명품 브랜드에서 줄줄이 내놓는 핫아이템 라탄 트래블백 클래스</td>\n",
       "      <td>송다현</td>\n",
       "      <td>2021년 5월 19일</td>\n",
       "      <td>5</td>\n",
       "      <td></td>\n",
       "    </tr>\n",
       "    <tr>\n",
       "      <th>3</th>\n",
       "      <td>명품 브랜드에서 줄줄이 내놓는 핫아이템 라탄 트래블백 클래스</td>\n",
       "      <td>강미선</td>\n",
       "      <td>2021년 5월 17일</td>\n",
       "      <td>5</td>\n",
       "      <td></td>\n",
       "    </tr>\n",
       "    <tr>\n",
       "      <th>4</th>\n",
       "      <td>명품 브랜드에서 줄줄이 내놓는 핫아이템 라탄 트래블백 클래스</td>\n",
       "      <td>오윤서</td>\n",
       "      <td>2021년 5월 17일</td>\n",
       "      <td>5</td>\n",
       "      <td>ㅎ</td>\n",
       "    </tr>\n",
       "    <tr>\n",
       "      <th>5</th>\n",
       "      <td>명품 브랜드에서 줄줄이 내놓는 핫아이템 라탄 트래블백 클래스</td>\n",
       "      <td>깡s</td>\n",
       "      <td>2021년 5월 13일</td>\n",
       "      <td>5</td>\n",
       "      <td></td>\n",
       "    </tr>\n",
       "  </tbody>\n",
       "</table>\n",
       "</div>"
      ],
      "text/plain": [
       "                               title nickname      datetime like content\n",
       "0  명품 브랜드에서 줄줄이 내놓는 핫아이템 라탄 트래블백 클래스       민영  2021년 5월 20일    5        \n",
       "1  명품 브랜드에서 줄줄이 내놓는 핫아이템 라탄 트래블백 클래스      수디닝  2021년 5월 19일    5        \n",
       "2  명품 브랜드에서 줄줄이 내놓는 핫아이템 라탄 트래블백 클래스      송다현  2021년 5월 19일    5        \n",
       "3  명품 브랜드에서 줄줄이 내놓는 핫아이템 라탄 트래블백 클래스      강미선  2021년 5월 17일    5        \n",
       "4  명품 브랜드에서 줄줄이 내놓는 핫아이템 라탄 트래블백 클래스      오윤서  2021년 5월 17일    5       ㅎ\n",
       "5  명품 브랜드에서 줄줄이 내놓는 핫아이템 라탄 트래블백 클래스       깡s  2021년 5월 13일    5        "
      ]
     },
     "execution_count": 66,
     "metadata": {},
     "output_type": "execute_result"
    }
   ],
   "source": [
    "import pandas as pd\n",
    "columns = ['title', 'nickname', 'datetime', 'like', 'content'] # review 부분\n",
    "result_df = pd.DataFrame(target_info,columns=columns)\n",
    "result_df"
   ]
  },
  {
   "cell_type": "code",
   "execution_count": 69,
   "metadata": {},
   "outputs": [
    {
     "data": {
      "text/html": [
       "<div>\n",
       "<style scoped>\n",
       "    .dataframe tbody tr th:only-of-type {\n",
       "        vertical-align: middle;\n",
       "    }\n",
       "\n",
       "    .dataframe tbody tr th {\n",
       "        vertical-align: top;\n",
       "    }\n",
       "\n",
       "    .dataframe thead th {\n",
       "        text-align: right;\n",
       "    }\n",
       "</style>\n",
       "<table border=\"1\" class=\"dataframe\">\n",
       "  <thead>\n",
       "    <tr style=\"text-align: right;\">\n",
       "      <th></th>\n",
       "      <th>comment_nickname</th>\n",
       "      <th>comment_content</th>\n",
       "    </tr>\n",
       "  </thead>\n",
       "  <tbody>\n",
       "    <tr>\n",
       "      <th>0</th>\n",
       "      <td>정유미</td>\n",
       "      <td>너무 기대가 됩니다</td>\n",
       "    </tr>\n",
       "    <tr>\n",
       "      <th>1</th>\n",
       "      <td>슬기</td>\n",
       "      <td>기대되고 응원해용</td>\n",
       "    </tr>\n",
       "    <tr>\n",
       "      <th>2</th>\n",
       "      <td>정화</td>\n",
       "      <td>도시락 만들기 실패했는데   아   관심 진짜 많은 1인입니당</td>\n",
       "    </tr>\n",
       "    <tr>\n",
       "      <th>3</th>\n",
       "      <td>배세희</td>\n",
       "      <td>꼭 진행되었으면 좋겠어요</td>\n",
       "    </tr>\n",
       "    <tr>\n",
       "      <th>4</th>\n",
       "      <td>김미숙</td>\n",
       "      <td>응원합니다</td>\n",
       "    </tr>\n",
       "  </tbody>\n",
       "</table>\n",
       "</div>"
      ],
      "text/plain": [
       "  comment_nickname                      comment_content\n",
       "0              정유미                         너무 기대가 됩니다  \n",
       "1               슬기       기대되고 응원해용                     \n",
       "2               정화  도시락 만들기 실패했는데   아   관심 진짜 많은 1인입니당 \n",
       "3              배세희                        꼭 진행되었으면 좋겠어요\n",
       "4              김미숙                               응원합니다 "
      ]
     },
     "execution_count": 69,
     "metadata": {},
     "output_type": "execute_result"
    }
   ],
   "source": [
    "import pandas as pd\n",
    "columns = ['comment_nickname', 'comment_content'] # comment 부분\n",
    "result_df_co = pd.DataFrame(target_info_co,columns=columns)\n",
    "result_df_co.head()"
   ]
  },
  {
   "cell_type": "markdown",
   "metadata": {},
   "source": [
    "# 엑셀 저장"
   ]
  },
  {
   "cell_type": "code",
   "execution_count": 70,
   "metadata": {},
   "outputs": [],
   "source": [
    "import pandas as pd\n",
    "columns = ['title', 'nickname', 'datetime', 'like', 'content'] # review 부분\n",
    "result_df = pd.DataFrame(target_info,columns=columns)\n",
    "result_df\n",
    "result_df.to_excel('./idus/review_result_online.xlsx',encoding='utf-8-sig', index=False)\n",
    "\n",
    "columns = ['comment_nickname', 'comment_content'] # comment 부분\n",
    "result_df_co = pd.DataFrame(target_info_co,columns=columns)\n",
    "result_df_co.to_excel('./idus/comment_result_online.xlsx',encoding='utf-8-sig', index=False)"
   ]
  }
 ],
 "metadata": {
  "kernelspec": {
   "display_name": "Python 3",
   "language": "python",
   "name": "python3"
  },
  "language_info": {
   "codemirror_mode": {
    "name": "ipython",
    "version": 3
   },
   "file_extension": ".py",
   "mimetype": "text/x-python",
   "name": "python",
   "nbconvert_exporter": "python",
   "pygments_lexer": "ipython3",
   "version": "3.8.3"
  }
 },
 "nbformat": 4,
 "nbformat_minor": 4
}
